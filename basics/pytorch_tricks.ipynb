{
 "cells": [
  {
   "cell_type": "markdown",
   "source": "# Some Simple PyTorch Tricks",
   "metadata": {
    "tags": [],
    "is_collapsed": false,
    "cell_id": "00000-e32b24d8-f78e-4466-a9f8-c6a751029d2a",
    "deepnote_cell_type": "text-cell-h1"
   }
  },
  {
   "cell_type": "code",
   "metadata": {
    "tags": [],
    "cell_id": "00000-279910e3-3f12-4b81-8bd2-2372e060f067",
    "deepnote_to_be_reexecuted": false,
    "source_hash": "dd32fe6c",
    "execution_start": 1636110715470,
    "execution_millis": 3457,
    "deepnote_cell_type": "code"
   },
   "source": "import torch",
   "execution_count": null,
   "outputs": []
  },
  {
   "cell_type": "markdown",
   "source": "## sum",
   "metadata": {
    "tags": [],
    "is_collapsed": false,
    "cell_id": "00002-10a7bb04-6c44-46e1-9b5d-d6cc42687c1e",
    "deepnote_cell_type": "text-cell-h2"
   }
  },
  {
   "cell_type": "code",
   "metadata": {
    "tags": [],
    "cell_id": "00002-2937f1e8-ed3d-4209-b0c6-45d4b18ff5ac",
    "deepnote_to_be_reexecuted": false,
    "source_hash": "52a914bf",
    "execution_start": 1636110718937,
    "execution_millis": 158,
    "deepnote_cell_type": "code"
   },
   "source": "rdn_tensor = torch.randn(2,2)\nrdn_tensor",
   "execution_count": null,
   "outputs": [
    {
     "output_type": "execute_result",
     "execution_count": 2,
     "data": {
      "text/plain": "tensor([[ 1.1040, -0.1249],\n        [ 0.2907,  0.3172]])"
     },
     "metadata": {}
    }
   ]
  },
  {
   "cell_type": "code",
   "metadata": {
    "tags": [],
    "cell_id": "00004-bcd3aff5-d556-4765-b541-ad5455c0a4c4",
    "deepnote_to_be_reexecuted": false,
    "source_hash": "b2515c07",
    "execution_start": 1636110719069,
    "execution_millis": 31,
    "deepnote_cell_type": "code"
   },
   "source": "rdn_tensor.sum(0)",
   "execution_count": null,
   "outputs": [
    {
     "output_type": "execute_result",
     "execution_count": 3,
     "data": {
      "text/plain": "tensor([1.3946, 0.1923])"
     },
     "metadata": {}
    }
   ]
  },
  {
   "cell_type": "code",
   "metadata": {
    "tags": [],
    "cell_id": "00005-245d4148-88d1-4a03-8a0b-3ac9c66665ad",
    "deepnote_to_be_reexecuted": false,
    "source_hash": "209cfd49",
    "execution_start": 1636110719099,
    "execution_millis": 14,
    "deepnote_cell_type": "code"
   },
   "source": "rdn_tensor.sum(-1)",
   "execution_count": null,
   "outputs": [
    {
     "output_type": "execute_result",
     "execution_count": 4,
     "data": {
      "text/plain": "tensor([0.9790, 0.6079])"
     },
     "metadata": {}
    }
   ]
  },
  {
   "cell_type": "code",
   "metadata": {
    "tags": [],
    "cell_id": "00006-2a2f412e-0a6f-4e02-b6be-2813ee43e638",
    "deepnote_to_be_reexecuted": false,
    "source_hash": "455394e8",
    "execution_start": 1636110719175,
    "execution_millis": 0,
    "deepnote_cell_type": "code"
   },
   "source": "rdn_tensor.sum(0, keepdim=True)",
   "execution_count": null,
   "outputs": [
    {
     "output_type": "execute_result",
     "execution_count": 5,
     "data": {
      "text/plain": "tensor([[1.3946, 0.1923]])"
     },
     "metadata": {}
    }
   ]
  },
  {
   "cell_type": "code",
   "metadata": {
    "tags": [],
    "cell_id": "00007-d9e178dc-0980-4050-9a49-b98becd410e9",
    "deepnote_to_be_reexecuted": false,
    "source_hash": "b623e53d",
    "execution_start": 1636110719176,
    "execution_millis": 1,
    "deepnote_cell_type": "code"
   },
   "source": "",
   "execution_count": null,
   "outputs": []
  },
  {
   "cell_type": "markdown",
   "source": "## parameters",
   "metadata": {
    "tags": [],
    "is_collapsed": false,
    "cell_id": "00008-89634db0-dd3b-4fe5-89cd-0084b1ace3f9",
    "deepnote_cell_type": "text-cell-h2"
   }
  },
  {
   "cell_type": "code",
   "metadata": {
    "tags": [],
    "cell_id": "00009-e7ea9828-cb45-4c06-a324-66236692ef51",
    "deepnote_to_be_reexecuted": false,
    "source_hash": "4307b25a",
    "execution_start": 1636110719219,
    "execution_millis": 0,
    "deepnote_cell_type": "code"
   },
   "source": "pararmeters_linear = torch.nn.Linear(2,1)\npararmeters_linear",
   "execution_count": null,
   "outputs": [
    {
     "output_type": "execute_result",
     "execution_count": 6,
     "data": {
      "text/plain": "Linear(in_features=2, out_features=1, bias=True)"
     },
     "metadata": {}
    }
   ]
  },
  {
   "cell_type": "code",
   "metadata": {
    "tags": [],
    "cell_id": "00010-4cf4f25c-12e3-441a-99e6-70890d1fa240",
    "deepnote_to_be_reexecuted": false,
    "source_hash": "174f5053",
    "execution_start": 1636110719274,
    "execution_millis": 1763005,
    "deepnote_cell_type": "code"
   },
   "source": "pararmeters_linear_weights, pararmeters_linear_biases = pararmeters_linear.parameters()",
   "execution_count": null,
   "outputs": []
  },
  {
   "cell_type": "code",
   "metadata": {
    "tags": [],
    "cell_id": "00011-a8483a1d-e003-4add-8684-76b4b313e55a",
    "deepnote_to_be_reexecuted": false,
    "source_hash": "8af53f79",
    "execution_start": 1636110719340,
    "execution_millis": 1763036,
    "deepnote_cell_type": "code"
   },
   "source": "pararmeters_linear_weights",
   "execution_count": null,
   "outputs": [
    {
     "output_type": "execute_result",
     "execution_count": 8,
     "data": {
      "text/plain": "Parameter containing:\ntensor([[ 0.0198, -0.0294]], requires_grad=True)"
     },
     "metadata": {}
    }
   ]
  },
  {
   "cell_type": "code",
   "metadata": {
    "tags": [],
    "cell_id": "00012-ccc3ee78-c5b5-42cd-b45e-3eb440759c60",
    "deepnote_to_be_reexecuted": false,
    "source_hash": "c62cba50",
    "execution_start": 1636110719387,
    "execution_millis": 1763111,
    "deepnote_cell_type": "code"
   },
   "source": "pararmeters_linear_biases",
   "execution_count": null,
   "outputs": [
    {
     "output_type": "execute_result",
     "execution_count": 9,
     "data": {
      "text/plain": "Parameter containing:\ntensor([0.4163], requires_grad=True)"
     },
     "metadata": {}
    }
   ]
  },
  {
   "cell_type": "code",
   "metadata": {
    "tags": [],
    "cell_id": "00013-388d3389-8d01-4363-ac7b-474acdb76ccc",
    "deepnote_to_be_reexecuted": false,
    "source_hash": "b623e53d",
    "execution_start": 1636110719387,
    "execution_millis": 1763088,
    "deepnote_cell_type": "code"
   },
   "source": "",
   "execution_count": null,
   "outputs": []
  },
  {
   "cell_type": "markdown",
   "source": "## nonzero",
   "metadata": {
    "tags": [],
    "is_collapsed": false,
    "cell_id": "00014-40277a8b-2092-4a74-92ab-090b871ec9cf",
    "deepnote_cell_type": "text-cell-h2"
   }
  },
  {
   "cell_type": "code",
   "metadata": {
    "tags": [],
    "cell_id": "00015-9afaab67-e3ee-490a-8bc7-d5c61dea6a42",
    "deepnote_to_be_reexecuted": false,
    "source_hash": "d65942f8",
    "execution_start": 1636110719388,
    "execution_millis": 1750764,
    "deepnote_cell_type": "code"
   },
   "source": "rdn_tensor",
   "execution_count": null,
   "outputs": [
    {
     "output_type": "execute_result",
     "execution_count": 10,
     "data": {
      "text/plain": "tensor([[ 1.1040, -0.1249],\n        [ 0.2907,  0.3172]])"
     },
     "metadata": {}
    }
   ]
  },
  {
   "cell_type": "code",
   "metadata": {
    "tags": [],
    "cell_id": "00016-aae3e3d9-5e73-47ea-bb4d-1edacc1ff946",
    "deepnote_to_be_reexecuted": false,
    "source_hash": "9482616a",
    "execution_start": 1636110719433,
    "execution_millis": 253,
    "deepnote_cell_type": "code"
   },
   "source": "rdn_tensor.nonzero()",
   "execution_count": null,
   "outputs": [
    {
     "output_type": "execute_result",
     "execution_count": 11,
     "data": {
      "text/plain": "tensor([[0, 0],\n        [0, 1],\n        [1, 0],\n        [1, 1]])"
     },
     "metadata": {}
    }
   ]
  },
  {
   "cell_type": "markdown",
   "source": "## view",
   "metadata": {
    "tags": [],
    "is_collapsed": false,
    "cell_id": "00017-7c1ad9b8-664b-4954-bfa4-ac80c9d643cc",
    "deepnote_cell_type": "text-cell-h2"
   }
  },
  {
   "cell_type": "code",
   "metadata": {
    "tags": [],
    "cell_id": "00017-02c728c9-8f19-4f5d-8d63-1e7a90477331",
    "deepnote_to_be_reexecuted": false,
    "source_hash": "39e45447",
    "execution_start": 1636110719709,
    "execution_millis": 47,
    "deepnote_cell_type": "code"
   },
   "source": "rdn_tensor.view(4,-1)",
   "execution_count": null,
   "outputs": [
    {
     "output_type": "execute_result",
     "execution_count": 12,
     "data": {
      "text/plain": "tensor([[ 1.1040],\n        [-0.1249],\n        [ 0.2907],\n        [ 0.3172]])"
     },
     "metadata": {}
    }
   ]
  },
  {
   "cell_type": "markdown",
   "source": "## ...",
   "metadata": {
    "tags": [],
    "is_collapsed": false,
    "cell_id": "00019-0b3006a0-f519-4f4f-bb43-a3d4f6e76844",
    "deepnote_cell_type": "text-cell-h2"
   }
  },
  {
   "cell_type": "code",
   "metadata": {
    "tags": [],
    "cell_id": "00020-49ea9c8c-849b-4a30-bec8-c6aa9b8ed2b0",
    "deepnote_to_be_reexecuted": false,
    "source_hash": "7b6653bb",
    "execution_start": 1636110742515,
    "execution_millis": 9,
    "deepnote_cell_type": "code"
   },
   "source": "rdn_tensor[...]",
   "execution_count": null,
   "outputs": [
    {
     "output_type": "execute_result",
     "execution_count": 15,
     "data": {
      "text/plain": "tensor([[ 1.1040, -0.1249],\n        [ 0.2907,  0.3172]])"
     },
     "metadata": {}
    }
   ]
  },
  {
   "cell_type": "code",
   "metadata": {
    "tags": [],
    "cell_id": "00019-14649302-f7dc-4449-878d-cfb1c33537b0",
    "deepnote_to_be_reexecuted": false,
    "source_hash": "6493388e",
    "execution_start": 1636110730190,
    "execution_millis": 15,
    "deepnote_cell_type": "code"
   },
   "source": "rdn_tensor[..., None]",
   "execution_count": null,
   "outputs": [
    {
     "output_type": "execute_result",
     "execution_count": 14,
     "data": {
      "text/plain": "tensor([[[ 1.1040],\n         [-0.1249]],\n\n        [[ 0.2907],\n         [ 0.3172]]])"
     },
     "metadata": {}
    }
   ]
  },
  {
   "cell_type": "code",
   "metadata": {
    "tags": [],
    "cell_id": "00022-d15cfedc-7f54-4b29-b762-1543bb7d9604",
    "deepnote_to_be_reexecuted": false,
    "source_hash": "70b0d08d",
    "execution_start": 1636110776797,
    "execution_millis": 18,
    "deepnote_cell_type": "code"
   },
   "source": "rdn_tensor.size()",
   "execution_count": null,
   "outputs": [
    {
     "output_type": "execute_result",
     "execution_count": 18,
     "data": {
      "text/plain": "torch.Size([2, 2])"
     },
     "metadata": {}
    }
   ]
  },
  {
   "cell_type": "code",
   "metadata": {
    "tags": [],
    "cell_id": "00022-40b0e5cd-d86c-4c9f-a07a-540b98f1293b",
    "deepnote_to_be_reexecuted": false,
    "source_hash": "b04d4366",
    "execution_start": 1636110761286,
    "execution_millis": 14,
    "deepnote_cell_type": "code"
   },
   "source": "rdn_tensor[...].size()",
   "execution_count": null,
   "outputs": [
    {
     "output_type": "execute_result",
     "execution_count": 17,
     "data": {
      "text/plain": "torch.Size([2, 2])"
     },
     "metadata": {}
    }
   ]
  },
  {
   "cell_type": "code",
   "metadata": {
    "tags": [],
    "cell_id": "00021-aeba36f0-03cd-4a95-9e39-fc1844d2861a",
    "deepnote_to_be_reexecuted": false,
    "source_hash": "10ea6a3f",
    "execution_start": 1636110751818,
    "execution_millis": 12,
    "deepnote_cell_type": "code"
   },
   "source": "rdn_tensor[..., None].size()",
   "execution_count": null,
   "outputs": [
    {
     "output_type": "execute_result",
     "execution_count": 16,
     "data": {
      "text/plain": "torch.Size([2, 2, 1])"
     },
     "metadata": {}
    }
   ]
  },
  {
   "cell_type": "markdown",
   "source": "## Repeat",
   "metadata": {
    "tags": [],
    "is_collapsed": false,
    "cell_id": "00025-4d371918-f984-45de-ba65-4e5521f3f883",
    "deepnote_cell_type": "text-cell-h2"
   }
  },
  {
   "cell_type": "code",
   "metadata": {
    "tags": [],
    "cell_id": "00023-9197ffb0-ec34-47fa-a6ca-5683ddcc2637",
    "deepnote_cell_type": "code"
   },
   "source": "",
   "execution_count": null,
   "outputs": []
  },
  {
   "cell_type": "markdown",
   "source": "<a style='text-decoration:none;line-height:16px;display:flex;color:#5B5B62;padding:10px;justify-content:end;' href='https://deepnote.com?utm_source=created-in-deepnote-cell&projectId=c8a1762a-62b2-46cf-95c0-ea77984dacfd' target=\"_blank\">\n<img alt='Created in deepnote.com' style='display:inline;max-height:16px;margin:0px;margin-right:7.5px;' src='data:image/svg+xml;base64,PD94bWwgdmVyc2lvbj0iMS4wIiBlbmNvZGluZz0iVVRGLTgiPz4KPHN2ZyB3aWR0aD0iODBweCIgaGVpZ2h0PSI4MHB4IiB2aWV3Qm94PSIwIDAgODAgODAiIHZlcnNpb249IjEuMSIgeG1sbnM9Imh0dHA6Ly93d3cudzMub3JnLzIwMDAvc3ZnIiB4bWxuczp4bGluaz0iaHR0cDovL3d3dy53My5vcmcvMTk5OS94bGluayI+CiAgICA8IS0tIEdlbmVyYXRvcjogU2tldGNoIDU0LjEgKDc2NDkwKSAtIGh0dHBzOi8vc2tldGNoYXBwLmNvbSAtLT4KICAgIDx0aXRsZT5Hcm91cCAzPC90aXRsZT4KICAgIDxkZXNjPkNyZWF0ZWQgd2l0aCBTa2V0Y2guPC9kZXNjPgogICAgPGcgaWQ9IkxhbmRpbmciIHN0cm9rZT0ibm9uZSIgc3Ryb2tlLXdpZHRoPSIxIiBmaWxsPSJub25lIiBmaWxsLXJ1bGU9ImV2ZW5vZGQiPgogICAgICAgIDxnIGlkPSJBcnRib2FyZCIgdHJhbnNmb3JtPSJ0cmFuc2xhdGUoLTEyMzUuMDAwMDAwLCAtNzkuMDAwMDAwKSI+CiAgICAgICAgICAgIDxnIGlkPSJHcm91cC0zIiB0cmFuc2Zvcm09InRyYW5zbGF0ZSgxMjM1LjAwMDAwMCwgNzkuMDAwMDAwKSI+CiAgICAgICAgICAgICAgICA8cG9seWdvbiBpZD0iUGF0aC0yMCIgZmlsbD0iIzAyNjVCNCIgcG9pbnRzPSIyLjM3NjIzNzYyIDgwIDM4LjA0NzY2NjcgODAgNTcuODIxNzgyMiA3My44MDU3NTkyIDU3LjgyMTc4MjIgMzIuNzU5MjczOSAzOS4xNDAyMjc4IDMxLjY4MzE2ODMiPjwvcG9seWdvbj4KICAgICAgICAgICAgICAgIDxwYXRoIGQ9Ik0zNS4wMDc3MTgsODAgQzQyLjkwNjIwMDcsNzYuNDU0OTM1OCA0Ny41NjQ5MTY3LDcxLjU0MjI2NzEgNDguOTgzODY2LDY1LjI2MTk5MzkgQzUxLjExMjI4OTksNTUuODQxNTg0MiA0MS42NzcxNzk1LDQ5LjIxMjIyODQgMjUuNjIzOTg0Niw0OS4yMTIyMjg0IEMyNS40ODQ5Mjg5LDQ5LjEyNjg0NDggMjkuODI2MTI5Niw0My4yODM4MjQ4IDM4LjY0NzU4NjksMzEuNjgzMTY4MyBMNzIuODcxMjg3MSwzMi41NTQ0MjUgTDY1LjI4MDk3Myw2Ny42NzYzNDIxIEw1MS4xMTIyODk5LDc3LjM3NjE0NCBMMzUuMDA3NzE4LDgwIFoiIGlkPSJQYXRoLTIyIiBmaWxsPSIjMDAyODY4Ij48L3BhdGg+CiAgICAgICAgICAgICAgICA8cGF0aCBkPSJNMCwzNy43MzA0NDA1IEwyNy4xMTQ1MzcsMC4yNTcxMTE0MzYgQzYyLjM3MTUxMjMsLTEuOTkwNzE3MDEgODAsMTAuNTAwMzkyNyA4MCwzNy43MzA0NDA1IEM4MCw2NC45NjA0ODgyIDY0Ljc3NjUwMzgsNzkuMDUwMzQxNCAzNC4zMjk1MTEzLDgwIEM0Ny4wNTUzNDg5LDc3LjU2NzA4MDggNTMuNDE4MjY3Nyw3MC4zMTM2MTAzIDUzLjQxODI2NzcsNTguMjM5NTg4NSBDNTMuNDE4MjY3Nyw0MC4xMjg1NTU3IDM2LjMwMzk1NDQsMzcuNzMwNDQwNSAyNS4yMjc0MTcsMzcuNzMwNDQwNSBDMTcuODQzMDU4NiwzNy43MzA0NDA1IDkuNDMzOTE5NjYsMzcuNzMwNDQwNSAwLDM3LjczMDQ0MDUgWiIgaWQ9IlBhdGgtMTkiIGZpbGw9IiMzNzkzRUYiPjwvcGF0aD4KICAgICAgICAgICAgPC9nPgogICAgICAgIDwvZz4KICAgIDwvZz4KPC9zdmc+' > </img>\nCreated in <span style='font-weight:600;margin-left:4px;'>Deepnote</span></a>",
   "metadata": {
    "tags": [],
    "created_in_deepnote_cell": true,
    "deepnote_cell_type": "markdown"
   }
  }
 ],
 "nbformat": 4,
 "nbformat_minor": 2,
 "metadata": {
  "orig_nbformat": 2,
  "deepnote": {
   "is_reactive": false
  },
  "deepnote_notebook_id": "80f9282b-8b71-4f4a-98bb-92085685d739",
  "deepnote_execution_queue": []
 }
}