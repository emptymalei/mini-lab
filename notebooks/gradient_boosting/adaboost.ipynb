{
 "cells": [
  {
   "cell_type": "markdown",
   "source": "# Adaboost",
   "metadata": {
    "tags": [],
    "is_collapsed": false,
    "cell_id": "00000-213e4d69-5d21-4f70-971e-65b29a5e4cf6",
    "deepnote_cell_type": "text-cell-h1"
   }
  },
  {
   "cell_type": "code",
   "metadata": {
    "tags": [],
    "cell_id": "00000-e02fb895-7936-4f07-90b4-433203122dfe",
    "deepnote_cell_type": "code"
   },
   "source": "",
   "execution_count": null,
   "outputs": []
  },
  {
   "cell_type": "code",
   "metadata": {
    "tags": [],
    "cell_id": "00000-f19fc1ff-8c3b-4b77-a773-b0c7bbc98aca",
    "deepnote_to_be_reexecuted": false,
    "source_hash": "91572a5a",
    "execution_start": 1634060039227,
    "execution_millis": 811,
    "deepnote_cell_type": "code"
   },
   "source": "from __future__ import division\nimport numpy as np\nimport matplotlib.pyplot as plt\nimport pandas as pd\nfrom tqdm import tqdm \n%matplotlib inline\nplt.rcParams[\"figure.figsize\"] = (10,8)",
   "execution_count": null,
   "outputs": []
  },
  {
   "cell_type": "code",
   "metadata": {
    "tags": [],
    "cell_id": "00003-561cedc4-1d9d-4b35-8d7d-5fa8f1d8ee89",
    "deepnote_to_be_reexecuted": false,
    "source_hash": "26b5f252",
    "execution_start": 1634060045998,
    "execution_millis": 0,
    "deepnote_cell_type": "code"
   },
   "source": "class LeastSquaresRegression(object):\n    def __init__(self):\n        self.weights = []\n    \n    def calcLeastSquares(self, X, y):\n        xtranspose = np.transpose(X)\n        xtransx = np.dot(xtranspose, X)\n        if xtransx.shape[0] != xtransx.shape[1]:\n            raise ValueError('Needs to be a square matrix for inverse')\n        matinv = np.linalg.inv(xtransx)\n        xtransy = np.dot(xtranspose, y)\n        self.weights = np.dot(matinv, xtransy)\n\n    def makePredictions(self, X):\n        class_output = np.dot(X, self.weights)\n        return np.sign(class_output)",
   "execution_count": null,
   "outputs": []
  },
  {
   "cell_type": "code",
   "metadata": {
    "tags": [],
    "cell_id": "00004-5ee07cd9-bf44-4f3c-b729-0e6a05574a58",
    "deepnote_to_be_reexecuted": false,
    "source_hash": "97573ba8",
    "execution_start": 1634060406233,
    "execution_millis": 1,
    "deepnote_cell_type": "code"
   },
   "source": "class Boosting(object):\n\n    def __init__(self, X_train, y_train):\n        self.X_train = X_train\n        self.N = self.X_train.shape[0]\n        self.y_train = y_train\n        self.weights = np.ones(self.N)/self.N\n        self.epsilont = []\n        self.alphas = []\n        self.classifiers = []\n        self.histogram = {}\n        #self.num_estimators = T\n        \n    def doBoosting(self):\n#         for t in range(self.num_estimators):\n        for t in range(1500):\n            output = np.random.choice(self.N, self.N, p=self.weights)\n            \n            for t in output:\n                self.histogram[t] = self.histogram.get(t, 0) + 1\n            \n#             print output\n            B_Xtrain = self.X_train[output]\n            B_ytrain = self.y_train[output]\n        \n            ls = LeastSquaresRegression()\n            ls.calcLeastSquares(B_Xtrain, B_ytrain)\n#             print ls.weights\n            Y_pred = ls.makePredictions(self.X_train)\n            \n#             print Y_pred\n            \n            e_t = np.sum((Y_pred != self.y_train) * self.weights)\n#             print e_t\n            if e_t > 0.5:\n                ls.weights = -ls.weights\n                Y_pred = ls.makePredictions(self.X_train)\n                e_t = np.sum((Y_pred != self.y_train) * self.weights)\n            \n#             print e_t\n            self.epsilont.append(e_t)\n\n            alpha_t = 0.5 * np.log((1 - e_t)/e_t)\n            self.alphas.append(alpha_t)\n            self.classifiers.append(ls)\n            \n#             print alpha_t   \n            self.weights = self.weights * np.exp(-alpha_t* Y_pred * self.y_train)\n            self.weights = self.weights / np.sum(self.weights)",
   "execution_count": null,
   "outputs": []
  },
  {
   "cell_type": "code",
   "metadata": {
    "tags": [],
    "cell_id": "00005-a5a6a36b-2913-4f08-94f1-9a93d616df48",
    "deepnote_to_be_reexecuted": false,
    "source_hash": "9ff0e73b",
    "execution_start": 1634060553667,
    "execution_millis": 53,
    "deepnote_cell_type": "code"
   },
   "source": "base_url = \"https://raw.githubusercontent.com/anujk3/ml_datasets/master/ml-boosting/\"\nX_train = pd.read_csv(f\"{base_url}X_test.csv\").values\ny_train = pd.read_csv(f\"{base_url}y_train.csv\").values\nX_test = pd.read_csv(f\"{base_url}X_test.csv\").values\ny_test = pd.read_csv(f\"{base_url}y_test.csv\").values\n\n\ndef append_column_one(data):    \n    append_ones = np.ones((data.shape[0],1))\n    data = np.hstack((append_ones, data))\n    return data\n\nX_train = append_column_one(X_train)\nX_test = append_column_one(X_test)",
   "execution_count": null,
   "outputs": []
  },
  {
   "cell_type": "code",
   "metadata": {
    "tags": [],
    "cell_id": "00006-79bf1409-068c-4a88-9040-812a09dec4af",
    "deepnote_to_be_reexecuted": false,
    "source_hash": "8b191ddc",
    "execution_start": 1634060553723,
    "execution_millis": 65,
    "deepnote_cell_type": "code"
   },
   "source": "training_error = []\ntesting_error = []\n\nboost = Boosting(X_train, y_train)\nboost.doBoosting()\n\nfor t in tqdm(range(1, 1501)):\n    sum_train = np.zeros(X_train.shape[0])\n    sum_test = np.zeros(X_test.shape[0])\n    for i in range(t):\n        alpha = boost.alphas[i]\n        classifier = boost.classifiers[i]\n#             print X_train.shape\n#             print classifier.weights.shape\n#             print np.dot(X_train, classifier.weights).shape\n        sum_train += (alpha * classifier.makePredictions(X_train))\n        sum_test += (alpha * classifier.makePredictions(X_test))\n    fboost_train_pred = np.sign(sum_train)\n    fboost_test_pred = np.sign(sum_test)\n\n    training_error.append(np.sum(fboost_train_pred != y_train)/y_train.shape[0])\n    testing_error.append(np.sum(fboost_test_pred != y_test)/y_test.shape[0])",
   "execution_count": null,
   "outputs": [
    {
     "name": "stderr",
     "text": "/shared-libs/python3.7/py-core/lib/python3.7/site-packages/ipykernel_launcher.py:33: DeprecationWarning: elementwise comparison failed; this will raise an error in the future.\n/shared-libs/python3.7/py-core/lib/python3.7/site-packages/ipykernel_launcher.py:38: DeprecationWarning: elementwise comparison failed; this will raise an error in the future.\n/shared-libs/python3.7/py-core/lib/python3.7/site-packages/ipykernel_launcher.py:43: RuntimeWarning: divide by zero encountered in log\n",
     "output_type": "stream"
    },
    {
     "output_type": "error",
     "ename": "ValueError",
     "evalue": "operands could not be broadcast together with shapes (999,1) (1035,1) ",
     "traceback": [
      "\u001b[0;31m---------------------------------------------------------------------------\u001b[0m",
      "\u001b[0;31mValueError\u001b[0m                                Traceback (most recent call last)",
      "\u001b[0;32m/tmp/ipykernel_86/1289104123.py\u001b[0m in \u001b[0;36m<module>\u001b[0;34m\u001b[0m\n\u001b[1;32m      3\u001b[0m \u001b[0;34m\u001b[0m\u001b[0m\n\u001b[1;32m      4\u001b[0m \u001b[0mboost\u001b[0m \u001b[0;34m=\u001b[0m \u001b[0mBoosting\u001b[0m\u001b[0;34m(\u001b[0m\u001b[0mX_train\u001b[0m\u001b[0;34m,\u001b[0m \u001b[0my_train\u001b[0m\u001b[0;34m)\u001b[0m\u001b[0;34m\u001b[0m\u001b[0;34m\u001b[0m\u001b[0m\n\u001b[0;32m----> 5\u001b[0;31m \u001b[0mboost\u001b[0m\u001b[0;34m.\u001b[0m\u001b[0mdoBoosting\u001b[0m\u001b[0;34m(\u001b[0m\u001b[0;34m)\u001b[0m\u001b[0;34m\u001b[0m\u001b[0;34m\u001b[0m\u001b[0m\n\u001b[0m\u001b[1;32m      6\u001b[0m \u001b[0;34m\u001b[0m\u001b[0m\n\u001b[1;32m      7\u001b[0m \u001b[0;32mfor\u001b[0m \u001b[0mt\u001b[0m \u001b[0;32min\u001b[0m \u001b[0mtqdm\u001b[0m\u001b[0;34m(\u001b[0m\u001b[0mrange\u001b[0m\u001b[0;34m(\u001b[0m\u001b[0;36m1\u001b[0m\u001b[0;34m,\u001b[0m \u001b[0;36m1501\u001b[0m\u001b[0;34m)\u001b[0m\u001b[0;34m)\u001b[0m\u001b[0;34m:\u001b[0m\u001b[0;34m\u001b[0m\u001b[0;34m\u001b[0m\u001b[0m\n",
      "\u001b[0;32m/tmp/ipykernel_86/689628307.py\u001b[0m in \u001b[0;36mdoBoosting\u001b[0;34m(self)\u001b[0m\n\u001b[1;32m     46\u001b[0m \u001b[0;34m\u001b[0m\u001b[0m\n\u001b[1;32m     47\u001b[0m \u001b[0;31m#             print alpha_t\u001b[0m\u001b[0;34m\u001b[0m\u001b[0;34m\u001b[0m\u001b[0;34m\u001b[0m\u001b[0m\n\u001b[0;32m---> 48\u001b[0;31m             \u001b[0mself\u001b[0m\u001b[0;34m.\u001b[0m\u001b[0mweights\u001b[0m \u001b[0;34m=\u001b[0m \u001b[0mself\u001b[0m\u001b[0;34m.\u001b[0m\u001b[0mweights\u001b[0m \u001b[0;34m*\u001b[0m \u001b[0mnp\u001b[0m\u001b[0;34m.\u001b[0m\u001b[0mexp\u001b[0m\u001b[0;34m(\u001b[0m\u001b[0;34m-\u001b[0m\u001b[0malpha_t\u001b[0m\u001b[0;34m*\u001b[0m \u001b[0mY_pred\u001b[0m \u001b[0;34m*\u001b[0m \u001b[0mself\u001b[0m\u001b[0;34m.\u001b[0m\u001b[0my_train\u001b[0m\u001b[0;34m)\u001b[0m\u001b[0;34m\u001b[0m\u001b[0;34m\u001b[0m\u001b[0m\n\u001b[0m\u001b[1;32m     49\u001b[0m             \u001b[0mself\u001b[0m\u001b[0;34m.\u001b[0m\u001b[0mweights\u001b[0m \u001b[0;34m=\u001b[0m \u001b[0mself\u001b[0m\u001b[0;34m.\u001b[0m\u001b[0mweights\u001b[0m \u001b[0;34m/\u001b[0m \u001b[0mnp\u001b[0m\u001b[0;34m.\u001b[0m\u001b[0msum\u001b[0m\u001b[0;34m(\u001b[0m\u001b[0mself\u001b[0m\u001b[0;34m.\u001b[0m\u001b[0mweights\u001b[0m\u001b[0;34m)\u001b[0m\u001b[0;34m\u001b[0m\u001b[0;34m\u001b[0m\u001b[0m\n",
      "\u001b[0;31mValueError\u001b[0m: operands could not be broadcast together with shapes (999,1) (1035,1) "
     ]
    }
   ]
  },
  {
   "cell_type": "code",
   "metadata": {
    "tags": [],
    "cell_id": "00007-84a11df2-6535-4385-8b0d-85c2e2ea4609",
    "deepnote_cell_type": "code"
   },
   "source": "",
   "execution_count": null,
   "outputs": []
  },
  {
   "cell_type": "markdown",
   "source": "<a style='text-decoration:none;line-height:16px;display:flex;color:#5B5B62;padding:10px;justify-content:end;' href='https://deepnote.com?utm_source=created-in-deepnote-cell&projectId=c8a1762a-62b2-46cf-95c0-ea77984dacfd' target=\"_blank\">\n<img alt='Created in deepnote.com' style='display:inline;max-height:16px;margin:0px;margin-right:7.5px;' src='data:image/svg+xml;base64,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' > </img>\nCreated in <span style='font-weight:600;margin-left:4px;'>Deepnote</span></a>",
   "metadata": {
    "tags": [],
    "created_in_deepnote_cell": true,
    "deepnote_cell_type": "markdown"
   }
  }
 ],
 "nbformat": 4,
 "nbformat_minor": 2,
 "metadata": {
  "orig_nbformat": 2,
  "deepnote": {
   "is_reactive": false
  },
  "deepnote_notebook_id": "a556e506-089a-4388-aef0-fbbc1dc2a9e3",
  "deepnote_execution_queue": []
 }
}