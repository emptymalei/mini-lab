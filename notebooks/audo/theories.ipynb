{
 "cells": [
  {
   "cell_type": "markdown",
   "metadata": {},
   "source": [
    "# Theories"
   ]
  },
  {
   "cell_type": "markdown",
   "metadata": {},
   "source": [
    "## Audio Signal Processing"
   ]
  },
  {
   "cell_type": "markdown",
   "metadata": {},
   "source": [
    "### Read in Audio Files"
   ]
  },
  {
   "cell_type": "markdown",
   "metadata": {},
   "source": [
    "Scipy has a module called signal."
   ]
  },
  {
   "cell_type": "markdown",
   "metadata": {},
   "source": [
    "`from scipy import signal`"
   ]
  },
  {
   "cell_type": "markdown",
   "metadata": {},
   "source": [
    "Caveats:\n",
    "\n",
    "1. Many channels\n",
    "2. Different sample rates"
   ]
  },
  {
   "cell_type": "markdown",
   "metadata": {},
   "source": [
    "### Visualization"
   ]
  },
  {
   "cell_type": "markdown",
   "metadata": {},
   "source": [
    "1. Waveform in time domain\n",
    "2. Fourier transform: We could present the amplitude or the power spectrum which is amplitude squared."
   ]
  },
  {
   "cell_type": "markdown",
   "metadata": {},
   "source": [
    "### Processing"
   ]
  },
  {
   "cell_type": "markdown",
   "metadata": {},
   "source": [
    "In time domain\n",
    "\n",
    "1. Zero crossing rate: $zcr  =  \\frac{1}{T-1} \\sum_{t=1}^{T-1} s_t s_{t-1} $\n",
    "2. RMS\n",
    "\n",
    "In frequency domain\n",
    "\n",
    "1. spectral centroid:\n",
    "2. spectral rolloff\n",
    "3. spectral flux: basically indicates the derivative\n",
    "4. spectral variablity\n",
    "\n",
    "\n"
   ]
  },
  {
   "cell_type": "markdown",
   "metadata": {},
   "source": [
    "Psychoaccoustical freatures\n",
    "\n",
    "1. Mel-frequency cepstral coefficients (MFCC): to model human response\n",
    "2. Decibel scale\n",
    "3. Phon scale\n",
    "4. Sone scale\n",
    "5. Bark scale"
   ]
  },
  {
   "cell_type": "code",
   "execution_count": null,
   "metadata": {},
   "outputs": [],
   "source": []
  }
 ],
 "metadata": {
  "kernelspec": {
   "display_name": "Python 3",
   "language": "python",
   "name": "python3"
  },
  "language_info": {
   "codemirror_mode": {
    "name": "ipython",
    "version": 3
   },
   "file_extension": ".py",
   "mimetype": "text/x-python",
   "name": "python",
   "nbconvert_exporter": "python",
   "pygments_lexer": "ipython3",
   "version": "3.6.4"
  }
 },
 "nbformat": 4,
 "nbformat_minor": 2
}
