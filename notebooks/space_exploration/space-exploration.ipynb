{
 "cells": [
  {
   "cell_type": "code",
   "execution_count": 34,
   "metadata": {},
   "outputs": [],
   "source": [
    "import pandas as pd"
   ]
  },
  {
   "cell_type": "code",
   "execution_count": 35,
   "metadata": {},
   "outputs": [],
   "source": [
    "import datetime"
   ]
  },
  {
   "cell_type": "code",
   "execution_count": 36,
   "metadata": {},
   "outputs": [],
   "source": [
    "import numpy as np"
   ]
  },
  {
   "cell_type": "code",
   "execution_count": 72,
   "metadata": {},
   "outputs": [],
   "source": [
    "import matplotlib.pyplot as plt"
   ]
  },
  {
   "cell_type": "code",
   "execution_count": 73,
   "metadata": {},
   "outputs": [],
   "source": [
    "import seaborn as sns\n",
    "sns.set(style=\"darkgrid\")\n"
   ]
  },
  {
   "cell_type": "code",
   "execution_count": 74,
   "metadata": {},
   "outputs": [
    {
     "name": "stdout",
     "output_type": "stream",
     "text": [
      "air-transport-passengers-by-year.csv\n",
      "air-transport-passengers-carried.csv\n",
      "air-transportation-and-death-by-year.csv\n",
      "space-exploration-launches-by-year.csv\n",
      "space-exploration-world-and-china-launches-by-year.csv\n",
      "space-exploration.csv\n"
     ]
    }
   ],
   "source": [
    "%%bash\n",
    "ls data"
   ]
  },
  {
   "cell_type": "code",
   "execution_count": 75,
   "metadata": {},
   "outputs": [],
   "source": [
    "df_raw = pd.read_csv('data/space-exploration.csv')"
   ]
  },
  {
   "cell_type": "code",
   "execution_count": 76,
   "metadata": {},
   "outputs": [],
   "source": [
    "df = df_raw.copy()"
   ]
  },
  {
   "cell_type": "code",
   "execution_count": 77,
   "metadata": {},
   "outputs": [
    {
     "data": {
      "text/plain": [
       "Date                                  object\n",
       "Event leading to space exploration    object\n",
       "Country                               object\n",
       "Researcher(s)                         object\n",
       "dtype: object"
      ]
     },
     "execution_count": 77,
     "metadata": {},
     "output_type": "execute_result"
    }
   ],
   "source": [
    "df.dtypes"
   ]
  },
  {
   "cell_type": "code",
   "execution_count": 78,
   "metadata": {},
   "outputs": [
    {
     "data": {
      "text/plain": [
       "Date                                                                          6/20/1944\n",
       "Event leading to space exploration    V-2 Rocket (MW 18014): First man-made object t...\n",
       "Country                                                                         Germany\n",
       "Researcher(s)                                                                 Wehrmacht\n",
       "Name: 21, dtype: object"
      ]
     },
     "execution_count": 78,
     "metadata": {},
     "output_type": "execute_result"
    }
   ],
   "source": [
    "df.iloc[21]"
   ]
  },
  {
   "cell_type": "code",
   "execution_count": 79,
   "metadata": {},
   "outputs": [
    {
     "data": {
      "text/plain": [
       "datetime.datetime(1944, 6, 20, 0, 0)"
      ]
     },
     "execution_count": 79,
     "metadata": {},
     "output_type": "execute_result"
    }
   ],
   "source": [
    "datetime.datetime.strptime('6/20/1944', '%m/%d/%Y')"
   ]
  },
  {
   "cell_type": "code",
   "execution_count": 80,
   "metadata": {},
   "outputs": [],
   "source": [
    "def transform_date(inp):\n",
    "    \n",
    "    if '/' in str(inp):\n",
    "        try:\n",
    "            dt = datetime.datetime.strptime(inp, '%m/%d/%Y')\n",
    "        except:\n",
    "            dt = None\n",
    "            pass\n",
    "    else:\n",
    "        dt = None\n",
    "    \n",
    "    return dt"
   ]
  },
  {
   "cell_type": "code",
   "execution_count": 81,
   "metadata": {},
   "outputs": [],
   "source": [
    "df['dt_dates'] = df['Date'].apply( transform_date )\n",
    "df['year'] = df['dt_dates'].apply( lambda x: x.year )\n",
    "df['month'] = df['dt_dates'].apply( lambda x: x.month )\n",
    "df['day'] = df['dt_dates'].apply( lambda x: x.day )\n"
   ]
  },
  {
   "cell_type": "code",
   "execution_count": 82,
   "metadata": {},
   "outputs": [],
   "source": [
    "df_with_dates = df[~df.dt_dates.isna()]"
   ]
  },
  {
   "cell_type": "code",
   "execution_count": 83,
   "metadata": {},
   "outputs": [
    {
     "name": "stderr",
     "output_type": "stream",
     "text": [
      "/Users/leima/anaconda3/lib/python3.6/site-packages/ipykernel_launcher.py:1: SettingWithCopyWarning: \n",
      "A value is trying to be set on a copy of a slice from a DataFrame.\n",
      "Try using .loc[row_indexer,col_indexer] = value instead\n",
      "\n",
      "See the caveats in the documentation: http://pandas.pydata.org/pandas-docs/stable/indexing.html#indexing-view-versus-copy\n",
      "  \"\"\"Entry point for launching an IPython kernel.\n",
      "/Users/leima/anaconda3/lib/python3.6/site-packages/ipykernel_launcher.py:2: SettingWithCopyWarning: \n",
      "A value is trying to be set on a copy of a slice from a DataFrame.\n",
      "Try using .loc[row_indexer,col_indexer] = value instead\n",
      "\n",
      "See the caveats in the documentation: http://pandas.pydata.org/pandas-docs/stable/indexing.html#indexing-view-versus-copy\n",
      "  \n",
      "/Users/leima/anaconda3/lib/python3.6/site-packages/ipykernel_launcher.py:3: SettingWithCopyWarning: \n",
      "A value is trying to be set on a copy of a slice from a DataFrame.\n",
      "Try using .loc[row_indexer,col_indexer] = value instead\n",
      "\n",
      "See the caveats in the documentation: http://pandas.pydata.org/pandas-docs/stable/indexing.html#indexing-view-versus-copy\n",
      "  This is separate from the ipykernel package so we can avoid doing imports until\n"
     ]
    }
   ],
   "source": [
    "df_with_dates['year'] = df_with_dates.year.astype(int)\n",
    "df_with_dates['month'] = df_with_dates.month.astype(int)\n",
    "df_with_dates['day'] = df_with_dates.day.astype(int)"
   ]
  },
  {
   "cell_type": "code",
   "execution_count": 86,
   "metadata": {},
   "outputs": [
    {
     "data": {
      "image/png": "[encoded data removed]",
      "text/plain": [
       "<Figure size 720x444.96 with 1 Axes>"
      ]
     },
     "metadata": {},
     "output_type": "display_data"
    }
   ],
   "source": [
    "plt.figure( figsize=(10,6.18) )\n",
    "import numpy as np\n",
    "import pylab as plt\n",
    "\n",
    "data       = df_with_dates.month.values\n",
    "y,binEdges = np.histogram(data,bins=10)\n",
    "bincenters = 0.5*(binEdges[1:]+binEdges[:-1])\n",
    "menStd     = np.sqrt(y)\n",
    "width      = 1\n",
    "plt.bar(bincenters, y, width=width, yerr=menStd)\n",
    "plt.xlabel('Months')\n",
    "plt.ylabel('Counts')\n",
    "plt.show()"
   ]
  },
  {
   "cell_type": "code",
   "execution_count": 16,
   "metadata": {},
   "outputs": [
    {
     "data": {
      "image/png": "[encoded data removed]",
      "text/plain": [
       "<Figure size 432x288 with 1 Axes>"
      ]
     },
     "metadata": {},
     "output_type": "display_data"
    }
   ],
   "source": [
    "df_with_dates.month.hist()\n",
    "plt.show()"
   ]
  },
  {
   "cell_type": "code",
   "execution_count": 70,
   "metadata": {},
   "outputs": [
    {
     "data": {
      "image/png": "[encoded data removed]",
      "text/plain": [
       "<Figure size 432x288 with 1 Axes>"
      ]
     },
     "metadata": {},
     "output_type": "display_data"
    }
   ],
   "source": [
    "df_with_dates.day.hist()\n",
    "plt.show()"
   ]
  },
  {
   "cell_type": "markdown",
   "metadata": {},
   "source": [
    "## Produce Pretty Graph"
   ]
  },
  {
   "cell_type": "code",
   "execution_count": 116,
   "metadata": {},
   "outputs": [
    {
     "data": {
      "text/plain": [
       "month\n",
       "1     12\n",
       "2     12\n",
       "3     16\n",
       "4      7\n",
       "5      4\n",
       "6      5\n",
       "7     12\n",
       "8      9\n",
       "9      7\n",
       "10     8\n",
       "11    13\n",
       "12    13\n",
       "Name: dt_dates, dtype: int64"
      ]
     },
     "execution_count": 116,
     "metadata": {},
     "output_type": "execute_result"
    }
   ],
   "source": [
    "df_with_dates.groupby('month').count()[ 'dt_dates']"
   ]
  },
  {
   "cell_type": "code",
   "execution_count": 228,
   "metadata": {},
   "outputs": [],
   "source": [
    "month_hist, month_edge = np.histogram(df_with_dates.month.values, bins = np.arange(1,14))\n",
    "day_hist, day_edge = np.histogram(df_with_dates.day.values, bins = np.arange(1,33))"
   ]
  },
  {
   "cell_type": "code",
   "execution_count": 229,
   "metadata": {},
   "outputs": [
    {
     "data": {
      "text/plain": [
       "array([ 1,  2,  3,  4,  5,  6,  7,  8,  9, 10, 11, 12, 13])"
      ]
     },
     "execution_count": 229,
     "metadata": {},
     "output_type": "execute_result"
    }
   ],
   "source": [
    "month_edge"
   ]
  },
  {
   "cell_type": "code",
   "execution_count": 230,
   "metadata": {},
   "outputs": [
    {
     "data": {
      "text/plain": [
       "array([12, 12, 16,  7,  4,  5, 12,  9,  7,  8, 13, 13])"
      ]
     },
     "execution_count": 230,
     "metadata": {},
     "output_type": "execute_result"
    }
   ],
   "source": [
    "month_hist"
   ]
  },
  {
   "cell_type": "code",
   "execution_count": 220,
   "metadata": {},
   "outputs": [
    {
     "data": {
      "image/png": "[encoded data removed]",
      "text/plain": [
       "<Figure size 720x444.96 with 1 Axes>"
      ]
     },
     "metadata": {},
     "output_type": "display_data"
    }
   ],
   "source": [
    "fig, ax = plt.subplots( figsize=(10, 6.18) )\n",
    "\n",
    "month_x = month_edge[:-1] -0.5\n",
    "ax.bar( month_x, month_hist, 1, color=(0.2980392156862745, 0.4470588235294118, 0.6901960784313725) )\n",
    "\n",
    "ax.set_xticks( np.arange(1,13) -0.5 )\n",
    "ax.set_xticklabels( [ str(i) for i in np.arange(1,13) ] )\n",
    "\n",
    "ax.set_xlabel('Month')\n",
    "ax.set_ylabel('Count')\n",
    "\n",
    "fig.savefig('export/month-distribution.png')"
   ]
  },
  {
   "cell_type": "code",
   "execution_count": 233,
   "metadata": {},
   "outputs": [
    {
     "data": {
      "image/png": "[encoded data removed]",
      "text/plain": [
       "<Figure size 720x444.96 with 1 Axes>"
      ]
     },
     "metadata": {},
     "output_type": "display_data"
    }
   ],
   "source": [
    "fig, ax = plt.subplots( figsize=(10, 6.18) )\n",
    "\n",
    "day_x = day_edge[:-1] -0.5\n",
    "ax.bar( day_x, day_hist, 1, color=(0.2980392156862745, 0.4470588235294118, 0.6901960784313725) )\n",
    "\n",
    "ax.set_xticks( np.arange(1,32) -0.5 )\n",
    "ax.set_xticklabels( [ str(i) for i in np.arange(1,32) ] )\n",
    "\n",
    "ax.set_xlabel('Month')\n",
    "ax.set_ylabel('Count')\n",
    "\n",
    "fig.savefig('export/day-distribution.png')"
   ]
  },
  {
   "cell_type": "markdown",
   "metadata": {},
   "source": [
    "== Orbital launches by year ==\n",
    "{{ #invoke:Chart | bar-chart\n",
    "| height = 500\n",
    "| width = 900\n",
    "| stack = 1\n",
    "| group 1 = 1: 20: 11:<!-- 1950s -->     19: 20: 15: 17: 15: 15: 13: 12: 10: 15:<!-- 1960s -->     10: 14:  7:  8:  7:  7:  3:  6:  4:  5:<!-- 1970s -->      4:  3:  8:  2:  0:  5:  7:  4:  5:  1:<!-- 1980s -->      5:  3:  3:  4:  4:  5:  4:  3:  5:  6:<!-- 1990s -->      4:  1:  5:  3:  1:  3:  5:  3:  2:  4:<!-- 2000s -->      4:  6:  4:  3:  2:  4:  2:  5:  2:  0:<!-- 2010s -->      0<!-- 2020s -->     <!-- Failures to reach orbit -->\n",
    "| group 2 = 1:  2:  2:<!-- 1950s -->      0:  2:  1:  3:  3:  1:  7:  7:  3:  4:<!-- 1960s -->      2:  1:  1:  0:  1:  1:  3:  3:  2:  1:<!-- 1970s -->      3:  6:  2:  0:  3:  2:  1:  2:  2:  0:<!-- 1980s -->      2:  2:  1:  2:  1:  3:  4:  3:  2:  0:<!-- 1990s -->      0:  0:  0:  0:  3:  0:  0:  2:  1:  1:<!-- 2000s -->      0:  0:  2:  1:  2:  1:  1:  2:  1:  0:<!-- 2010s -->      0<!-- 2020s -->     <!-- Partial failures, i.e. lower-than-expected orbit or failure of secondary mission -->\n",
    "| group 3 = 1:  6: 10:<!-- 1950s -->     19: 28: 65: 50: 82:108:111:120:116:106:<!-- 1960s -->    112:119:105:109:105:124:125:121:122:105:<!-- 1970s -->    102:117:119:127:126:118:102:108:114:101:<!-- 1980s -->    114: 86: 94: 77: 88: 72: 69: 83: 75: 73:<!-- 1990s -->     81: 58: 60: 60: 50: 52: 62: 63: 66: 73:<!-- 2000s -->     70: 78: 72: 77: 88: 82: 82:  83: 90:  0:<!-- 2010s -->      0<!-- 2020s -->    <!-- Full launch successes -->\n",
    "| group 4 =   0:0:0:    0:0:0:0:0:0:0:0:0:0:    0:0:0:0:0:0:0:0:0:0:    0:0:0:0:0:0:0:0:0:0:    0:0:0:0:0:0:0:0:0:0:    0:0:0:0:0:0:0:0:0:0:    0:0:0:0:0:0:0:0: 39:<!-- 2018 --> 165:<!-- 2019 --> 103<!-- 2020 -->    <!-- Future planned missions -->\n",
    "| colors = FireBrick : Orange : ForestGreen : LightBlue\n",
    "| group names = Failure : Partial failure : Success : Planned\n",
    "| units suffix = _launches\n",
    "| x legends = 1957 ::: 1960 ::::: 1965 ::::: 1970 ::::: 1975 ::::: 1980 ::::: 1985 ::::: 1990 ::::: 1995 ::::: 2000 ::::: 2005 ::::: 2010 ::::: 2015 ::::: 2020 \n",
    "}}\n"
   ]
  },
  {
   "cell_type": "code",
   "execution_count": 149,
   "metadata": {},
   "outputs": [],
   "source": [
    "def comma_strings_to_int(inp):\n",
    "    \n",
    "    ret = inp.split(':')\n",
    "    \n",
    "    ret = [ int(i) for i in ret ]\n",
    "    \n",
    "    return ret"
   ]
  },
  {
   "cell_type": "code",
   "execution_count": 169,
   "metadata": {},
   "outputs": [
    {
     "data": {
      "text/plain": [
       "[70, 78, 72, 77, 88, 82, 82, 83, 90, 0]"
      ]
     },
     "execution_count": 169,
     "metadata": {},
     "output_type": "execute_result"
    }
   ],
   "source": [
    "comma_strings_to_int('70: 78: 72: 77: 88: 82: 82:  83: 90:  0')"
   ]
  },
  {
   "cell_type": "code",
   "execution_count": 208,
   "metadata": {},
   "outputs": [],
   "source": [
    "launch_years = np.arange(1957, 2021,1) #[ 1957,1958,1959, 1960, ... ]\n",
    "failures = [ [1, 20, 11], [19, 20, 15, 17, 15, 15, 13, 12, 10, 15] , [10, 14, 7, 8, 7, 7, 3, 6, 4, 5], [4, 3, 8, 2, 0, 5, 7, 4, 5, 1], [5, 3, 3, 4, 4, 5, 4, 3, 5, 6], [4, 1, 5, 3, 1, 3, 5, 3, 2, 4], [4, 6, 4, 3, 2, 4, 2, 5, 2, 0], [0]  ]\n",
    "partial_failures = [ [1, 2, 2], [0, 2, 1, 3, 3, 1, 7, 7, 3, 4], [2, 1, 1, 0, 1, 1, 3, 3, 2, 1], [3, 6, 2, 0, 3, 2, 1, 2, 2, 0], [2, 2, 1, 2, 1, 3, 4, 3, 2, 0], [0, 0, 0, 0, 3, 0, 0, 2, 1, 1], [0, 0, 2, 1, 2, 1, 1, 2, 1, 0], [0] ]\n",
    "success = [ [1, 6, 10], [19, 28, 65, 50, 82, 108, 111, 120, 116, 106],  [112, 119, 105, 109, 105, 124, 125, 121, 122, 105], [102, 117, 119, 127, 126, 118, 102, 108, 114, 101], [114, 86, 94, 77, 88, 72, 69, 83, 75, 73], [81, 58, 60, 60, 50, 52, 62, 63, 66, 73], [70, 78, 72, 77, 88, 82, 82, 83, 91, 0], [0] ]\n",
    "planned = [[0, 0, 0], [0, 0, 0, 0, 0, 0, 0, 0, 0, 0], [0, 0, 0, 0, 0, 0, 0, 0, 0, 0], [0, 0, 0, 0, 0, 0, 0, 0, 0, 0], [0, 0, 0, 0, 0, 0, 0, 0, 0, 0], [0, 0, 0, 0, 0, 0, 0, 0, 0, 0], [0, 0, 0, 0, 0, 0, 0, 0, 39, 165], [103] ]"
   ]
  },
  {
   "cell_type": "code",
   "execution_count": 214,
   "metadata": {},
   "outputs": [],
   "source": [
    "df_launches = pd.DataFrame( { \n",
    "    'launch year': launch_years, \n",
    "    'failure': [item for sublist in failures for item in sublist], \n",
    "    'partial failure': [item for sublist in partial_failures for item in sublist], \n",
    "    'success': [item for sublist in success for item in sublist], \n",
    "    'planned': [item for sublist in planned for item in sublist] } )\n",
    "df_launches.set_index('launch year', inplace=True);"
   ]
  },
  {
   "cell_type": "code",
   "execution_count": 320,
   "metadata": {},
   "outputs": [
    {
     "name": "stderr",
     "output_type": "stream",
     "text": [
      "/Users/leima/anaconda3/lib/python3.6/site-packages/ipykernel_launcher.py:1: RuntimeWarning: invalid value encountered in long_scalars\n",
      "  \"\"\"Entry point for launching an IPython kernel.\n"
     ]
    }
   ],
   "source": [
    "df_launches['success rate'] = df_launches.apply( lambda x: x['success'] / (x['failure'] + x['partial failure'] + x['success']) , axis=1)"
   ]
  },
  {
   "cell_type": "code",
   "execution_count": 352,
   "metadata": {},
   "outputs": [],
   "source": [
    "df_launches['mean success rate after 2000'] = df_launches[ ['success rate' ] ].loc[2000:].describe().loc['mean'].values[0]\n",
    "df_launches['std success rate after 2000'] = df_launches[ ['success rate' ] ].loc[2000:].describe().loc['std'].values[0]"
   ]
  },
  {
   "cell_type": "code",
   "execution_count": 353,
   "metadata": {},
   "outputs": [
    {
     "data": {
      "text/html": [
       "<div>\n",
       "<style scoped>\n",
       "    .dataframe tbody tr th:only-of-type {\n",
       "        vertical-align: middle;\n",
       "    }\n",
       "\n",
       "    .dataframe tbody tr th {\n",
       "        vertical-align: top;\n",
       "    }\n",
       "\n",
       "    .dataframe thead th {\n",
       "        text-align: right;\n",
       "    }\n",
       "</style>\n",
       "<table border=\"1\" class=\"dataframe\">\n",
       "  <thead>\n",
       "    <tr style=\"text-align: right;\">\n",
       "      <th></th>\n",
       "      <th>failure</th>\n",
       "      <th>partial failure</th>\n",
       "      <th>success</th>\n",
       "      <th>planned</th>\n",
       "      <th>success rate</th>\n",
       "      <th>mean success rate after 2000</th>\n",
       "      <th>std success rate after 2000</th>\n",
       "    </tr>\n",
       "    <tr>\n",
       "      <th>launch year</th>\n",
       "      <th></th>\n",
       "      <th></th>\n",
       "      <th></th>\n",
       "      <th></th>\n",
       "      <th></th>\n",
       "      <th></th>\n",
       "      <th></th>\n",
       "    </tr>\n",
       "  </thead>\n",
       "  <tbody>\n",
       "    <tr>\n",
       "      <th>1957</th>\n",
       "      <td>1</td>\n",
       "      <td>1</td>\n",
       "      <td>1</td>\n",
       "      <td>0</td>\n",
       "      <td>0.333333</td>\n",
       "      <td>0.943651</td>\n",
       "      <td>0.017766</td>\n",
       "    </tr>\n",
       "    <tr>\n",
       "      <th>1958</th>\n",
       "      <td>20</td>\n",
       "      <td>2</td>\n",
       "      <td>6</td>\n",
       "      <td>0</td>\n",
       "      <td>0.214286</td>\n",
       "      <td>0.943651</td>\n",
       "      <td>0.017766</td>\n",
       "    </tr>\n",
       "    <tr>\n",
       "      <th>1959</th>\n",
       "      <td>11</td>\n",
       "      <td>2</td>\n",
       "      <td>10</td>\n",
       "      <td>0</td>\n",
       "      <td>0.434783</td>\n",
       "      <td>0.943651</td>\n",
       "      <td>0.017766</td>\n",
       "    </tr>\n",
       "    <tr>\n",
       "      <th>1960</th>\n",
       "      <td>19</td>\n",
       "      <td>0</td>\n",
       "      <td>19</td>\n",
       "      <td>0</td>\n",
       "      <td>0.500000</td>\n",
       "      <td>0.943651</td>\n",
       "      <td>0.017766</td>\n",
       "    </tr>\n",
       "    <tr>\n",
       "      <th>1961</th>\n",
       "      <td>20</td>\n",
       "      <td>2</td>\n",
       "      <td>28</td>\n",
       "      <td>0</td>\n",
       "      <td>0.560000</td>\n",
       "      <td>0.943651</td>\n",
       "      <td>0.017766</td>\n",
       "    </tr>\n",
       "  </tbody>\n",
       "</table>\n",
       "</div>"
      ],
      "text/plain": [
       "             failure  partial failure  success  planned  success rate  \\\n",
       "launch year                                                             \n",
       "1957               1                1        1        0      0.333333   \n",
       "1958              20                2        6        0      0.214286   \n",
       "1959              11                2       10        0      0.434783   \n",
       "1960              19                0       19        0      0.500000   \n",
       "1961              20                2       28        0      0.560000   \n",
       "\n",
       "             mean success rate after 2000  std success rate after 2000  \n",
       "launch year                                                             \n",
       "1957                             0.943651                     0.017766  \n",
       "1958                             0.943651                     0.017766  \n",
       "1959                             0.943651                     0.017766  \n",
       "1960                             0.943651                     0.017766  \n",
       "1961                             0.943651                     0.017766  "
      ]
     },
     "execution_count": 353,
     "metadata": {},
     "output_type": "execute_result"
    }
   ],
   "source": [
    "df_launches.head()"
   ]
  },
  {
   "cell_type": "code",
   "execution_count": 354,
   "metadata": {},
   "outputs": [],
   "source": [
    "df_launches.to_csv('data/space-exploration-launches-by-year.csv')"
   ]
  },
  {
   "cell_type": "code",
   "execution_count": 355,
   "metadata": {},
   "outputs": [
    {
     "name": "stdout",
     "output_type": "stream",
     "text": [
      "[(0.2980392156862745, 0.4470588235294118, 0.6901960784313725), (0.8666666666666667, 0.5176470588235295, 0.3215686274509804), (0.3333333333333333, 0.6588235294117647, 0.40784313725490196), (0.7686274509803922, 0.3058823529411765, 0.3215686274509804), (0.5058823529411764, 0.4470588235294118, 0.7019607843137254), (0.5764705882352941, 0.47058823529411764, 0.3764705882352941), (0.8549019607843137, 0.5450980392156862, 0.7647058823529411), (0.5490196078431373, 0.5490196078431373, 0.5490196078431373), (0.8, 0.7254901960784313, 0.4549019607843137), (0.39215686274509803, 0.7098039215686275, 0.803921568627451)]\n"
     ]
    },
    {
     "data": {
      "image/png": "[encoded data removed]",
      "text/plain": [
       "<Figure size 720x72 with 1 Axes>"
      ]
     },
     "metadata": {},
     "output_type": "display_data"
    }
   ],
   "source": [
    "current_palette = sns.color_palette()\n",
    "print(current_palette)\n",
    "sns.palplot(current_palette)"
   ]
  },
  {
   "cell_type": "code",
   "execution_count": 356,
   "metadata": {},
   "outputs": [
    {
     "data": {
      "image/png": "[encoded data removed]",
      "text/plain": [
       "<Figure size 1440x444.96 with 1 Axes>"
      ]
     },
     "metadata": {},
     "output_type": "display_data"
    }
   ],
   "source": [
    "fig, ax = plt.subplots( figsize=(20,6.18) )\n",
    "\n",
    "df_launches[ ['failure', 'partial failure', 'success', 'planned' ] ].plot.bar(stacked=True, ax=ax, color= ['r',(0.8666666666666667, 0.5176470588235295, 0.3215686274509804), (0.3333333333333333, 0.6588235294117647, 0.40784313725490196), (0.5490196078431373, 0.5490196078431373, 0.5490196078431373)] )\n",
    "ax.set_xticklabels( launch_years );\n",
    "ax.set_ylabel('Number of Launches')\n",
    "fig.savefig('export/space-launch-yearly.png')"
   ]
  },
  {
   "cell_type": "code",
   "execution_count": 359,
   "metadata": {},
   "outputs": [
    {
     "data": {
      "image/png": "[encoded data removed]",
      "text/plain": [
       "<Figure size 1440x444.96 with 1 Axes>"
      ]
     },
     "metadata": {},
     "output_type": "display_data"
    }
   ],
   "source": [
    "fig, ax = plt.subplots( figsize=(20,6.18) )\n",
    "\n",
    "df_launches[ ['success rate', 'mean success rate after 2000' ] ].plot(ax=ax, color= 'g', style=['-', '--'] )\n",
    "ax.set_xticks( launch_years[::3] )\n",
    "ax.set_xticklabels( launch_years[::3] );\n",
    "ax.set_ylabel('Success Rate of Launches')\n",
    "fig.savefig('export/space-launch-success-rate-yearly.png')"
   ]
  },
  {
   "cell_type": "markdown",
   "metadata": {},
   "source": [
    "## Chinese Rocket Launches"
   ]
  },
  {
   "cell_type": "markdown",
   "metadata": {},
   "source": [
    "```\n",
    "== Launch statistics ==\n",
    "\n",
    "<!-- The summary and bar chart are constantly getting out of sync.  Make sure to update both of them at the same time. -->\n",
    "\n",
    "Rockets from the Long March family have accumulated 290 launches {{as of|2018|11|01|lc=on}}. Of these, 275 were successful, 8 were failures, and 7 were partial failures. The cumulative success rate is {{percent|275|290|1}}.\n",
    "\n",
    "<!-- Bars are grouped in decades, with extra spaces between the groups.  -->\n",
    "\n",
    "{{ #invoke:Chart | bar-chart\n",
    "| height = 400\n",
    "| width = 900\n",
    "| stack = 1\n",
    "| group 1 =   0:  0:  0:  0:  1:  0:  0:  0:  0:  0:      0:  0:  0:  0:  0:  0:  0:  0:  0:  0:      0:  0:  1:  0:  0:  1:  1:  0:  0:  0:      0:  0:  0:  0:  0:  0:  0:  0:  0:  0:      0:  1:  0:  1:  0:  0:  1:  1:  0:  0:      0\n",
    "| group 2 =   0:  0:  0:  0:  0:  0:  0:  0:  0:  0:      0:  0:  0:  0:  1:  0:  0:  0:  0:  0:      0:  1:  0:  0:  0:  0:  1:  0:  0:  0:      0:  0:  0:  0:  0:  0:  0:  0:  0:  1:      0:  0:  0:  0:  0:  0:  1:  1:  0:  0:      0\n",
    "| group 3 =   1:  1:  0:  0:  0:  1:  1:  0:  1:  0:      0:  0:  1:  1:  2:  1:  2:  2:  4:  0:      5:  0:  3:  1:  5:  1:  2:  6:  6:  4:      5:  1:  4:  6:  8:  5:  6: 10: 11:  5:     15: 18: 19: 13: 15: 19: 20: 15: 30:  0:      0\n",
    "| group 4 =   0:  0:  0:  0:  0:  0:  0:  0:  0:  0:      0:  0:  0:  0:  0:  0:  0:  0:  0:  0:      0:  0:  0:  0:  0:  0:  0:  0:  0:  0:      0:  0:  0:  0:  0:  0:  0:  0:  0:  0:      0:  0:  0:  0:  0:  0:  0:  0: 8: 14:     14\n",
    "| colors = FireBrick : Orange : ForestGreen : LightBlue\n",
    "| group names = Failure : Partial failure : Success : Planned<ref name=pietrobon>{{cite web |title=Chinese Launch Manifest |url=http://www.sworld.com.au/steven/space/china-man.txt |first=Steven |last=Pietrobon |date=4 June 2018 |access-date=5 June 2018}}</ref>\n",
    "| units suffix = _launches\n",
    "| x legends = 1970 ::::: 1975 ::::: 1980 ::::: 1985 ::::: 1990 ::::: 1995 ::::: 2000 ::::: 2005 ::::: 2010 ::::: 2015 ::::: 2020\n",
    "}}\n",
    "\n",
    "=== Anomalies and failures ===\n",
    "\n",
    "A '''success''' is a launch that deploys all payloads into the correct orbit without damage.  The launch vehicle may experience an anomaly that does not affect the mission.  The payload may experience an anomaly that was not caused by the launch.\n",
    "\n",
    "* On 29 November 1994, the [[Long March 3A]] successfully deployed Chinasat-5 into geosynchronous transfer orbit. However, the satellite failed to reach geostationary orbit due to a propellant leak.\n",
    "* On 3 November 2016, the Long March 5 experienced an anomaly in the second stage, failing to deploy the stack into the correct geosynchronous transfer orbit. However, the third stage was able to compensate for the performance shortfall with a longer burn.\n",
    "\n",
    "A '''partial failure''' is a launch that reaches orbit, but at least one payload was not deployed into the correct orbit without damage.<ref>{{cite news|last1=Nowakowski|first1=Tomasz|title=Russian Soyuz-2.1v Launch a Partial Failure|url=http://www.spaceflightinsider.com/missions/defense/russia-successfully-launches-kanopus-st-satellite-into-orbit/|work=Spaceflight Insider|date=December 7, 2015|quote=The mission was declared successful shortly after the launch, but the latest media reports indicate that one of the satellites did not separate from the rocket’s upper stage and is most likely lost.}}</ref> After a partial failure, a satellite may operate at reduced functionality or with a reduced lifetime. A common type of partial failure occurs when a satellite is deployed into a lower than intended orbit. The satellite can maneuver with its own propulsion system to reach the correct orbit, but this reduces the fuel available for station-keeping and shortens its operational life.<ref>{{cite news|last1=Jones|first1=Andrew|title=China confirms partial failure of Zhongxing-9A launch, measures being taken|url=https://gbtimes.com/china-confirms-partial-failure-zhongxing-9a-launch-measures-being-taken|work=GBTIMES|date=June 19, 2017}}</ref>\n",
    "\n",
    "* On 29 January 1984, the maiden launch of the [[Long March 3]] failed to reach geosynchronous transfer orbit.\n",
    "* On 28 December 1991, the [[Long March 3]] failed to deploy the payload into geosynchronous transfer orbit.\n",
    "* On 28 November 1995, the [[Long March 2E]] damaged [[AsiaSat 2]] by subjecting it to excessive forces during the launch. The satellite was unable to broadcast to its full coverage area.\n",
    "* On 18 August 1996, the [[Long March 3]] failed to deploy the payload into geosynchronous transfer orbit.\n",
    "* On 31 August 2009, the [[Long March 3B]] failed to deploy the payload into geosynchronous transfer orbit.  The satellite reached the intended orbit with its own propulsion system.\n",
    "* On 28 December 2016, the [[Long March 2D]] failed to deploy the payloads into sun synchronous orbit.  The primary payloads reached the correct orbit with their own propulsion systems, but the secondary payload had no propulsion system and reentered two months later.\n",
    "* On 18 June 2017, the [[Long March 3B]] failed to deploy [[ChinaSat 9A]] into geosynchronous transfer orbit.  The satellite maneuvered 10 times over a one-month period to reach the correct orbit.\n",
    "\n",
    "A '''failure''' is a launch that destroys the satellite or does not deploy it into earth orbit.\n",
    "\n",
    "* On 5 November 1974, the [[Long March 2]] lost control during its maiden launch.\n",
    "* On 21 December 1992, the [[Long March 2E]] experienced a structural failure of the payload fairing, destroying the [[Optus (satellite)#Optus B2|Optus B2]] communications satellite.\n",
    "* On 25 January 1995, the [[Long March 2E]] experienced another structural failure in the payload fairing, destroying the [[Apstar 2]] communications satellite.\n",
    "* On 14 February 1996, the [[Long March 3B]] lost its guidance platform and veered off course, hitting a nearby village and killing at least 6 people.\n",
    "* On 18 August 2011, the [[Long March 2C]] lost attitude control.\n",
    "* On 9 December 2013, the [[Long March 4B]] experienced an early shutdown of its third stage and failed to reach orbit.\n",
    "* On 31 August 2016, the [[Long March 4C]] failed to reach orbit.\n",
    "* On 2 July 2017, the [[Long March 5]] experienced an anomaly in its first stage and failed to reach orbit.\n",
    "```"
   ]
  },
  {
   "cell_type": "code",
   "execution_count": 375,
   "metadata": {},
   "outputs": [
    {
     "name": "stdout",
     "output_type": "stream",
     "text": [
      "[0, 0, 0, 0, 0, 0, 0, 0, 0, 0, 0, 0, 0, 0, 0, 0, 0, 0, 0, 0, 0, 0, 0, 0, 0, 0, 0, 0, 0, 0, 0, 0, 0, 0, 0, 0, 0, 0, 0, 0, 0, 0, 0, 0, 0, 0, 0, 0, 8, 14, 14]\n"
     ]
    }
   ],
   "source": [
    "print( comma_strings_to_int('0:  0:  0:  0:  0:  0:  0:  0:  0:  0:      0:  0:  0:  0:  0:  0:  0:  0:  0:  0:      0:  0:  0:  0:  0:  0:  0:  0:  0:  0:      0:  0:  0:  0:  0:  0:  0:  0:  0:  0:      0:  0:  0:  0:  0:  0:  0:  0: 8: 14:     14') )"
   ]
  },
  {
   "cell_type": "code",
   "execution_count": 417,
   "metadata": {},
   "outputs": [],
   "source": [
    "failure_china = [0, 0, 0, 0, 1, 0, 0, 0, 0, 0, 0, 0, 0, 0, 0, 0, 0, 0, 0, 0, 0, 0, 1, 0, 0, 1, 1, 0, 0, 0, 0, 0, 0, 0, 0, 0, 0, 0, 0, 0, 0, 1, 0, 1, 0, 0, 1, 1, 0, 0, 0]\n",
    "partial_failure_china = [0, 0, 0, 0, 0, 0, 0, 0, 0, 0, 0, 0, 0, 0, 1, 0, 0, 0, 0, 0, 0, 1, 0, 0, 0, 0, 1, 0, 0, 0, 0, 0, 0, 0, 0, 0, 0, 0, 0, 1, 0, 0, 0, 0, 0, 0, 1, 1, 0, 0, 0]\n",
    "success_china = [1, 1, 0, 0, 0, 1, 1, 0, 1, 0, 0, 0, 1, 1, 2, 1, 2, 2, 4, 0, 5, 0, 3, 1, 5, 1, 2, 6, 6, 4, 5, 1, 4, 6, 8, 5, 6, 10, 11, 5, 15, 18, 19, 13, 15, 19, 20, 15, 30, 0, 0]\n",
    "planned_china = [0, 0, 0, 0, 0, 0, 0, 0, 0, 0, 0, 0, 0, 0, 0, 0, 0, 0, 0, 0, 0, 0, 0, 0, 0, 0, 0, 0, 0, 0, 0, 0, 0, 0, 0, 0, 0, 0, 0, 0, 0, 0, 0, 0, 0, 0, 0, 0, 8, 14, 14]\n",
    "launch_year_china = np.arange(1970, 2021,1)"
   ]
  },
  {
   "cell_type": "code",
   "execution_count": 427,
   "metadata": {},
   "outputs": [],
   "source": [
    "df_china = pd.DataFrame({'launch year': launch_year_china, 'failure': np.array(failure_china), 'partial failure':  np.array(partial_failure_china), 'success':  np.array(success_china), 'planned':  np.array(planned_china)})\n",
    "df_china.set_index('launch year', inplace=True);"
   ]
  },
  {
   "cell_type": "code",
   "execution_count": 428,
   "metadata": {},
   "outputs": [
    {
     "name": "stderr",
     "output_type": "stream",
     "text": [
      "/Users/leima/anaconda3/lib/python3.6/site-packages/ipykernel_launcher.py:1: RuntimeWarning: invalid value encountered in long_scalars\n",
      "  \"\"\"Entry point for launching an IPython kernel.\n"
     ]
    }
   ],
   "source": [
    "df_china['success rate'] = df_china.apply( lambda x: x['success'] / (x['failure'] + x['partial failure'] + x['success']) , axis=1)\n",
    "df_china['mean success rate after 2000'] = df_china[ ['success rate' ] ].loc[2000:].describe().loc['mean'].values[0]\n",
    "df_china['std success rate after 2000'] = df_china[ ['success rate' ] ].loc[2000:].describe().loc['std'].values[0]"
   ]
  },
  {
   "cell_type": "code",
   "execution_count": 430,
   "metadata": {},
   "outputs": [
    {
     "data": {
      "text/html": [
       "<div>\n",
       "<style scoped>\n",
       "    .dataframe tbody tr th:only-of-type {\n",
       "        vertical-align: middle;\n",
       "    }\n",
       "\n",
       "    .dataframe tbody tr th {\n",
       "        vertical-align: top;\n",
       "    }\n",
       "\n",
       "    .dataframe thead th {\n",
       "        text-align: right;\n",
       "    }\n",
       "</style>\n",
       "<table border=\"1\" class=\"dataframe\">\n",
       "  <thead>\n",
       "    <tr style=\"text-align: right;\">\n",
       "      <th></th>\n",
       "      <th>failure</th>\n",
       "      <th>partial failure</th>\n",
       "      <th>success</th>\n",
       "      <th>planned</th>\n",
       "      <th>success rate</th>\n",
       "      <th>mean success rate after 2000</th>\n",
       "      <th>std success rate after 2000</th>\n",
       "    </tr>\n",
       "    <tr>\n",
       "      <th>launch year</th>\n",
       "      <th></th>\n",
       "      <th></th>\n",
       "      <th></th>\n",
       "      <th></th>\n",
       "      <th></th>\n",
       "      <th></th>\n",
       "      <th></th>\n",
       "    </tr>\n",
       "  </thead>\n",
       "  <tbody>\n",
       "    <tr>\n",
       "      <th>1970</th>\n",
       "      <td>0</td>\n",
       "      <td>0</td>\n",
       "      <td>1</td>\n",
       "      <td>0</td>\n",
       "      <td>1.0</td>\n",
       "      <td>0.973722</td>\n",
       "      <td>0.049797</td>\n",
       "    </tr>\n",
       "    <tr>\n",
       "      <th>1971</th>\n",
       "      <td>0</td>\n",
       "      <td>0</td>\n",
       "      <td>1</td>\n",
       "      <td>0</td>\n",
       "      <td>1.0</td>\n",
       "      <td>0.973722</td>\n",
       "      <td>0.049797</td>\n",
       "    </tr>\n",
       "    <tr>\n",
       "      <th>1972</th>\n",
       "      <td>0</td>\n",
       "      <td>0</td>\n",
       "      <td>0</td>\n",
       "      <td>0</td>\n",
       "      <td>NaN</td>\n",
       "      <td>0.973722</td>\n",
       "      <td>0.049797</td>\n",
       "    </tr>\n",
       "    <tr>\n",
       "      <th>1973</th>\n",
       "      <td>0</td>\n",
       "      <td>0</td>\n",
       "      <td>0</td>\n",
       "      <td>0</td>\n",
       "      <td>NaN</td>\n",
       "      <td>0.973722</td>\n",
       "      <td>0.049797</td>\n",
       "    </tr>\n",
       "    <tr>\n",
       "      <th>1974</th>\n",
       "      <td>1</td>\n",
       "      <td>0</td>\n",
       "      <td>0</td>\n",
       "      <td>0</td>\n",
       "      <td>0.0</td>\n",
       "      <td>0.973722</td>\n",
       "      <td>0.049797</td>\n",
       "    </tr>\n",
       "  </tbody>\n",
       "</table>\n",
       "</div>"
      ],
      "text/plain": [
       "             failure  partial failure  success  planned  success rate  \\\n",
       "launch year                                                             \n",
       "1970               0                0        1        0           1.0   \n",
       "1971               0                0        1        0           1.0   \n",
       "1972               0                0        0        0           NaN   \n",
       "1973               0                0        0        0           NaN   \n",
       "1974               1                0        0        0           0.0   \n",
       "\n",
       "             mean success rate after 2000  std success rate after 2000  \n",
       "launch year                                                             \n",
       "1970                             0.973722                     0.049797  \n",
       "1971                             0.973722                     0.049797  \n",
       "1972                             0.973722                     0.049797  \n",
       "1973                             0.973722                     0.049797  \n",
       "1974                             0.973722                     0.049797  "
      ]
     },
     "execution_count": 430,
     "metadata": {},
     "output_type": "execute_result"
    }
   ],
   "source": [
    "df_china.head()"
   ]
  },
  {
   "cell_type": "code",
   "execution_count": 479,
   "metadata": {},
   "outputs": [],
   "source": [
    "df_world_china = pd.merge( df_launches, df_china, on='launch year', how='left' )\n",
    "df_world_china.columns = ['world failure', 'world partial failure', 'world success', 'world planned',\n",
    "       'world success rate', 'world mean success rate after 2000',\n",
    "       'world std success rate after 2000', 'china failure', 'china partial failure',\n",
    "       'china success', 'china planned', 'china success rate',\n",
    "       'china mean success rate after 2000', 'china std success rate after 2000']\n",
    "df_world_china['china mean success rate after 2000'] = df_world_china.iloc[-1]['china mean success rate after 2000']\n",
    "df_world_china['china std success rate after 2000'] = df_world_china.iloc[-1]['china std success rate after 2000']"
   ]
  },
  {
   "cell_type": "code",
   "execution_count": 480,
   "metadata": {},
   "outputs": [
    {
     "data": {
      "text/html": [
       "<div>\n",
       "<style scoped>\n",
       "    .dataframe tbody tr th:only-of-type {\n",
       "        vertical-align: middle;\n",
       "    }\n",
       "\n",
       "    .dataframe tbody tr th {\n",
       "        vertical-align: top;\n",
       "    }\n",
       "\n",
       "    .dataframe thead th {\n",
       "        text-align: right;\n",
       "    }\n",
       "</style>\n",
       "<table border=\"1\" class=\"dataframe\">\n",
       "  <thead>\n",
       "    <tr style=\"text-align: right;\">\n",
       "      <th></th>\n",
       "      <th>world failure</th>\n",
       "      <th>world partial failure</th>\n",
       "      <th>world success</th>\n",
       "      <th>world planned</th>\n",
       "      <th>world success rate</th>\n",
       "      <th>world mean success rate after 2000</th>\n",
       "      <th>world std success rate after 2000</th>\n",
       "      <th>china failure</th>\n",
       "      <th>china partial failure</th>\n",
       "      <th>china success</th>\n",
       "      <th>china planned</th>\n",
       "      <th>china success rate</th>\n",
       "      <th>china mean success rate after 2000</th>\n",
       "      <th>china std success rate after 2000</th>\n",
       "    </tr>\n",
       "    <tr>\n",
       "      <th>launch year</th>\n",
       "      <th></th>\n",
       "      <th></th>\n",
       "      <th></th>\n",
       "      <th></th>\n",
       "      <th></th>\n",
       "      <th></th>\n",
       "      <th></th>\n",
       "      <th></th>\n",
       "      <th></th>\n",
       "      <th></th>\n",
       "      <th></th>\n",
       "      <th></th>\n",
       "      <th></th>\n",
       "      <th></th>\n",
       "    </tr>\n",
       "  </thead>\n",
       "  <tbody>\n",
       "    <tr>\n",
       "      <th>1957</th>\n",
       "      <td>1</td>\n",
       "      <td>1</td>\n",
       "      <td>1</td>\n",
       "      <td>0</td>\n",
       "      <td>0.333333</td>\n",
       "      <td>0.943651</td>\n",
       "      <td>0.017766</td>\n",
       "      <td>NaN</td>\n",
       "      <td>NaN</td>\n",
       "      <td>NaN</td>\n",
       "      <td>NaN</td>\n",
       "      <td>NaN</td>\n",
       "      <td>0.973722</td>\n",
       "      <td>0.049797</td>\n",
       "    </tr>\n",
       "    <tr>\n",
       "      <th>1958</th>\n",
       "      <td>20</td>\n",
       "      <td>2</td>\n",
       "      <td>6</td>\n",
       "      <td>0</td>\n",
       "      <td>0.214286</td>\n",
       "      <td>0.943651</td>\n",
       "      <td>0.017766</td>\n",
       "      <td>NaN</td>\n",
       "      <td>NaN</td>\n",
       "      <td>NaN</td>\n",
       "      <td>NaN</td>\n",
       "      <td>NaN</td>\n",
       "      <td>0.973722</td>\n",
       "      <td>0.049797</td>\n",
       "    </tr>\n",
       "    <tr>\n",
       "      <th>1959</th>\n",
       "      <td>11</td>\n",
       "      <td>2</td>\n",
       "      <td>10</td>\n",
       "      <td>0</td>\n",
       "      <td>0.434783</td>\n",
       "      <td>0.943651</td>\n",
       "      <td>0.017766</td>\n",
       "      <td>NaN</td>\n",
       "      <td>NaN</td>\n",
       "      <td>NaN</td>\n",
       "      <td>NaN</td>\n",
       "      <td>NaN</td>\n",
       "      <td>0.973722</td>\n",
       "      <td>0.049797</td>\n",
       "    </tr>\n",
       "    <tr>\n",
       "      <th>1960</th>\n",
       "      <td>19</td>\n",
       "      <td>0</td>\n",
       "      <td>19</td>\n",
       "      <td>0</td>\n",
       "      <td>0.500000</td>\n",
       "      <td>0.943651</td>\n",
       "      <td>0.017766</td>\n",
       "      <td>NaN</td>\n",
       "      <td>NaN</td>\n",
       "      <td>NaN</td>\n",
       "      <td>NaN</td>\n",
       "      <td>NaN</td>\n",
       "      <td>0.973722</td>\n",
       "      <td>0.049797</td>\n",
       "    </tr>\n",
       "    <tr>\n",
       "      <th>1961</th>\n",
       "      <td>20</td>\n",
       "      <td>2</td>\n",
       "      <td>28</td>\n",
       "      <td>0</td>\n",
       "      <td>0.560000</td>\n",
       "      <td>0.943651</td>\n",
       "      <td>0.017766</td>\n",
       "      <td>NaN</td>\n",
       "      <td>NaN</td>\n",
       "      <td>NaN</td>\n",
       "      <td>NaN</td>\n",
       "      <td>NaN</td>\n",
       "      <td>0.973722</td>\n",
       "      <td>0.049797</td>\n",
       "    </tr>\n",
       "  </tbody>\n",
       "</table>\n",
       "</div>"
      ],
      "text/plain": [
       "             world failure  world partial failure  world success  \\\n",
       "launch year                                                        \n",
       "1957                     1                      1              1   \n",
       "1958                    20                      2              6   \n",
       "1959                    11                      2             10   \n",
       "1960                    19                      0             19   \n",
       "1961                    20                      2             28   \n",
       "\n",
       "             world planned  world success rate  \\\n",
       "launch year                                      \n",
       "1957                     0            0.333333   \n",
       "1958                     0            0.214286   \n",
       "1959                     0            0.434783   \n",
       "1960                     0            0.500000   \n",
       "1961                     0            0.560000   \n",
       "\n",
       "             world mean success rate after 2000  \\\n",
       "launch year                                       \n",
       "1957                                   0.943651   \n",
       "1958                                   0.943651   \n",
       "1959                                   0.943651   \n",
       "1960                                   0.943651   \n",
       "1961                                   0.943651   \n",
       "\n",
       "             world std success rate after 2000  china failure  \\\n",
       "launch year                                                     \n",
       "1957                                  0.017766            NaN   \n",
       "1958                                  0.017766            NaN   \n",
       "1959                                  0.017766            NaN   \n",
       "1960                                  0.017766            NaN   \n",
       "1961                                  0.017766            NaN   \n",
       "\n",
       "             china partial failure  china success  china planned  \\\n",
       "launch year                                                        \n",
       "1957                           NaN            NaN            NaN   \n",
       "1958                           NaN            NaN            NaN   \n",
       "1959                           NaN            NaN            NaN   \n",
       "1960                           NaN            NaN            NaN   \n",
       "1961                           NaN            NaN            NaN   \n",
       "\n",
       "             china success rate  china mean success rate after 2000  \\\n",
       "launch year                                                           \n",
       "1957                        NaN                            0.973722   \n",
       "1958                        NaN                            0.973722   \n",
       "1959                        NaN                            0.973722   \n",
       "1960                        NaN                            0.973722   \n",
       "1961                        NaN                            0.973722   \n",
       "\n",
       "             china std success rate after 2000  \n",
       "launch year                                     \n",
       "1957                                  0.049797  \n",
       "1958                                  0.049797  \n",
       "1959                                  0.049797  \n",
       "1960                                  0.049797  \n",
       "1961                                  0.049797  "
      ]
     },
     "execution_count": 480,
     "metadata": {},
     "output_type": "execute_result"
    }
   ],
   "source": [
    "df_world_china.head()"
   ]
  },
  {
   "cell_type": "code",
   "execution_count": 481,
   "metadata": {},
   "outputs": [],
   "source": [
    "df_world_china.to_csv('data/space-exploration-world-and-china-launches-by-year.csv')"
   ]
  },
  {
   "cell_type": "code",
   "execution_count": 477,
   "metadata": {},
   "outputs": [
    {
     "data": {
      "image/png": "[encoded data removed]",
      "text/plain": [
       "<Figure size 1440x444.96 with 1 Axes>"
      ]
     },
     "metadata": {},
     "output_type": "display_data"
    }
   ],
   "source": [
    "fig, ax = plt.subplots( figsize=(20,6.18) )\n",
    "\n",
    "df_world_china.loc[2000:][ ['world success rate', 'world mean success rate after 2000' ] ].plot(ax=ax, color= 'g', style=['-', '--'] )\n",
    "df_world_china.loc[2000:][ ['china success rate', 'china mean success rate after 2000' ] ].plot(ax=ax, color= 'r', style=['-', '--'] )\n",
    "ax.set_xticks( df_world_china.loc[2000:].index.values )\n",
    "ax.set_xticklabels( df_world_china.loc[2000:].index.values );\n",
    "ax.set_ylabel('Success Rate of Launches')\n",
    "ax.set_ylim([0,1.1])\n",
    "fig.savefig('export/space-launch-success-rate-china-world-yearly.png')"
   ]
  },
  {
   "cell_type": "code",
   "execution_count": 478,
   "metadata": {},
   "outputs": [
    {
     "data": {
      "image/png": "[encoded data removed]",
      "text/plain": [
       "<Figure size 1440x444.96 with 1 Axes>"
      ]
     },
     "metadata": {},
     "output_type": "display_data"
    }
   ],
   "source": [
    "fig, ax = plt.subplots( figsize=(20,6.18) )\n",
    "\n",
    "df_world_china[ ['world success rate', 'world mean success rate after 2000', 'china mean success rate after 2000' ] ].plot(ax=ax, color= ['g','g','r'], style=['-', '--', ':'] )\n",
    "ax.set_xticks( launch_years[::3] )\n",
    "ax.set_xticklabels( launch_years[::3] );\n",
    "ax.set_ylabel('Success Rate of Launches')\n",
    "fig.savefig('export/space-launch-success-rate-with-china-mean-yearly.png')"
   ]
  },
  {
   "cell_type": "markdown",
   "metadata": {},
   "source": [
    "## Air Transportation"
   ]
  },
  {
   "cell_type": "code",
   "execution_count": 235,
   "metadata": {},
   "outputs": [],
   "source": [
    "df_air = pd.read_csv('data/air-transport-passengers-carried.csv')"
   ]
  },
  {
   "cell_type": "code",
   "execution_count": 239,
   "metadata": {},
   "outputs": [],
   "source": [
    "df_air_t = df_air.transpose()"
   ]
  },
  {
   "cell_type": "code",
   "execution_count": 244,
   "metadata": {},
   "outputs": [],
   "source": [
    "df_air_summary = df_air.describe()"
   ]
  },
  {
   "cell_type": "code",
   "execution_count": 245,
   "metadata": {},
   "outputs": [
    {
     "data": {
      "text/html": [
       "<div>\n",
       "<style scoped>\n",
       "    .dataframe tbody tr th:only-of-type {\n",
       "        vertical-align: middle;\n",
       "    }\n",
       "\n",
       "    .dataframe tbody tr th {\n",
       "        vertical-align: top;\n",
       "    }\n",
       "\n",
       "    .dataframe thead th {\n",
       "        text-align: right;\n",
       "    }\n",
       "</style>\n",
       "<table border=\"1\" class=\"dataframe\">\n",
       "  <thead>\n",
       "    <tr style=\"text-align: right;\">\n",
       "      <th></th>\n",
       "      <th>1960</th>\n",
       "      <th>1961</th>\n",
       "      <th>1962</th>\n",
       "      <th>1963</th>\n",
       "      <th>1964</th>\n",
       "      <th>1965</th>\n",
       "      <th>1966</th>\n",
       "      <th>1967</th>\n",
       "      <th>1968</th>\n",
       "      <th>1969</th>\n",
       "      <th>...</th>\n",
       "      <th>2009</th>\n",
       "      <th>2010</th>\n",
       "      <th>2011</th>\n",
       "      <th>2012</th>\n",
       "      <th>2013</th>\n",
       "      <th>2014</th>\n",
       "      <th>2015</th>\n",
       "      <th>2016</th>\n",
       "      <th>2017</th>\n",
       "      <th>Unnamed: 62</th>\n",
       "    </tr>\n",
       "  </thead>\n",
       "  <tbody>\n",
       "    <tr>\n",
       "      <th>count</th>\n",
       "      <td>0.0</td>\n",
       "      <td>0.0</td>\n",
       "      <td>0.0</td>\n",
       "      <td>0.0</td>\n",
       "      <td>0.0</td>\n",
       "      <td>0.0</td>\n",
       "      <td>0.0</td>\n",
       "      <td>0.0</td>\n",
       "      <td>0.0</td>\n",
       "      <td>0.0</td>\n",
       "      <td>...</td>\n",
       "      <td>1.820000e+02</td>\n",
       "      <td>2.050000e+02</td>\n",
       "      <td>2.050000e+02</td>\n",
       "      <td>2.050000e+02</td>\n",
       "      <td>2.040000e+02</td>\n",
       "      <td>2.040000e+02</td>\n",
       "      <td>2.000000e+02</td>\n",
       "      <td>2.010000e+02</td>\n",
       "      <td>1.990000e+02</td>\n",
       "      <td>0.0</td>\n",
       "    </tr>\n",
       "    <tr>\n",
       "      <th>mean</th>\n",
       "      <td>NaN</td>\n",
       "      <td>NaN</td>\n",
       "      <td>NaN</td>\n",
       "      <td>NaN</td>\n",
       "      <td>NaN</td>\n",
       "      <td>NaN</td>\n",
       "      <td>NaN</td>\n",
       "      <td>NaN</td>\n",
       "      <td>NaN</td>\n",
       "      <td>NaN</td>\n",
       "      <td>...</td>\n",
       "      <td>9.756383e+07</td>\n",
       "      <td>1.034285e+08</td>\n",
       "      <td>1.109374e+08</td>\n",
       "      <td>1.164027e+08</td>\n",
       "      <td>1.238505e+08</td>\n",
       "      <td>1.317110e+08</td>\n",
       "      <td>1.451395e+08</td>\n",
       "      <td>1.549384e+08</td>\n",
       "      <td>1.689135e+08</td>\n",
       "      <td>NaN</td>\n",
       "    </tr>\n",
       "    <tr>\n",
       "      <th>std</th>\n",
       "      <td>NaN</td>\n",
       "      <td>NaN</td>\n",
       "      <td>NaN</td>\n",
       "      <td>NaN</td>\n",
       "      <td>NaN</td>\n",
       "      <td>NaN</td>\n",
       "      <td>NaN</td>\n",
       "      <td>NaN</td>\n",
       "      <td>NaN</td>\n",
       "      <td>NaN</td>\n",
       "      <td>...</td>\n",
       "      <td>2.886695e+08</td>\n",
       "      <td>3.150289e+08</td>\n",
       "      <td>3.331397e+08</td>\n",
       "      <td>3.464099e+08</td>\n",
       "      <td>3.657630e+08</td>\n",
       "      <td>3.874896e+08</td>\n",
       "      <td>4.203152e+08</td>\n",
       "      <td>4.485057e+08</td>\n",
       "      <td>4.853347e+08</td>\n",
       "      <td>NaN</td>\n",
       "    </tr>\n",
       "    <tr>\n",
       "      <th>min</th>\n",
       "      <td>NaN</td>\n",
       "      <td>NaN</td>\n",
       "      <td>NaN</td>\n",
       "      <td>NaN</td>\n",
       "      <td>NaN</td>\n",
       "      <td>NaN</td>\n",
       "      <td>NaN</td>\n",
       "      <td>NaN</td>\n",
       "      <td>NaN</td>\n",
       "      <td>NaN</td>\n",
       "      <td>...</td>\n",
       "      <td>2.178400e+04</td>\n",
       "      <td>0.000000e+00</td>\n",
       "      <td>0.000000e+00</td>\n",
       "      <td>0.000000e+00</td>\n",
       "      <td>0.000000e+00</td>\n",
       "      <td>0.000000e+00</td>\n",
       "      <td>3.036000e+03</td>\n",
       "      <td>8.990000e+02</td>\n",
       "      <td>3.160000e+02</td>\n",
       "      <td>NaN</td>\n",
       "    </tr>\n",
       "    <tr>\n",
       "      <th>25%</th>\n",
       "      <td>NaN</td>\n",
       "      <td>NaN</td>\n",
       "      <td>NaN</td>\n",
       "      <td>NaN</td>\n",
       "      <td>NaN</td>\n",
       "      <td>NaN</td>\n",
       "      <td>NaN</td>\n",
       "      <td>NaN</td>\n",
       "      <td>NaN</td>\n",
       "      <td>NaN</td>\n",
       "      <td>...</td>\n",
       "      <td>7.521030e+05</td>\n",
       "      <td>5.705530e+05</td>\n",
       "      <td>5.441007e+05</td>\n",
       "      <td>6.501305e+05</td>\n",
       "      <td>6.244718e+05</td>\n",
       "      <td>6.073530e+05</td>\n",
       "      <td>8.418162e+05</td>\n",
       "      <td>6.670620e+05</td>\n",
       "      <td>7.839970e+05</td>\n",
       "      <td>NaN</td>\n",
       "    </tr>\n",
       "    <tr>\n",
       "      <th>50%</th>\n",
       "      <td>NaN</td>\n",
       "      <td>NaN</td>\n",
       "      <td>NaN</td>\n",
       "      <td>NaN</td>\n",
       "      <td>NaN</td>\n",
       "      <td>NaN</td>\n",
       "      <td>NaN</td>\n",
       "      <td>NaN</td>\n",
       "      <td>NaN</td>\n",
       "      <td>NaN</td>\n",
       "      <td>...</td>\n",
       "      <td>3.347920e+06</td>\n",
       "      <td>3.372283e+06</td>\n",
       "      <td>3.786453e+06</td>\n",
       "      <td>4.082595e+06</td>\n",
       "      <td>4.637628e+06</td>\n",
       "      <td>4.566060e+06</td>\n",
       "      <td>4.766130e+06</td>\n",
       "      <td>5.220218e+06</td>\n",
       "      <td>5.450671e+06</td>\n",
       "      <td>NaN</td>\n",
       "    </tr>\n",
       "    <tr>\n",
       "      <th>75%</th>\n",
       "      <td>NaN</td>\n",
       "      <td>NaN</td>\n",
       "      <td>NaN</td>\n",
       "      <td>NaN</td>\n",
       "      <td>NaN</td>\n",
       "      <td>NaN</td>\n",
       "      <td>NaN</td>\n",
       "      <td>NaN</td>\n",
       "      <td>NaN</td>\n",
       "      <td>NaN</td>\n",
       "      <td>...</td>\n",
       "      <td>3.165608e+07</td>\n",
       "      <td>3.621202e+07</td>\n",
       "      <td>3.898888e+07</td>\n",
       "      <td>3.996958e+07</td>\n",
       "      <td>4.353201e+07</td>\n",
       "      <td>4.492240e+07</td>\n",
       "      <td>5.041309e+07</td>\n",
       "      <td>5.381735e+07</td>\n",
       "      <td>5.836285e+07</td>\n",
       "      <td>NaN</td>\n",
       "    </tr>\n",
       "    <tr>\n",
       "      <th>max</th>\n",
       "      <td>NaN</td>\n",
       "      <td>NaN</td>\n",
       "      <td>NaN</td>\n",
       "      <td>NaN</td>\n",
       "      <td>NaN</td>\n",
       "      <td>NaN</td>\n",
       "      <td>NaN</td>\n",
       "      <td>NaN</td>\n",
       "      <td>NaN</td>\n",
       "      <td>NaN</td>\n",
       "      <td>...</td>\n",
       "      <td>2.249729e+09</td>\n",
       "      <td>2.628261e+09</td>\n",
       "      <td>2.786954e+09</td>\n",
       "      <td>2.894055e+09</td>\n",
       "      <td>3.048275e+09</td>\n",
       "      <td>3.227291e+09</td>\n",
       "      <td>3.466478e+09</td>\n",
       "      <td>3.705102e+09</td>\n",
       "      <td>3.978849e+09</td>\n",
       "      <td>NaN</td>\n",
       "    </tr>\n",
       "  </tbody>\n",
       "</table>\n",
       "<p>8 rows × 59 columns</p>\n",
       "</div>"
      ],
      "text/plain": [
       "       1960  1961  1962  1963  1964  1965  1966  1967  1968  1969  \\\n",
       "count   0.0   0.0   0.0   0.0   0.0   0.0   0.0   0.0   0.0   0.0   \n",
       "mean    NaN   NaN   NaN   NaN   NaN   NaN   NaN   NaN   NaN   NaN   \n",
       "std     NaN   NaN   NaN   NaN   NaN   NaN   NaN   NaN   NaN   NaN   \n",
       "min     NaN   NaN   NaN   NaN   NaN   NaN   NaN   NaN   NaN   NaN   \n",
       "25%     NaN   NaN   NaN   NaN   NaN   NaN   NaN   NaN   NaN   NaN   \n",
       "50%     NaN   NaN   NaN   NaN   NaN   NaN   NaN   NaN   NaN   NaN   \n",
       "75%     NaN   NaN   NaN   NaN   NaN   NaN   NaN   NaN   NaN   NaN   \n",
       "max     NaN   NaN   NaN   NaN   NaN   NaN   NaN   NaN   NaN   NaN   \n",
       "\n",
       "          ...               2009          2010          2011          2012  \\\n",
       "count     ...       1.820000e+02  2.050000e+02  2.050000e+02  2.050000e+02   \n",
       "mean      ...       9.756383e+07  1.034285e+08  1.109374e+08  1.164027e+08   \n",
       "std       ...       2.886695e+08  3.150289e+08  3.331397e+08  3.464099e+08   \n",
       "min       ...       2.178400e+04  0.000000e+00  0.000000e+00  0.000000e+00   \n",
       "25%       ...       7.521030e+05  5.705530e+05  5.441007e+05  6.501305e+05   \n",
       "50%       ...       3.347920e+06  3.372283e+06  3.786453e+06  4.082595e+06   \n",
       "75%       ...       3.165608e+07  3.621202e+07  3.898888e+07  3.996958e+07   \n",
       "max       ...       2.249729e+09  2.628261e+09  2.786954e+09  2.894055e+09   \n",
       "\n",
       "               2013          2014          2015          2016          2017  \\\n",
       "count  2.040000e+02  2.040000e+02  2.000000e+02  2.010000e+02  1.990000e+02   \n",
       "mean   1.238505e+08  1.317110e+08  1.451395e+08  1.549384e+08  1.689135e+08   \n",
       "std    3.657630e+08  3.874896e+08  4.203152e+08  4.485057e+08  4.853347e+08   \n",
       "min    0.000000e+00  0.000000e+00  3.036000e+03  8.990000e+02  3.160000e+02   \n",
       "25%    6.244718e+05  6.073530e+05  8.418162e+05  6.670620e+05  7.839970e+05   \n",
       "50%    4.637628e+06  4.566060e+06  4.766130e+06  5.220218e+06  5.450671e+06   \n",
       "75%    4.353201e+07  4.492240e+07  5.041309e+07  5.381735e+07  5.836285e+07   \n",
       "max    3.048275e+09  3.227291e+09  3.466478e+09  3.705102e+09  3.978849e+09   \n",
       "\n",
       "       Unnamed: 62  \n",
       "count          0.0  \n",
       "mean           NaN  \n",
       "std            NaN  \n",
       "min            NaN  \n",
       "25%            NaN  \n",
       "50%            NaN  \n",
       "75%            NaN  \n",
       "max            NaN  \n",
       "\n",
       "[8 rows x 59 columns]"
      ]
     },
     "execution_count": 245,
     "metadata": {},
     "output_type": "execute_result"
    }
   ],
   "source": [
    "df_air_summary"
   ]
  },
  {
   "cell_type": "code",
   "execution_count": 247,
   "metadata": {},
   "outputs": [],
   "source": [
    "df_air_sum = pd.DataFrame( {\n",
    "    'count': df_air_summary.loc['count'],\n",
    "    'mean': df_air_summary.loc['mean'],\n",
    "    'year': df_air_summary.columns\n",
    "})"
   ]
  },
  {
   "cell_type": "code",
   "execution_count": 252,
   "metadata": {},
   "outputs": [
    {
     "data": {
      "text/plain": [
       "count    float64\n",
       "mean     float64\n",
       "year      object\n",
       "dtype: object"
      ]
     },
     "execution_count": 252,
     "metadata": {},
     "output_type": "execute_result"
    }
   ],
   "source": [
    "df_air_sum.dtypes"
   ]
  },
  {
   "cell_type": "code",
   "execution_count": 255,
   "metadata": {},
   "outputs": [],
   "source": [
    "df_air_sum['sum'] = df_air_sum.apply( lambda x: x['mean'] * x['count'], axis=1 )"
   ]
  },
  {
   "cell_type": "code",
   "execution_count": 256,
   "metadata": {},
   "outputs": [
    {
     "data": {
      "text/html": [
       "<div>\n",
       "<style scoped>\n",
       "    .dataframe tbody tr th:only-of-type {\n",
       "        vertical-align: middle;\n",
       "    }\n",
       "\n",
       "    .dataframe tbody tr th {\n",
       "        vertical-align: top;\n",
       "    }\n",
       "\n",
       "    .dataframe thead th {\n",
       "        text-align: right;\n",
       "    }\n",
       "</style>\n",
       "<table border=\"1\" class=\"dataframe\">\n",
       "  <thead>\n",
       "    <tr style=\"text-align: right;\">\n",
       "      <th></th>\n",
       "      <th>count</th>\n",
       "      <th>mean</th>\n",
       "      <th>year</th>\n",
       "      <th>sum</th>\n",
       "    </tr>\n",
       "  </thead>\n",
       "  <tbody>\n",
       "    <tr>\n",
       "      <th>1960</th>\n",
       "      <td>0.0</td>\n",
       "      <td>NaN</td>\n",
       "      <td>1960</td>\n",
       "      <td>NaN</td>\n",
       "    </tr>\n",
       "    <tr>\n",
       "      <th>1961</th>\n",
       "      <td>0.0</td>\n",
       "      <td>NaN</td>\n",
       "      <td>1961</td>\n",
       "      <td>NaN</td>\n",
       "    </tr>\n",
       "    <tr>\n",
       "      <th>1962</th>\n",
       "      <td>0.0</td>\n",
       "      <td>NaN</td>\n",
       "      <td>1962</td>\n",
       "      <td>NaN</td>\n",
       "    </tr>\n",
       "    <tr>\n",
       "      <th>1963</th>\n",
       "      <td>0.0</td>\n",
       "      <td>NaN</td>\n",
       "      <td>1963</td>\n",
       "      <td>NaN</td>\n",
       "    </tr>\n",
       "    <tr>\n",
       "      <th>1964</th>\n",
       "      <td>0.0</td>\n",
       "      <td>NaN</td>\n",
       "      <td>1964</td>\n",
       "      <td>NaN</td>\n",
       "    </tr>\n",
       "    <tr>\n",
       "      <th>1965</th>\n",
       "      <td>0.0</td>\n",
       "      <td>NaN</td>\n",
       "      <td>1965</td>\n",
       "      <td>NaN</td>\n",
       "    </tr>\n",
       "    <tr>\n",
       "      <th>1966</th>\n",
       "      <td>0.0</td>\n",
       "      <td>NaN</td>\n",
       "      <td>1966</td>\n",
       "      <td>NaN</td>\n",
       "    </tr>\n",
       "    <tr>\n",
       "      <th>1967</th>\n",
       "      <td>0.0</td>\n",
       "      <td>NaN</td>\n",
       "      <td>1967</td>\n",
       "      <td>NaN</td>\n",
       "    </tr>\n",
       "    <tr>\n",
       "      <th>1968</th>\n",
       "      <td>0.0</td>\n",
       "      <td>NaN</td>\n",
       "      <td>1968</td>\n",
       "      <td>NaN</td>\n",
       "    </tr>\n",
       "    <tr>\n",
       "      <th>1969</th>\n",
       "      <td>0.0</td>\n",
       "      <td>NaN</td>\n",
       "      <td>1969</td>\n",
       "      <td>NaN</td>\n",
       "    </tr>\n",
       "    <tr>\n",
       "      <th>1970</th>\n",
       "      <td>145.0</td>\n",
       "      <td>1.287005e+07</td>\n",
       "      <td>1970</td>\n",
       "      <td>1.866157e+09</td>\n",
       "    </tr>\n",
       "    <tr>\n",
       "      <th>1971</th>\n",
       "      <td>147.0</td>\n",
       "      <td>1.357727e+07</td>\n",
       "      <td>1971</td>\n",
       "      <td>1.995858e+09</td>\n",
       "    </tr>\n",
       "    <tr>\n",
       "      <th>1972</th>\n",
       "      <td>145.0</td>\n",
       "      <td>1.265414e+07</td>\n",
       "      <td>1972</td>\n",
       "      <td>1.834851e+09</td>\n",
       "    </tr>\n",
       "    <tr>\n",
       "      <th>1973</th>\n",
       "      <td>149.0</td>\n",
       "      <td>1.615547e+07</td>\n",
       "      <td>1973</td>\n",
       "      <td>2.407165e+09</td>\n",
       "    </tr>\n",
       "    <tr>\n",
       "      <th>1974</th>\n",
       "      <td>163.0</td>\n",
       "      <td>1.764458e+07</td>\n",
       "      <td>1974</td>\n",
       "      <td>2.876067e+09</td>\n",
       "    </tr>\n",
       "    <tr>\n",
       "      <th>1975</th>\n",
       "      <td>168.0</td>\n",
       "      <td>1.779737e+07</td>\n",
       "      <td>1975</td>\n",
       "      <td>2.989958e+09</td>\n",
       "    </tr>\n",
       "    <tr>\n",
       "      <th>1976</th>\n",
       "      <td>172.0</td>\n",
       "      <td>1.907453e+07</td>\n",
       "      <td>1976</td>\n",
       "      <td>3.280818e+09</td>\n",
       "    </tr>\n",
       "    <tr>\n",
       "      <th>1977</th>\n",
       "      <td>172.0</td>\n",
       "      <td>2.075610e+07</td>\n",
       "      <td>1977</td>\n",
       "      <td>3.570050e+09</td>\n",
       "    </tr>\n",
       "    <tr>\n",
       "      <th>1978</th>\n",
       "      <td>173.0</td>\n",
       "      <td>2.312858e+07</td>\n",
       "      <td>1978</td>\n",
       "      <td>4.001245e+09</td>\n",
       "    </tr>\n",
       "    <tr>\n",
       "      <th>1979</th>\n",
       "      <td>175.0</td>\n",
       "      <td>2.572554e+07</td>\n",
       "      <td>1979</td>\n",
       "      <td>4.501970e+09</td>\n",
       "    </tr>\n",
       "    <tr>\n",
       "      <th>1980</th>\n",
       "      <td>180.0</td>\n",
       "      <td>2.502693e+07</td>\n",
       "      <td>1980</td>\n",
       "      <td>4.504847e+09</td>\n",
       "    </tr>\n",
       "    <tr>\n",
       "      <th>1981</th>\n",
       "      <td>183.0</td>\n",
       "      <td>2.479053e+07</td>\n",
       "      <td>1981</td>\n",
       "      <td>4.536667e+09</td>\n",
       "    </tr>\n",
       "    <tr>\n",
       "      <th>1982</th>\n",
       "      <td>185.0</td>\n",
       "      <td>2.510708e+07</td>\n",
       "      <td>1982</td>\n",
       "      <td>4.644810e+09</td>\n",
       "    </tr>\n",
       "    <tr>\n",
       "      <th>1983</th>\n",
       "      <td>185.0</td>\n",
       "      <td>2.621469e+07</td>\n",
       "      <td>1983</td>\n",
       "      <td>4.849717e+09</td>\n",
       "    </tr>\n",
       "    <tr>\n",
       "      <th>1984</th>\n",
       "      <td>188.0</td>\n",
       "      <td>2.749760e+07</td>\n",
       "      <td>1984</td>\n",
       "      <td>5.169549e+09</td>\n",
       "    </tr>\n",
       "    <tr>\n",
       "      <th>1985</th>\n",
       "      <td>189.0</td>\n",
       "      <td>2.915406e+07</td>\n",
       "      <td>1985</td>\n",
       "      <td>5.510117e+09</td>\n",
       "    </tr>\n",
       "    <tr>\n",
       "      <th>1986</th>\n",
       "      <td>189.0</td>\n",
       "      <td>3.124599e+07</td>\n",
       "      <td>1986</td>\n",
       "      <td>5.905492e+09</td>\n",
       "    </tr>\n",
       "    <tr>\n",
       "      <th>1987</th>\n",
       "      <td>190.0</td>\n",
       "      <td>3.332837e+07</td>\n",
       "      <td>1987</td>\n",
       "      <td>6.332390e+09</td>\n",
       "    </tr>\n",
       "    <tr>\n",
       "      <th>1988</th>\n",
       "      <td>191.0</td>\n",
       "      <td>3.504809e+07</td>\n",
       "      <td>1988</td>\n",
       "      <td>6.694185e+09</td>\n",
       "    </tr>\n",
       "    <tr>\n",
       "      <th>1989</th>\n",
       "      <td>191.0</td>\n",
       "      <td>3.607536e+07</td>\n",
       "      <td>1989</td>\n",
       "      <td>6.890395e+09</td>\n",
       "    </tr>\n",
       "    <tr>\n",
       "      <th>1990</th>\n",
       "      <td>191.0</td>\n",
       "      <td>3.760631e+07</td>\n",
       "      <td>1990</td>\n",
       "      <td>7.182804e+09</td>\n",
       "    </tr>\n",
       "    <tr>\n",
       "      <th>1991</th>\n",
       "      <td>195.0</td>\n",
       "      <td>4.321195e+07</td>\n",
       "      <td>1991</td>\n",
       "      <td>8.426329e+09</td>\n",
       "    </tr>\n",
       "    <tr>\n",
       "      <th>1992</th>\n",
       "      <td>204.0</td>\n",
       "      <td>4.231283e+07</td>\n",
       "      <td>1992</td>\n",
       "      <td>8.631818e+09</td>\n",
       "    </tr>\n",
       "    <tr>\n",
       "      <th>1993</th>\n",
       "      <td>208.0</td>\n",
       "      <td>4.091522e+07</td>\n",
       "      <td>1993</td>\n",
       "      <td>8.510366e+09</td>\n",
       "    </tr>\n",
       "    <tr>\n",
       "      <th>1994</th>\n",
       "      <td>210.0</td>\n",
       "      <td>4.361480e+07</td>\n",
       "      <td>1994</td>\n",
       "      <td>9.159108e+09</td>\n",
       "    </tr>\n",
       "    <tr>\n",
       "      <th>1995</th>\n",
       "      <td>206.0</td>\n",
       "      <td>4.699636e+07</td>\n",
       "      <td>1995</td>\n",
       "      <td>9.681250e+09</td>\n",
       "    </tr>\n",
       "    <tr>\n",
       "      <th>1996</th>\n",
       "      <td>208.0</td>\n",
       "      <td>4.948879e+07</td>\n",
       "      <td>1996</td>\n",
       "      <td>1.029367e+10</td>\n",
       "    </tr>\n",
       "    <tr>\n",
       "      <th>1997</th>\n",
       "      <td>209.0</td>\n",
       "      <td>5.148545e+07</td>\n",
       "      <td>1997</td>\n",
       "      <td>1.076046e+10</td>\n",
       "    </tr>\n",
       "    <tr>\n",
       "      <th>1998</th>\n",
       "      <td>210.0</td>\n",
       "      <td>5.159658e+07</td>\n",
       "      <td>1998</td>\n",
       "      <td>1.083528e+10</td>\n",
       "    </tr>\n",
       "    <tr>\n",
       "      <th>1999</th>\n",
       "      <td>203.0</td>\n",
       "      <td>5.652634e+07</td>\n",
       "      <td>1999</td>\n",
       "      <td>1.147485e+10</td>\n",
       "    </tr>\n",
       "    <tr>\n",
       "      <th>2000</th>\n",
       "      <td>201.0</td>\n",
       "      <td>6.109103e+07</td>\n",
       "      <td>2000</td>\n",
       "      <td>1.227930e+10</td>\n",
       "    </tr>\n",
       "    <tr>\n",
       "      <th>2001</th>\n",
       "      <td>201.0</td>\n",
       "      <td>6.130171e+07</td>\n",
       "      <td>2001</td>\n",
       "      <td>1.232164e+10</td>\n",
       "    </tr>\n",
       "    <tr>\n",
       "      <th>2002</th>\n",
       "      <td>188.0</td>\n",
       "      <td>6.447087e+07</td>\n",
       "      <td>2002</td>\n",
       "      <td>1.212052e+10</td>\n",
       "    </tr>\n",
       "    <tr>\n",
       "      <th>2003</th>\n",
       "      <td>189.0</td>\n",
       "      <td>6.600647e+07</td>\n",
       "      <td>2003</td>\n",
       "      <td>1.247522e+10</td>\n",
       "    </tr>\n",
       "    <tr>\n",
       "      <th>2004</th>\n",
       "      <td>187.0</td>\n",
       "      <td>7.628911e+07</td>\n",
       "      <td>2004</td>\n",
       "      <td>1.426606e+10</td>\n",
       "    </tr>\n",
       "    <tr>\n",
       "      <th>2005</th>\n",
       "      <td>179.0</td>\n",
       "      <td>8.371204e+07</td>\n",
       "      <td>2005</td>\n",
       "      <td>1.498446e+10</td>\n",
       "    </tr>\n",
       "    <tr>\n",
       "      <th>2006</th>\n",
       "      <td>178.0</td>\n",
       "      <td>8.938296e+07</td>\n",
       "      <td>2006</td>\n",
       "      <td>1.591017e+10</td>\n",
       "    </tr>\n",
       "    <tr>\n",
       "      <th>2007</th>\n",
       "      <td>178.0</td>\n",
       "      <td>9.618326e+07</td>\n",
       "      <td>2007</td>\n",
       "      <td>1.712062e+10</td>\n",
       "    </tr>\n",
       "    <tr>\n",
       "      <th>2008</th>\n",
       "      <td>180.0</td>\n",
       "      <td>9.600924e+07</td>\n",
       "      <td>2008</td>\n",
       "      <td>1.728166e+10</td>\n",
       "    </tr>\n",
       "    <tr>\n",
       "      <th>2009</th>\n",
       "      <td>182.0</td>\n",
       "      <td>9.756383e+07</td>\n",
       "      <td>2009</td>\n",
       "      <td>1.775662e+10</td>\n",
       "    </tr>\n",
       "    <tr>\n",
       "      <th>2010</th>\n",
       "      <td>205.0</td>\n",
       "      <td>1.034285e+08</td>\n",
       "      <td>2010</td>\n",
       "      <td>2.120285e+10</td>\n",
       "    </tr>\n",
       "    <tr>\n",
       "      <th>2011</th>\n",
       "      <td>205.0</td>\n",
       "      <td>1.109374e+08</td>\n",
       "      <td>2011</td>\n",
       "      <td>2.274217e+10</td>\n",
       "    </tr>\n",
       "    <tr>\n",
       "      <th>2012</th>\n",
       "      <td>205.0</td>\n",
       "      <td>1.164027e+08</td>\n",
       "      <td>2012</td>\n",
       "      <td>2.386256e+10</td>\n",
       "    </tr>\n",
       "    <tr>\n",
       "      <th>2013</th>\n",
       "      <td>204.0</td>\n",
       "      <td>1.238505e+08</td>\n",
       "      <td>2013</td>\n",
       "      <td>2.526550e+10</td>\n",
       "    </tr>\n",
       "    <tr>\n",
       "      <th>2014</th>\n",
       "      <td>204.0</td>\n",
       "      <td>1.317110e+08</td>\n",
       "      <td>2014</td>\n",
       "      <td>2.686904e+10</td>\n",
       "    </tr>\n",
       "    <tr>\n",
       "      <th>2015</th>\n",
       "      <td>200.0</td>\n",
       "      <td>1.451395e+08</td>\n",
       "      <td>2015</td>\n",
       "      <td>2.902789e+10</td>\n",
       "    </tr>\n",
       "    <tr>\n",
       "      <th>2016</th>\n",
       "      <td>201.0</td>\n",
       "      <td>1.549384e+08</td>\n",
       "      <td>2016</td>\n",
       "      <td>3.114262e+10</td>\n",
       "    </tr>\n",
       "    <tr>\n",
       "      <th>2017</th>\n",
       "      <td>199.0</td>\n",
       "      <td>1.689135e+08</td>\n",
       "      <td>2017</td>\n",
       "      <td>3.361378e+10</td>\n",
       "    </tr>\n",
       "    <tr>\n",
       "      <th>Unnamed: 62</th>\n",
       "      <td>0.0</td>\n",
       "      <td>NaN</td>\n",
       "      <td>Unnamed: 62</td>\n",
       "      <td>NaN</td>\n",
       "    </tr>\n",
       "  </tbody>\n",
       "</table>\n",
       "</div>"
      ],
      "text/plain": [
       "             count          mean         year           sum\n",
       "1960           0.0           NaN         1960           NaN\n",
       "1961           0.0           NaN         1961           NaN\n",
       "1962           0.0           NaN         1962           NaN\n",
       "1963           0.0           NaN         1963           NaN\n",
       "1964           0.0           NaN         1964           NaN\n",
       "1965           0.0           NaN         1965           NaN\n",
       "1966           0.0           NaN         1966           NaN\n",
       "1967           0.0           NaN         1967           NaN\n",
       "1968           0.0           NaN         1968           NaN\n",
       "1969           0.0           NaN         1969           NaN\n",
       "1970         145.0  1.287005e+07         1970  1.866157e+09\n",
       "1971         147.0  1.357727e+07         1971  1.995858e+09\n",
       "1972         145.0  1.265414e+07         1972  1.834851e+09\n",
       "1973         149.0  1.615547e+07         1973  2.407165e+09\n",
       "1974         163.0  1.764458e+07         1974  2.876067e+09\n",
       "1975         168.0  1.779737e+07         1975  2.989958e+09\n",
       "1976         172.0  1.907453e+07         1976  3.280818e+09\n",
       "1977         172.0  2.075610e+07         1977  3.570050e+09\n",
       "1978         173.0  2.312858e+07         1978  4.001245e+09\n",
       "1979         175.0  2.572554e+07         1979  4.501970e+09\n",
       "1980         180.0  2.502693e+07         1980  4.504847e+09\n",
       "1981         183.0  2.479053e+07         1981  4.536667e+09\n",
       "1982         185.0  2.510708e+07         1982  4.644810e+09\n",
       "1983         185.0  2.621469e+07         1983  4.849717e+09\n",
       "1984         188.0  2.749760e+07         1984  5.169549e+09\n",
       "1985         189.0  2.915406e+07         1985  5.510117e+09\n",
       "1986         189.0  3.124599e+07         1986  5.905492e+09\n",
       "1987         190.0  3.332837e+07         1987  6.332390e+09\n",
       "1988         191.0  3.504809e+07         1988  6.694185e+09\n",
       "1989         191.0  3.607536e+07         1989  6.890395e+09\n",
       "1990         191.0  3.760631e+07         1990  7.182804e+09\n",
       "1991         195.0  4.321195e+07         1991  8.426329e+09\n",
       "1992         204.0  4.231283e+07         1992  8.631818e+09\n",
       "1993         208.0  4.091522e+07         1993  8.510366e+09\n",
       "1994         210.0  4.361480e+07         1994  9.159108e+09\n",
       "1995         206.0  4.699636e+07         1995  9.681250e+09\n",
       "1996         208.0  4.948879e+07         1996  1.029367e+10\n",
       "1997         209.0  5.148545e+07         1997  1.076046e+10\n",
       "1998         210.0  5.159658e+07         1998  1.083528e+10\n",
       "1999         203.0  5.652634e+07         1999  1.147485e+10\n",
       "2000         201.0  6.109103e+07         2000  1.227930e+10\n",
       "2001         201.0  6.130171e+07         2001  1.232164e+10\n",
       "2002         188.0  6.447087e+07         2002  1.212052e+10\n",
       "2003         189.0  6.600647e+07         2003  1.247522e+10\n",
       "2004         187.0  7.628911e+07         2004  1.426606e+10\n",
       "2005         179.0  8.371204e+07         2005  1.498446e+10\n",
       "2006         178.0  8.938296e+07         2006  1.591017e+10\n",
       "2007         178.0  9.618326e+07         2007  1.712062e+10\n",
       "2008         180.0  9.600924e+07         2008  1.728166e+10\n",
       "2009         182.0  9.756383e+07         2009  1.775662e+10\n",
       "2010         205.0  1.034285e+08         2010  2.120285e+10\n",
       "2011         205.0  1.109374e+08         2011  2.274217e+10\n",
       "2012         205.0  1.164027e+08         2012  2.386256e+10\n",
       "2013         204.0  1.238505e+08         2013  2.526550e+10\n",
       "2014         204.0  1.317110e+08         2014  2.686904e+10\n",
       "2015         200.0  1.451395e+08         2015  2.902789e+10\n",
       "2016         201.0  1.549384e+08         2016  3.114262e+10\n",
       "2017         199.0  1.689135e+08         2017  3.361378e+10\n",
       "Unnamed: 62    0.0           NaN  Unnamed: 62           NaN"
      ]
     },
     "execution_count": 256,
     "metadata": {},
     "output_type": "execute_result"
    }
   ],
   "source": [
    "df_air_sum"
   ]
  },
  {
   "cell_type": "code",
   "execution_count": 257,
   "metadata": {},
   "outputs": [],
   "source": [
    "df_air_sum.to_csv( 'data/air-transport-passengers-by-year.csv' )"
   ]
  },
  {
   "cell_type": "markdown",
   "metadata": {},
   "source": [
    "## Air Transportation and Death by Year"
   ]
  },
  {
   "cell_type": "code",
   "execution_count": 258,
   "metadata": {},
   "outputs": [
    {
     "name": "stdout",
     "output_type": "stream",
     "text": [
      "air-transport-passengers-by-year.csv\n",
      "air-transport-passengers-carried.csv\n",
      "air-transportation-and-death-by-year.csv\n",
      "space-exploration.csv\n"
     ]
    }
   ],
   "source": [
    "%%bash\n",
    "ls data"
   ]
  },
  {
   "cell_type": "code",
   "execution_count": 268,
   "metadata": {},
   "outputs": [],
   "source": [
    "df_air_and_death = pd.read_csv('data/air-transportation-and-death-by-year.csv')\n",
    "df_air_and_death.set_index('Year', inplace=True);"
   ]
  },
  {
   "cell_type": "code",
   "execution_count": 269,
   "metadata": {},
   "outputs": [
    {
     "data": {
      "text/html": [
       "<div>\n",
       "<style scoped>\n",
       "    .dataframe tbody tr th:only-of-type {\n",
       "        vertical-align: middle;\n",
       "    }\n",
       "\n",
       "    .dataframe tbody tr th {\n",
       "        vertical-align: top;\n",
       "    }\n",
       "\n",
       "    .dataframe thead th {\n",
       "        text-align: right;\n",
       "    }\n",
       "</style>\n",
       "<table border=\"1\" class=\"dataframe\">\n",
       "  <thead>\n",
       "    <tr style=\"text-align: right;\">\n",
       "      <th></th>\n",
       "      <th>Deaths</th>\n",
       "      <th>Incidents</th>\n",
       "      <th>Total Passengers</th>\n",
       "    </tr>\n",
       "    <tr>\n",
       "      <th>Year</th>\n",
       "      <th></th>\n",
       "      <th></th>\n",
       "      <th></th>\n",
       "    </tr>\n",
       "  </thead>\n",
       "  <tbody>\n",
       "    <tr>\n",
       "      <th>1970</th>\n",
       "      <td>2226</td>\n",
       "      <td>298</td>\n",
       "      <td>1866157152</td>\n",
       "    </tr>\n",
       "    <tr>\n",
       "      <th>1971</th>\n",
       "      <td>2228</td>\n",
       "      <td>271</td>\n",
       "      <td>1995858424</td>\n",
       "    </tr>\n",
       "    <tr>\n",
       "      <th>1972</th>\n",
       "      <td>3346</td>\n",
       "      <td>344</td>\n",
       "      <td>1834850740</td>\n",
       "    </tr>\n",
       "    <tr>\n",
       "      <th>1973</th>\n",
       "      <td>2814</td>\n",
       "      <td>333</td>\n",
       "      <td>2407165400</td>\n",
       "    </tr>\n",
       "    <tr>\n",
       "      <th>1974</th>\n",
       "      <td>2621</td>\n",
       "      <td>270</td>\n",
       "      <td>2876067000</td>\n",
       "    </tr>\n",
       "  </tbody>\n",
       "</table>\n",
       "</div>"
      ],
      "text/plain": [
       "      Deaths  Incidents  Total Passengers\n",
       "Year                                     \n",
       "1970    2226        298        1866157152\n",
       "1971    2228        271        1995858424\n",
       "1972    3346        344        1834850740\n",
       "1973    2814        333        2407165400\n",
       "1974    2621        270        2876067000"
      ]
     },
     "execution_count": 269,
     "metadata": {},
     "output_type": "execute_result"
    }
   ],
   "source": [
    "df_air_and_death.head()"
   ]
  },
  {
   "cell_type": "code",
   "execution_count": 272,
   "metadata": {},
   "outputs": [
    {
     "data": {
      "text/plain": [
       "<matplotlib.axes._subplots.AxesSubplot at 0x1a1a6d2cc0>"
      ]
     },
     "execution_count": 272,
     "metadata": {},
     "output_type": "execute_result"
    },
    {
     "data": {
      "image/png": "[encoded data removed]",
      "text/plain": [
       "<Figure size 432x288 with 1 Axes>"
      ]
     },
     "metadata": {},
     "output_type": "display_data"
    }
   ],
   "source": [
    "df_air_and_death[ ['Deaths'] ] .plot( )"
   ]
  },
  {
   "cell_type": "code",
   "execution_count": 290,
   "metadata": {},
   "outputs": [
    {
     "data": {
      "image/png": "[encoded data removed]",
      "text/plain": [
       "<Figure size 1440x444.96 with 2 Axes>"
      ]
     },
     "metadata": {},
     "output_type": "display_data"
    }
   ],
   "source": [
    "fig, ax1 = plt.subplots( figsize = (20,6.18) )\n",
    "\n",
    "ax1.plot( df_air_and_death.index,  df_air_and_death['Deaths'], 'r' )\n",
    "ax1.set_ylabel('Deaths Toll in Incidents')\n",
    "ax1.set_xlabel('Year')\n",
    "\n",
    "ax2 = ax1.twinx()\n",
    "\n",
    "ax2.plot( df_air_and_death.index,  df_air_and_death['Total Passengers'], 'g' )\n",
    "ax2.set_ylabel('Total Passengers')\n",
    "ax2.grid(False)\n",
    "#ax2.ticklabel_format(style='plain')\n",
    "\n",
    "fig.savefig('export/air-transport-passengers-and-death-by-year.png')"
   ]
  },
  {
   "cell_type": "code",
   "execution_count": 304,
   "metadata": {},
   "outputs": [
    {
     "data": {
      "text/plain": [
       "[Text(0,0,'1 Billion'), Text(0,0,'2 Billions'), Text(0,0,'3 Billions')]"
      ]
     },
     "execution_count": 304,
     "metadata": {},
     "output_type": "execute_result"
    },
    {
     "data": {
      "image/png": "[encoded data removed]",
      "text/plain": [
       "<Figure size 1440x444.96 with 1 Axes>"
      ]
     },
     "metadata": {},
     "output_type": "display_data"
    }
   ],
   "source": [
    "fig, ax = plt.subplots( figsize = (20,6.18) )\n",
    "\n",
    "\n",
    "ax.semilogy( df_air_and_death.index,  df_air_and_death['Total Passengers'], 'g' )\n",
    "ax.set_ylabel('Passengers')\n",
    "ax.set_yticks( np.arange( 1*1e10, 4*1e10, 1e10 ) )\n",
    "ax.set_yticklabels( ['1 Billion', '2 Billions', '3 Billions', '4 Billions'] )\n",
    "#ax.grid(False)\n",
    "#ax2.ticklabel_format(style='plain')\n",
    "\n",
    "#fig.savefig('export/air-transport-passengers-by-year.png')"
   ]
  },
  {
   "cell_type": "code",
   "execution_count": null,
   "metadata": {},
   "outputs": [],
   "source": []
  }
 ],
 "metadata": {
  "kernelspec": {
   "display_name": "Python 3",
   "language": "python",
   "name": "python3"
  },
  "language_info": {
   "codemirror_mode": {
    "name": "ipython",
    "version": 3
   },
   "file_extension": ".py",
   "mimetype": "text/x-python",
   "name": "python",
   "nbconvert_exporter": "python",
   "pygments_lexer": "ipython3",
   "version": "3.6.5"
  }
 },
 "nbformat": 4,
 "nbformat_minor": 2
}
