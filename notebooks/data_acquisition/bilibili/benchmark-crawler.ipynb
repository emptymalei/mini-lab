{
 "cells": [
  {
   "cell_type": "markdown",
   "metadata": {},
   "source": [
    "# Benchmarking"
   ]
  },
  {
   "cell_type": "markdown",
   "metadata": {},
   "source": [
    "## Number of Processes"
   ]
  },
  {
   "cell_type": "markdown",
   "metadata": {},
   "source": [
    "For 1 process\n",
    "\n",
    "```\n",
    "job started at: 2018-05-10 20:08:24.576967\n",
    "\n",
    "start from: 1; end at: 1000\n",
    "\n",
    "File mode is set to a\n",
    "job finished at: 2018-05-10 20:08:36.838729\n",
    "\n",
    "python crawler-script.py  5.40s user 0.32s system 43% cpu 13.073 total\n",
    "```\n",
    "\n",
    "For 2 processes\n",
    "\n",
    "```\n",
    "job started at: 2018-05-10 20:07:17.417482\n",
    "\n",
    "start from: 1; end at: 1000\n",
    "\n",
    "File mode is set to a\n",
    "job finished at: 2018-05-10 20:07:26.307355\n",
    "\n",
    "python crawler-script.py  5.48s user 0.36s system 60% cpu 9.603 total\n",
    "```\n",
    "\n",
    "For 5 processes\n",
    "\n",
    "```\n",
    "job started at: 2018-05-10 20:09:16.132541\n",
    "\n",
    "start from: 1; end at: 1000\n",
    "\n",
    "vid_data.csv created!\n",
    "Fields are aid,view,danmaku,reply,favorite,coin,share,now_rank,his_rank,like\n",
    "\n",
    "File mode is set to a\n",
    "job finished at: 2018-05-10 20:09:22.611931\n",
    "\n",
    "python crawler-script.py  5.53s user 0.38s system 81% cpu 7.271 total\n",
    "```"
   ]
  },
  {
   "cell_type": "markdown",
   "metadata": {},
   "source": [
    "A test shows that 4 threads for a batch size of 5 probabably is enough. ~~However, too many processes might **trigger some limit at bilibili.com**.~~\n",
    "NO! It's because python request doesn't close connections automatically. And we have a limit on cpu usage.\n",
    "[ Benchmark plot needed here! ]"
   ]
  },
  {
   "cell_type": "code",
   "execution_count": 13,
   "metadata": {},
   "outputs": [],
   "source": [
    "fields_stat = ['aid', 'view', 'danmaku', 'reply', 'favorite', 'coin', 'share', 'now_rank', 'his_rank', 'like']"
   ]
  },
  {
   "cell_type": "code",
   "execution_count": 14,
   "metadata": {},
   "outputs": [
    {
     "data": {
      "text/plain": [
       "10"
      ]
     },
     "execution_count": 14,
     "metadata": {},
     "output_type": "execute_result"
    }
   ],
   "source": [
    "len(fields_stat)"
   ]
  },
  {
   "cell_type": "code",
   "execution_count": null,
   "metadata": {},
   "outputs": [],
   "source": []
  }
 ],
 "metadata": {
  "kernelspec": {
   "display_name": "Python 3",
   "language": "python",
   "name": "python3"
  },
  "language_info": {
   "codemirror_mode": {
    "name": "ipython",
    "version": 3
   },
   "file_extension": ".py",
   "mimetype": "text/x-python",
   "name": "python",
   "nbconvert_exporter": "python",
   "pygments_lexer": "ipython3",
   "version": "3.6.4"
  }
 },
 "nbformat": 4,
 "nbformat_minor": 2
}
