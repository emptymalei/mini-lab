{
 "cells": [
  {
   "cell_type": "markdown",
   "metadata": {},
   "source": [
    "## Bilibli Test"
   ]
  },
  {
   "cell_type": "code",
   "execution_count": 85,
   "metadata": {},
   "outputs": [],
   "source": [
    "import numpy as np\n",
    "import os\n",
    "import pandas as pd\n",
    "import matplotlib.pyplot as plt\n",
    "from urllib3.exceptions import ProtocolError"
   ]
  },
  {
   "cell_type": "code",
   "execution_count": 52,
   "metadata": {},
   "outputs": [],
   "source": [
    "from scipy.io import netcdf\n",
    "f = netcdf.netcdf_file('./data-netcdf.nc', 'w')\n",
    "f.history = 'Created for Bilibili video scraping'\n",
    "f.createDimension('time', 10)\n",
    "time = f.createVariable('time', 'i', ('time',))\n",
    "time[:] = np.arange(10)\n",
    "time.units = 'days since 2008-01-01'\n",
    "f.close()"
   ]
  },
  {
   "cell_type": "code",
   "execution_count": 21,
   "metadata": {},
   "outputs": [],
   "source": [
    "import datetime"
   ]
  },
  {
   "cell_type": "code",
   "execution_count": 23,
   "metadata": {},
   "outputs": [
    {
     "data": {
      "text/plain": [
       "'2018-05-08 11:53:30.267682'"
      ]
     },
     "execution_count": 23,
     "metadata": {},
     "output_type": "execute_result"
    }
   ],
   "source": [
    "str(datetime.datetime.now())"
   ]
  },
  {
   "cell_type": "markdown",
   "metadata": {},
   "source": [
    "### Test API"
   ]
  },
  {
   "cell_type": "code",
   "execution_count": 2,
   "metadata": {},
   "outputs": [],
   "source": [
    "import json\n",
    "import requests"
   ]
  },
  {
   "cell_type": "code",
   "execution_count": 67,
   "metadata": {},
   "outputs": [],
   "source": [
    "api_url_base = 'https://api.bilibili.com/x/article/archives?ids='"
   ]
  },
  {
   "cell_type": "code",
   "execution_count": 86,
   "metadata": {},
   "outputs": [],
   "source": [
    "vid_list = ['411799','22786099','20728529','2122212','12312312312312']\n",
    "# vid_list = ['411799231','232132786099','21320728529','2321122212','12312312312312']"
   ]
  },
  {
   "cell_type": "code",
   "execution_count": 87,
   "metadata": {},
   "outputs": [],
   "source": [
    "rsp = requests.get(api_url_base + ','.join(vid_list))"
   ]
  },
  {
   "cell_type": "code",
   "execution_count": 88,
   "metadata": {},
   "outputs": [
    {
     "data": {
      "text/plain": [
       "{'code': 0,\n",
       " 'data': {'20728529': {'aid': 20728529,\n",
       "   'attribute': 16512,\n",
       "   'copyright': 1,\n",
       "   'ctime': 1520938954,\n",
       "   'desc': '作曲：Zaakdov；\\r\\n古钢琴也算钢琴对吧，嗯。',\n",
       "   'duration': 97,\n",
       "   'dynamic': '',\n",
       "   'owner': {'face': 'http://i2.hdslb.com/bfs/face/f4c52f7f52b8d5aaad70b1afd2fb064b673b5466.jpg',\n",
       "    'mid': 5760446,\n",
       "    'name': '花儿不哭'},\n",
       "   'pic': 'http://i0.hdslb.com/bfs/archive/007be987db7ea9a9222dbfdd9c41beede33c40b0.png',\n",
       "   'pubdate': 1520938953,\n",
       "   'rights': {'bp': 0,\n",
       "    'download': 0,\n",
       "    'elec': 0,\n",
       "    'hd5': 0,\n",
       "    'movie': 0,\n",
       "    'no_reprint': 1,\n",
       "    'pay': 0},\n",
       "   'stat': {'aid': 20728529,\n",
       "    'coin': 165,\n",
       "    'danmaku': 16,\n",
       "    'favorite': 146,\n",
       "    'his_rank': 0,\n",
       "    'like': 103,\n",
       "    'now_rank': 0,\n",
       "    'reply': 39,\n",
       "    'share': 25,\n",
       "    'view': 5400},\n",
       "   'state': 0,\n",
       "   'tid': 28,\n",
       "   'title': '【钢琴原创】羽管键琴的激奏',\n",
       "   'tname': '原创音乐',\n",
       "   'videos': 1},\n",
       "  '2122212': {'aid': 2122212,\n",
       "   'attribute': 49168,\n",
       "   'copyright': 1,\n",
       "   'ctime': 1497430315,\n",
       "   'desc': '自制 生化危机6 BIO6日语中字 艾达王ADA04流程攻略 声优皆川纯子 超清',\n",
       "   'duration': 2037,\n",
       "   'dynamic': '',\n",
       "   'owner': {'face': 'http://i0.hdslb.com/bfs/face/208295e5f28b366732f6ac66da60ed27d43eef63.jpg',\n",
       "    'mid': 7778898,\n",
       "    'name': 'CZ马小仙'},\n",
       "   'pic': 'http://i0.hdslb.com/bfs/archive/12d1a9aeefb9441cd302ecd4d39f289f34081b3e.jpg',\n",
       "   'pubdate': 1426683413,\n",
       "   'rights': {'bp': 0,\n",
       "    'download': 0,\n",
       "    'elec': 0,\n",
       "    'hd5': 0,\n",
       "    'movie': 0,\n",
       "    'no_reprint': 0,\n",
       "    'pay': 0},\n",
       "   'stat': {'aid': 2122212,\n",
       "    'coin': 1,\n",
       "    'danmaku': 18,\n",
       "    'favorite': 17,\n",
       "    'his_rank': 0,\n",
       "    'like': 0,\n",
       "    'now_rank': 0,\n",
       "    'reply': 2,\n",
       "    'share': 4,\n",
       "    'view': 1832},\n",
       "   'state': 0,\n",
       "   'tid': 17,\n",
       "   'title': '生化危机6 BIO6日语中字 艾达王ADA05流程攻略 声优皆川纯子 超清',\n",
       "   'tname': '单机联机',\n",
       "   'videos': 1},\n",
       "  '22786099': {'aid': 22786099,\n",
       "   'attribute': 16768,\n",
       "   'copyright': 1,\n",
       "   'ctime': 1525086367,\n",
       "   'desc': '作品类型: 原曲翻唱\\n原唱: 米津玄師（《非自然死亡》主题曲） \\n简介补充: 钢琴改编：luna | PV: 冰镇甜豆浆 | 首翻：三无av19883635\\n是鸟也要翻，唱了个和自己设想不一样的风格。请大家不要做任何形式的比较，翻唱是因为喜爱，而不是为了比赛哦~',\n",
       "   'duration': 164,\n",
       "   'dynamic': '作品类型: 原曲翻唱\\n原唱: 米津玄師（《非自然死亡》主题曲） \\n简介补充: 钢琴改编：luna | PV: 冰镇甜豆浆 | 首翻：三无av19883635\\n是鸟也要翻，唱了个和自己设想不一样的风格。请大家不要做任何形式的比较，翻唱是因为喜爱，而不是为了比赛哦~',\n",
       "   'owner': {'face': 'http://i1.hdslb.com/bfs/face/3cd9998cdb9444528a4e62ed2b4e69d64282dbeb.jpg',\n",
       "    'mid': 282994,\n",
       "    'name': '泠鸢yousa'},\n",
       "   'pic': 'http://i0.hdslb.com/bfs/archive/c15500a8d4b64f03164cbbf00bc8a69d59be5ed3.jpg',\n",
       "   'pubdate': 1525086366,\n",
       "   'rights': {'bp': 0,\n",
       "    'download': 0,\n",
       "    'elec': 0,\n",
       "    'hd5': 1,\n",
       "    'movie': 0,\n",
       "    'no_reprint': 1,\n",
       "    'pay': 0},\n",
       "   'stat': {'aid': 22786099,\n",
       "    'coin': 30164,\n",
       "    'danmaku': 1854,\n",
       "    'favorite': 20690,\n",
       "    'his_rank': 11,\n",
       "    'like': 13861,\n",
       "    'now_rank': 0,\n",
       "    'reply': 2914,\n",
       "    'share': 2594,\n",
       "    'view': 275304},\n",
       "   'state': 0,\n",
       "   'tid': 31,\n",
       "   'title': '【泠鸢】Lemon（钢琴改编.Luna Pv.冰镇甜豆浆）',\n",
       "   'tname': '翻唱',\n",
       "   'videos': 1}},\n",
       " 'message': '0',\n",
       " 'ttl': 1}"
      ]
     },
     "execution_count": 88,
     "metadata": {},
     "output_type": "execute_result"
    }
   ],
   "source": [
    "rsp.json()"
   ]
  },
  {
   "cell_type": "code",
   "execution_count": 89,
   "metadata": {},
   "outputs": [
    {
     "data": {
      "text/plain": [
       "True"
      ]
     },
     "execution_count": 89,
     "metadata": {},
     "output_type": "execute_result"
    }
   ],
   "source": [
    "rsp.json()['code']==0"
   ]
  },
  {
   "cell_type": "code",
   "execution_count": 90,
   "metadata": {},
   "outputs": [
    {
     "data": {
      "text/plain": [
       "{'20728529': {'aid': 20728529,\n",
       "  'attribute': 16512,\n",
       "  'copyright': 1,\n",
       "  'ctime': 1520938954,\n",
       "  'desc': '作曲：Zaakdov；\\r\\n古钢琴也算钢琴对吧，嗯。',\n",
       "  'duration': 97,\n",
       "  'dynamic': '',\n",
       "  'owner': {'face': 'http://i2.hdslb.com/bfs/face/f4c52f7f52b8d5aaad70b1afd2fb064b673b5466.jpg',\n",
       "   'mid': 5760446,\n",
       "   'name': '花儿不哭'},\n",
       "  'pic': 'http://i0.hdslb.com/bfs/archive/007be987db7ea9a9222dbfdd9c41beede33c40b0.png',\n",
       "  'pubdate': 1520938953,\n",
       "  'rights': {'bp': 0,\n",
       "   'download': 0,\n",
       "   'elec': 0,\n",
       "   'hd5': 0,\n",
       "   'movie': 0,\n",
       "   'no_reprint': 1,\n",
       "   'pay': 0},\n",
       "  'stat': {'aid': 20728529,\n",
       "   'coin': 165,\n",
       "   'danmaku': 16,\n",
       "   'favorite': 146,\n",
       "   'his_rank': 0,\n",
       "   'like': 103,\n",
       "   'now_rank': 0,\n",
       "   'reply': 39,\n",
       "   'share': 25,\n",
       "   'view': 5400},\n",
       "  'state': 0,\n",
       "  'tid': 28,\n",
       "  'title': '【钢琴原创】羽管键琴的激奏',\n",
       "  'tname': '原创音乐',\n",
       "  'videos': 1},\n",
       " '2122212': {'aid': 2122212,\n",
       "  'attribute': 49168,\n",
       "  'copyright': 1,\n",
       "  'ctime': 1497430315,\n",
       "  'desc': '自制 生化危机6 BIO6日语中字 艾达王ADA04流程攻略 声优皆川纯子 超清',\n",
       "  'duration': 2037,\n",
       "  'dynamic': '',\n",
       "  'owner': {'face': 'http://i0.hdslb.com/bfs/face/208295e5f28b366732f6ac66da60ed27d43eef63.jpg',\n",
       "   'mid': 7778898,\n",
       "   'name': 'CZ马小仙'},\n",
       "  'pic': 'http://i0.hdslb.com/bfs/archive/12d1a9aeefb9441cd302ecd4d39f289f34081b3e.jpg',\n",
       "  'pubdate': 1426683413,\n",
       "  'rights': {'bp': 0,\n",
       "   'download': 0,\n",
       "   'elec': 0,\n",
       "   'hd5': 0,\n",
       "   'movie': 0,\n",
       "   'no_reprint': 0,\n",
       "   'pay': 0},\n",
       "  'stat': {'aid': 2122212,\n",
       "   'coin': 1,\n",
       "   'danmaku': 18,\n",
       "   'favorite': 17,\n",
       "   'his_rank': 0,\n",
       "   'like': 0,\n",
       "   'now_rank': 0,\n",
       "   'reply': 2,\n",
       "   'share': 4,\n",
       "   'view': 1832},\n",
       "  'state': 0,\n",
       "  'tid': 17,\n",
       "  'title': '生化危机6 BIO6日语中字 艾达王ADA05流程攻略 声优皆川纯子 超清',\n",
       "  'tname': '单机联机',\n",
       "  'videos': 1},\n",
       " '22786099': {'aid': 22786099,\n",
       "  'attribute': 16768,\n",
       "  'copyright': 1,\n",
       "  'ctime': 1525086367,\n",
       "  'desc': '作品类型: 原曲翻唱\\n原唱: 米津玄師（《非自然死亡》主题曲） \\n简介补充: 钢琴改编：luna | PV: 冰镇甜豆浆 | 首翻：三无av19883635\\n是鸟也要翻，唱了个和自己设想不一样的风格。请大家不要做任何形式的比较，翻唱是因为喜爱，而不是为了比赛哦~',\n",
       "  'duration': 164,\n",
       "  'dynamic': '作品类型: 原曲翻唱\\n原唱: 米津玄師（《非自然死亡》主题曲） \\n简介补充: 钢琴改编：luna | PV: 冰镇甜豆浆 | 首翻：三无av19883635\\n是鸟也要翻，唱了个和自己设想不一样的风格。请大家不要做任何形式的比较，翻唱是因为喜爱，而不是为了比赛哦~',\n",
       "  'owner': {'face': 'http://i1.hdslb.com/bfs/face/3cd9998cdb9444528a4e62ed2b4e69d64282dbeb.jpg',\n",
       "   'mid': 282994,\n",
       "   'name': '泠鸢yousa'},\n",
       "  'pic': 'http://i0.hdslb.com/bfs/archive/c15500a8d4b64f03164cbbf00bc8a69d59be5ed3.jpg',\n",
       "  'pubdate': 1525086366,\n",
       "  'rights': {'bp': 0,\n",
       "   'download': 0,\n",
       "   'elec': 0,\n",
       "   'hd5': 1,\n",
       "   'movie': 0,\n",
       "   'no_reprint': 1,\n",
       "   'pay': 0},\n",
       "  'stat': {'aid': 22786099,\n",
       "   'coin': 30164,\n",
       "   'danmaku': 1854,\n",
       "   'favorite': 20690,\n",
       "   'his_rank': 11,\n",
       "   'like': 13861,\n",
       "   'now_rank': 0,\n",
       "   'reply': 2914,\n",
       "   'share': 2594,\n",
       "   'view': 275304},\n",
       "  'state': 0,\n",
       "  'tid': 31,\n",
       "  'title': '【泠鸢】Lemon（钢琴改编.Luna Pv.冰镇甜豆浆）',\n",
       "  'tname': '翻唱',\n",
       "  'videos': 1}}"
      ]
     },
     "execution_count": 90,
     "metadata": {},
     "output_type": "execute_result"
    }
   ],
   "source": [
    "rsp.json()['data']"
   ]
  },
  {
   "cell_type": "code",
   "execution_count": 4,
   "metadata": {},
   "outputs": [],
   "source": [
    "fields_a = ['aid', 'tid','tname', 'title','pubdate','ctime', 'desc', 'state', 'duratioin','owner', 'stat']\n",
    "fields_stat = ['aid', 'view', 'danmaku', 'reply', 'favorite', 'coin', 'share', 'now_rank', 'his_rank', 'like']"
   ]
  },
  {
   "cell_type": "code",
   "execution_count": 68,
   "metadata": {},
   "outputs": [],
   "source": [
    "vid_list_return = list(rsp.json()['data'].keys())"
   ]
  },
  {
   "cell_type": "code",
   "execution_count": 70,
   "metadata": {},
   "outputs": [
    {
     "data": {
      "text/plain": [
       "[[20728529, 5328, 16, 39, 146, 165, 25, 0, 0, 103],\n",
       " [2122212, 1832, 18, 2, 17, 1, 4, 0, 0, 0],\n",
       " [22786099, 271990, 1852, 2904, 20534, 29984, 2573, 0, 11, 13793]]"
      ]
     },
     "execution_count": 70,
     "metadata": {},
     "output_type": "execute_result"
    }
   ],
   "source": [
    "[ [ rsp.json()['data'][ vid ]['stat'][fid] for fid in fields_stat] for vid in vid_list_return] "
   ]
  },
  {
   "cell_type": "code",
   "execution_count": 74,
   "metadata": {},
   "outputs": [],
   "source": [
    "# calculate difference\n",
    "vid_list_fail = list( set(vid_list) - set(vid_list_return))"
   ]
  },
  {
   "cell_type": "markdown",
   "metadata": {},
   "source": []
  },
  {
   "cell_type": "markdown",
   "metadata": {},
   "source": [
    "#### Functions for API"
   ]
  },
  {
   "cell_type": "markdown",
   "metadata": {},
   "source": [
    "The code runs into request incompleteread errors. I consulted github here: https://github.com/tweepy/tweepy/issues/908"
   ]
  },
  {
   "cell_type": "code",
   "execution_count": 217,
   "metadata": {},
   "outputs": [],
   "source": [
    "def modeit(filename, fields = None):\n",
    "    \n",
    "    if fields == None:\n",
    "        fields = ['aid', 'view', 'danmaku', 'reply', 'favorite', 'coin', 'share', 'now_rank', 'his_rank', 'like']\n",
    "    \n",
    "    if os.path.exists(filename):\n",
    "        mode_write = 'a' # append if already exists\n",
    "    else:\n",
    "        mode_write = 'w' # make a new file if not\n",
    "        with open(filename, mode_write) as f:\n",
    "            f.write( ','.join(fields) + '\\n' )\n",
    "    \n",
    "    return mode_write\n",
    "\n",
    "\n",
    "def crawler(vids):\n",
    "    \n",
    "    try:\n",
    "        resp = requests.get( api_url_base + ','.join(vids) )\n",
    "    except (ProtocolError, AttributeError):\n",
    "        print('request protocal error')\n",
    "    \n",
    "    if resp.json()['code']==0:\n",
    "        resp.json()['data']\n",
    "        vid_list_return = list(resp.json()['data'].keys())\n",
    "        vid_list_data = [ [ str(resp.json()['data'][ vid ]['stat'][fid]) for fid in fields_stat] for vid in vid_list_return]\n",
    "        return [vid_data for vid_data in vid_list_data]\n",
    "    else:\n",
    "        print('Empty return from request')\n",
    "        return []\n",
    "\n",
    "\n",
    "        \n",
    "def crawlerDump(vids, fileobj):\n",
    "    \n",
    "    try:\n",
    "        resp = requests.get( api_url_base + ','.join(vids) )\n",
    "    except (ProtocolError, AttributeError):\n",
    "        print('request protocal error')\n",
    "    \n",
    "    resp.json()['data']\n",
    "    vid_list_return = list(resp.json()['data'].keys())\n",
    "    \n",
    "    if vid_list_return:\n",
    "        vid_list_data = [ [ str(resp.json()['data'][ vid ]['stat'][fid]) for fid in fields_stat] for vid in vid_list_return]\n",
    "        # calculate difference\n",
    "        # vid_list_fail = list( set(vids) - set(vid_list_return) )\n",
    "\n",
    "        [VidDumpSingle(vid_data, fileobj) for vid_data in vid_list_data]\n",
    "#         VidDumpBatch(vid_list_data, fileobj)\n",
    "        \n",
    "        # ElementRecorder(vid_list_fail, failed_file, failed_write)\n",
    "\n"
   ]
  },
  {
   "cell_type": "code",
   "execution_count": 212,
   "metadata": {},
   "outputs": [],
   "source": [
    "def VidRecorderSingle(data, filename, mode=None):\n",
    "    \"\"\"\n",
    "    Record a list of data\n",
    "    \"\"\"\n",
    "\n",
    "    if mode==None:\n",
    "        mode=\"a\"\n",
    "        \n",
    "    data_dump = (','.join(data) )[:-1] + '\\n'\n",
    "    \n",
    "    with open(filename, mode) as f:\n",
    "        f.write( data_dump )\n",
    "\n",
    "        \n",
    "def VidDumpSingle(data, fileobj):\n",
    "    \"\"\"\n",
    "    Record a list of data\n",
    "    \"\"\"\n",
    "\n",
    "    data_dump = (','.join(data) )[:-1] + '\\n'\n",
    "    fileobj.write( data_dump )\n",
    "    \n",
    "    \n",
    "def VidDumpBatch(dataArr, fileobj):\n",
    "    \"\"\"\n",
    "    Record a list of data that should be recorded\n",
    "    \"\"\"\n",
    "    \n",
    "    data_dump = '\\n'.join( [(','.join(data) )[:-1] for data in dataArr] ) + '\\n'\n",
    "\n",
    "    fileobj.write( data_dump )\n",
    "\n",
    "        \n",
    "def ElementRecorder(data, filename, mode=None):\n",
    "    \"\"\"\n",
    "    Record a list of data\n",
    "    \"\"\"\n",
    "\n",
    "    if mode==None:\n",
    "        mode=\"a\"\n",
    "    \n",
    "    with open(filename, mode) as f:\n",
    "        [f.write( str(i) + '\\n') for i in data]\n",
    "        \n",
    "        \n",
    "def VidGenerator(start, seg):\n",
    "    \"\"\"\n",
    "    \"\"\"\n",
    "    \n",
    "    return [str(i) for i in list( range(start, start+seg) )]\n",
    "\n",
    "def VidBatcher(vid_start, vid_end, bat_size, vids_size):\n",
    "    \"\"\"\n",
    "    \"\"\"\n",
    "    \n",
    "    list_f = []\n",
    "    bat_list_f = []\n",
    "\n",
    "    for i in range(vid_start, vid_end, vids_size ):\n",
    "\n",
    "        bat_list_f = bat_list_f + [list(range(i, i + vids_size))]\n",
    "\n",
    "        if (i - vid_start)%( vids_size * bat_size) == 0:\n",
    "            list_f = list_f + [ bat_list_f ]\n",
    "            bat_list_f = []\n",
    "            \n",
    "    return list_f\n",
    "\n",
    "def VidBatcherSingle( vid_start, vid_end, vids_size ):\n",
    "    \"\"\"\n",
    "    Batches ids within the range [vid_start, vid_end). Each list inside the batch contains vids_size vids.\n",
    "    \"\"\"\n",
    "    \n",
    "    bat_list_f = []\n",
    "    \n",
    "    for i in range(vid_start, vid_end - vids_size, vids_size ):\n",
    "        \n",
    "        bat_list_f = bat_list_f + [ list( range( i, i+ vids_size ) ) ]\n",
    "        \n",
    "    bat_list_f = bat_list_f + [ list( range( i+vids_size, vid_end ) ) ]\n",
    "        \n",
    "    return bat_list_f\n",
    "    "
   ]
  },
  {
   "cell_type": "markdown",
   "metadata": {},
   "source": [
    "Test functions"
   ]
  },
  {
   "cell_type": "code",
   "execution_count": 228,
   "metadata": {},
   "outputs": [],
   "source": [
    "beg = 1\n",
    "end = 5000\n",
    "seg = 100\n",
    "flag = beg\n",
    "flag_falied = 0\n",
    "batch_size = 5\n",
    "\n",
    "modeit('data.csv')\n",
    "data_mode = modeit('data.csv')\n",
    "\n",
    "for i in range(beg, end, batch_size*seg):\n",
    "\n",
    "    file_cache = []\n",
    "\n",
    "    batch_start = i\n",
    "    batch_end = i + seg * batch_size\n",
    "\n",
    "    with open('data.csv', data_mode) as f:#Open data file\n",
    "\n",
    "        for vids_in_run in VidBatcherSingle( batch_start, batch_end, seg ):#loop through this segment of ids\n",
    "            vids_in_run = [ str(i) for i in vids_in_run ]  \n",
    "            file_cache = file_cache +  crawler(vids_in_run)\n",
    "\n",
    "#         print(file_cache)\n",
    "        VidDumpBatch(file_cache, f)\n",
    "\n"
   ]
  },
  {
   "cell_type": "code",
   "execution_count": null,
   "metadata": {},
   "outputs": [],
   "source": [
    "def func():\n",
    "    upper = str.upper\n",
    "    newlist = []\n",
    "    append = newlist.append\n",
    "    for word in oldlist:\n",
    "        append(upper(word))\n",
    "    return newlist"
   ]
  },
  {
   "cell_type": "code",
   "execution_count": 101,
   "metadata": {},
   "outputs": [],
   "source": [
    "crawler( VidGenerator(1,10), 'data.csv', 'failed.csv')"
   ]
  },
  {
   "cell_type": "code",
   "execution_count": 66,
   "metadata": {},
   "outputs": [],
   "source": [
    "my_data_test_path = \"/Users/leima/OneDrive - University of New Mexico/data/mybilividdata/failed_vid_data.csv\"\n",
    "my_data_test = np.genfromtxt(my_data_test_path, delimiter=',')"
   ]
  },
  {
   "cell_type": "code",
   "execution_count": 65,
   "metadata": {},
   "outputs": [
    {
     "data": {
      "image/png": "[encoded data removed]",
      "text/plain": [
       "<Figure size 720x360 with 1 Axes>"
      ]
     },
     "metadata": {},
     "output_type": "display_data"
    }
   ],
   "source": [
    "plt.figure(figsize=(10,5))\n",
    "plt.plot(my_data_test[::1],'k.')\n",
    "plt.show()"
   ]
  },
  {
   "cell_type": "markdown",
   "metadata": {},
   "source": [
    "### The request is SLow"
   ]
  },
  {
   "cell_type": "markdown",
   "metadata": {},
   "source": [
    "The dumping process is kind of fast but the request is slow. I need to use multiprocessing."
   ]
  },
  {
   "cell_type": "code",
   "execution_count": 237,
   "metadata": {},
   "outputs": [],
   "source": [
    "from multiprocessing import Pool\n",
    "import time\n"
   ]
  },
  {
   "cell_type": "code",
   "execution_count": 231,
   "metadata": {},
   "outputs": [
    {
     "data": {
      "text/plain": [
       "0.8414709848078965"
      ]
     },
     "execution_count": 231,
     "metadata": {},
     "output_type": "execute_result"
    }
   ],
   "source": [
    "np.sin(1)"
   ]
  },
  {
   "cell_type": "code",
   "execution_count": 268,
   "metadata": {},
   "outputs": [
    {
     "name": "stdout",
     "output_type": "stream",
     "text": [
      "0.1235818862915039\n"
     ]
    }
   ],
   "source": [
    "timestart = time.time()\n",
    "\n",
    "with Pool(1) as p:\n",
    "    result  = p.map( np.sin, range(1,100) )\n",
    "\n",
    "timeend = time.time() \n",
    "print(timeend-timestart)"
   ]
  },
  {
   "cell_type": "code",
   "execution_count": 267,
   "metadata": {},
   "outputs": [
    {
     "name": "stdout",
     "output_type": "stream",
     "text": [
      "33.11035871505737\n"
     ]
    }
   ],
   "source": [
    "timestart = time.time()\n",
    "\n",
    "for i in range(1,10):\n",
    "    with Pool(2) as p:\n",
    "        result  = p.map( np.sin, range(1,1000000) )\n",
    "\n",
    "timeend = time.time() \n",
    "print(timeend-timestart)\n",
    "\n",
    "    "
   ]
  },
  {
   "cell_type": "code",
   "execution_count": 269,
   "metadata": {},
   "outputs": [],
   "source": [
    "with open('test.test','w') as f:\n",
    "    for i in range(1,2):\n",
    "        with Pool(2) as p:\n",
    "            result  = p.map( np.sin, range(1,1000000) )\n",
    "\n"
   ]
  },
  {
   "cell_type": "code",
   "execution_count": 271,
   "metadata": {},
   "outputs": [],
   "source": [
    "# import  pathos.multiprocessingpathos.m  as mp\n",
    "# p = mp.Pool(4)  # Processing Pool with four processors\n",
    "\n",
    "# p.map(lambda x: x**2, range(10))\n"
   ]
  },
  {
   "cell_type": "markdown",
   "metadata": {},
   "source": [
    "### General Tests"
   ]
  },
  {
   "cell_type": "markdown",
   "metadata": {},
   "source": [
    "#### Test String Writing vs Number Writing"
   ]
  },
  {
   "cell_type": "code",
   "execution_count": 103,
   "metadata": {},
   "outputs": [
    {
     "data": {
      "text/plain": [
       "1"
      ]
     },
     "execution_count": 103,
     "metadata": {},
     "output_type": "execute_result"
    }
   ],
   "source": [
    "for i in np.range(1,1e5):\n",
    "    \n",
    "    with open('test_string', mode) as f:\n",
    "            f.write(  )"
   ]
  },
  {
   "cell_type": "code",
   "execution_count": 109,
   "metadata": {},
   "outputs": [],
   "source": [
    "with open('test.txt', 'a') as f:\n",
    "    \n",
    "    VidDumpSingle(['1','2','3','4','5','6'], f)"
   ]
  },
  {
   "cell_type": "code",
   "execution_count": null,
   "metadata": {},
   "outputs": [],
   "source": []
  }
 ],
 "metadata": {
  "kernelspec": {
   "display_name": "Python 3",
   "language": "python",
   "name": "python3"
  },
  "language_info": {
   "codemirror_mode": {
    "name": "ipython",
    "version": 3
   },
   "file_extension": ".py",
   "mimetype": "text/x-python",
   "name": "python",
   "nbconvert_exporter": "python",
   "pygments_lexer": "ipython3",
   "version": "3.6.4"
  }
 },
 "nbformat": 4,
 "nbformat_minor": 2
}
