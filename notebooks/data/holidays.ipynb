{
 "cells": [
  {
   "cell_type": "code",
   "source": "!pip install workalendar==15.3.0",
   "metadata": {
    "tags": [],
    "cell_id": "00000-aad59074-5e69-4741-bcf1-c39ac57afa93",
    "deepnote_to_be_reexecuted": false,
    "source_hash": "2d55d03c",
    "execution_start": 1624882001543,
    "execution_millis": 10836,
    "deepnote_cell_type": "code"
   },
   "outputs": [
    {
     "name": "stdout",
     "text": "Collecting workalendar==15.3.0\n  Downloading workalendar-15.3.0-py3-none-any.whl (191 kB)\n\u001b[K     |████████████████████████████████| 191 kB 13.1 MB/s \n\u001b[?25hCollecting backports.zoneinfo\n  Downloading backports.zoneinfo-0.2.1-cp37-cp37m-manylinux1_x86_64.whl (70 kB)\n\u001b[K     |████████████████████████████████| 70 kB 15.0 MB/s \n\u001b[?25hCollecting lunardate\n  Downloading lunardate-0.2.0-py3-none-any.whl (5.6 kB)\nCollecting pyluach\n  Downloading pyluach-1.3.0-py3-none-any.whl (17 kB)\nRequirement already satisfied: setuptools>=1.0 in /root/venv/lib/python3.7/site-packages (from workalendar==15.3.0) (57.0.0)\nRequirement already satisfied: python-dateutil in /shared-libs/python3.7/py-core/lib/python3.7/site-packages (from workalendar==15.3.0) (2.8.1)\nCollecting skyfield-data\n  Downloading skyfield_data-3.0.0-py2.py3-none-any.whl (16.9 MB)\n\u001b[K     |████████████████████████████████| 16.9 MB 42.8 MB/s \n\u001b[?25hCollecting skyfield\n  Downloading skyfield-1.39.tar.gz (373 kB)\n\u001b[K     |████████████████████████████████| 373 kB 50.6 MB/s \n\u001b[?25hCollecting pyCalverter\n  Downloading pyCalverter-1.6.1.tar.gz (3.5 kB)\nRequirement already satisfied: six>=1.5 in /shared-libs/python3.7/py-core/lib/python3.7/site-packages (from python-dateutil->workalendar==15.3.0) (1.16.0)\nRequirement already satisfied: certifi>=2017.4.17 in /shared-libs/python3.7/py/lib/python3.7/site-packages (from skyfield->workalendar==15.3.0) (2020.12.5)\nCollecting jplephem>=2.13\n  Downloading jplephem-2.15.tar.gz (40 kB)\n\u001b[K     |████████████████████████████████| 40 kB 11.1 MB/s \n\u001b[?25hRequirement already satisfied: numpy in /shared-libs/python3.7/py/lib/python3.7/site-packages (from skyfield->workalendar==15.3.0) (1.19.5)\nCollecting sgp4>=2.2\n  Downloading sgp4-2.19-cp37-cp37m-manylinux2010_x86_64.whl (258 kB)\n\u001b[K     |████████████████████████████████| 258 kB 45.2 MB/s \n\u001b[?25hBuilding wheels for collected packages: pyCalverter, skyfield, jplephem\n  Building wheel for pyCalverter (setup.py) ... \u001b[?25ldone\n\u001b[?25h  Created wheel for pyCalverter: filename=pyCalverter-1.6.1-py3-none-any.whl size=4199 sha256=27523fb58bdf9762e6557c6f214168a5d36de49b9d42260b353d84c00a74f95c\n  Stored in directory: /root/.cache/pip/wheels/fb/95/f0/6ae32a3d667ddac35825368f0aa9c1232bc4e3269989a65aee\n  Building wheel for skyfield (setup.py) ... \u001b[?25ldone\n\u001b[?25h  Created wheel for skyfield: filename=skyfield-1.39-py3-none-any.whl size=417580 sha256=223e98d8350a7146f503587b072b0aa9adff424e09e657e35f5604c37e23ba54\n  Stored in directory: /root/.cache/pip/wheels/56/d9/02/a7d09cef18b108aa82414257713cf2ad7c322f207cf55df113\n  Building wheel for jplephem (setup.py) ... \u001b[?25ldone\n\u001b[?25h  Created wheel for jplephem: filename=jplephem-2.15-py3-none-any.whl size=46036 sha256=20ae72290d54bac7197bba20b6f2e35887f2ac042e9bd40026e16ead7b6341bf\n  Stored in directory: /root/.cache/pip/wheels/61/c7/45/352389757a3b6c9ddfe03bcb599bca17b42dcc99d2a1db3a0c\nSuccessfully built pyCalverter skyfield jplephem\nInstalling collected packages: sgp4, jplephem, skyfield-data, skyfield, pyluach, pyCalverter, lunardate, backports.zoneinfo, workalendar\nSuccessfully installed backports.zoneinfo-0.2.1 jplephem-2.15 lunardate-0.2.0 pyCalverter-1.6.1 pyluach-1.3.0 sgp4-2.19 skyfield-1.39 skyfield-data-3.0.0 workalendar-15.3.0\n\u001b[33mWARNING: You are using pip version 21.1.2; however, version 21.1.3 is available.\nYou should consider upgrading via the '/root/venv/bin/python -m pip install --upgrade pip' command.\u001b[0m\n",
     "output_type": "stream"
    }
   ],
   "execution_count": null
  },
  {
   "cell_type": "code",
   "source": "from workalendar.europe import Germany",
   "metadata": {
    "tags": [],
    "cell_id": "00000-f1bdffdd-08f2-4254-8834-fe325d69fdb0",
    "deepnote_to_be_reexecuted": false,
    "source_hash": "7cf60b66",
    "execution_start": 1624882027898,
    "execution_millis": 8,
    "deepnote_cell_type": "code"
   },
   "outputs": [],
   "execution_count": null
  },
  {
   "cell_type": "code",
   "source": "cal = Germany()\ncal.holidays()",
   "metadata": {
    "tags": [],
    "cell_id": "00002-050aaed4-eed4-4175-bb72-1a29655bc4e0",
    "deepnote_to_be_reexecuted": false,
    "source_hash": "9a9213d3",
    "execution_start": 1624882053744,
    "execution_millis": 16,
    "deepnote_cell_type": "code"
   },
   "outputs": [
    {
     "output_type": "execute_result",
     "execution_count": 37,
     "data": {
      "text/plain": "[(datetime.date(2021, 1, 1), 'New year'),\n (datetime.date(2021, 4, 2), 'Good Friday'),\n (datetime.date(2021, 4, 5), 'Easter Monday'),\n (datetime.date(2021, 5, 1), 'Labour Day'),\n (datetime.date(2021, 5, 13), 'Ascension Thursday'),\n (datetime.date(2021, 5, 24), 'Whit Monday'),\n (datetime.date(2021, 10, 3), 'Day of German Unity'),\n (datetime.date(2021, 12, 25), 'Christmas Day'),\n (datetime.date(2021, 12, 26), 'Second Christmas Day')]"
     },
     "metadata": {}
    }
   ],
   "execution_count": null
  },
  {
   "cell_type": "markdown",
   "source": "## holidays package",
   "metadata": {
    "tags": [],
    "cell_id": "00001-ef542cc9-fbd4-42b1-a48b-d543a8c901f7",
    "deepnote_cell_type": "markdown"
   }
  },
  {
   "cell_type": "code",
   "metadata": {
    "tags": [],
    "cell_id": "00000-6da366b5-9d78-457e-86d7-8a7360eca612",
    "deepnote_to_be_reexecuted": false,
    "source_hash": "8f622486",
    "execution_start": 1624879599476,
    "execution_millis": 40,
    "deepnote_cell_type": "code"
   },
   "source": "from datetime import date\n\nimport holidays\n",
   "outputs": [],
   "execution_count": null
  },
  {
   "cell_type": "code",
   "source": "\nus_holidays = holidays.UnitedStates()\nde_holidays = holidays.Germany()\n# or:\n# us_holidays = holidays.US()\n# or:\n# us_holidays = holidays.CountryHoliday('US')\n# or, for specific prov / states:\n# us_holidays = holidays.CountryHoliday('US', prov=None, state='CA')\n",
   "metadata": {
    "tags": [],
    "cell_id": "00001-ac9ad708-4f24-4d0c-bef4-1473af005220",
    "deepnote_to_be_reexecuted": false,
    "source_hash": "23c56fdf",
    "execution_start": 1624879659345,
    "execution_millis": 2,
    "deepnote_cell_type": "code"
   },
   "outputs": [],
   "execution_count": null
  },
  {
   "cell_type": "code",
   "source": "date(2014, 1, 1) in holidays.US()",
   "metadata": {
    "tags": [],
    "cell_id": "00003-c68f1ee2-0399-4543-b3f0-be5fa7ea24c3",
    "deepnote_to_be_reexecuted": false,
    "source_hash": "c3a86a52",
    "execution_start": 1624879839118,
    "execution_millis": 23,
    "deepnote_cell_type": "code"
   },
   "outputs": [
    {
     "output_type": "execute_result",
     "execution_count": 18,
     "data": {
      "text/plain": "True"
     },
     "metadata": {}
    }
   ],
   "execution_count": null
  },
  {
   "cell_type": "code",
   "source": "for date, name in sorted(holidays.DE(years=2021).items()):\n    print(date, name)",
   "metadata": {
    "tags": [],
    "cell_id": "00004-67c5ddf6-2329-4790-b753-7c46bc98fc77",
    "deepnote_to_be_reexecuted": false,
    "source_hash": "859259fb",
    "execution_start": 1624881676864,
    "execution_millis": 7,
    "deepnote_cell_type": "code"
   },
   "outputs": [
    {
     "name": "stdout",
     "text": "2021-01-01 Neujahr\n2021-04-02 Karfreitag\n2021-04-05 Ostermontag\n2021-05-01 Erster Mai\n2021-05-13 Christi Himmelfahrt\n2021-05-24 Pfingstmontag\n2021-10-03 Tag der Deutschen Einheit\n2021-12-25 Erster Weihnachtstag\n2021-12-26 Zweiter Weihnachtstag\n",
     "output_type": "stream"
    }
   ],
   "execution_count": null
  },
  {
   "cell_type": "code",
   "source": "de_holidays.get_list()",
   "metadata": {
    "tags": [],
    "cell_id": "00005-186f6a64-f940-485e-88a1-b0e38e87f4a9",
    "deepnote_to_be_reexecuted": false,
    "source_hash": "490c24f4",
    "execution_start": 1624881757724,
    "execution_millis": 13,
    "deepnote_cell_type": "code"
   },
   "outputs": [
    {
     "output_type": "error",
     "ename": "TypeError",
     "evalue": "get_list() missing 1 required positional argument: 'key'",
     "traceback": [
      "\u001b[0;31m---------------------------------------------------------------------------\u001b[0m",
      "\u001b[0;31mTypeError\u001b[0m                                 Traceback (most recent call last)",
      "\u001b[0;32m<ipython-input-27-c177fb1b6a1b>\u001b[0m in \u001b[0;36m<module>\u001b[0;34m\u001b[0m\n\u001b[0;32m----> 1\u001b[0;31m \u001b[0mde_holidays\u001b[0m\u001b[0;34m.\u001b[0m\u001b[0mget_list\u001b[0m\u001b[0;34m(\u001b[0m\u001b[0;34m)\u001b[0m\u001b[0;34m\u001b[0m\u001b[0;34m\u001b[0m\u001b[0m\n\u001b[0m",
      "\u001b[0;31mTypeError\u001b[0m: get_list() missing 1 required positional argument: 'key'"
     ]
    }
   ],
   "execution_count": null
  },
  {
   "cell_type": "code",
   "source": "\n# The Holiday class will also recognize strings of any format\n# and int/float representing a Unix timestamp\n'2014-01-01' in us_holidays  # True\n'1/1/2014' in us_holidays    # True\n1388597445 in us_holidays    # True\n\nus_holidays.get('2014-01-01')  # \"New Year's Day\"\n\nus_holidays['2014-01-01': '2014-01-03']  # [date(2014, 1, 1)]\n\nus_pr_holidays = holidays.UnitedStates(state='PR')  # or holidays.US(...), or holidays.CountryHoliday('US', state='PR')\n\n# some holidays are only present in parts of a country\n'2018-01-06' in us_holidays     # False\n'2018-01-06' in us_pr_holidays  # True\n\n# Easily create custom Holiday objects with your own dates instead\n# of using the pre-defined countries/states/provinces available\ncustom_holidays = holidays.HolidayBase()\n# Append custom holiday dates by passing:\n# 1) a dict with date/name key/value pairs,\ncustom_holidays.append({\"2015-01-01\": \"New Year's Day\"})\n# 2) a list of dates (in any format: date, datetime, string, integer),\ncustom_holidays.append(['2015-07-01', '07/04/2015'])\n# 3) a single date item\ncustom_holidays.append(date(2015, 12, 25))\n\ndate(2015, 1, 1) in custom_holidays  # True\ndate(2015, 1, 2) in custom_holidays  # False\n'12/25/2015' in custom_holidays      # True\n\n# For more complex logic like 4th Monday of January, you can inherit the\n# HolidayBase class and define your own _populate(year) method. See below\n# documentation for examples.",
   "metadata": {
    "tags": [],
    "cell_id": "00003-c3ed3ab3-9822-4b01-8466-fb49324fe184",
    "deepnote_cell_type": "code"
   },
   "outputs": [],
   "execution_count": null
  },
  {
   "cell_type": "markdown",
   "source": "<a style='text-decoration:none;line-height:16px;display:flex;color:#5B5B62;padding:10px;justify-content:end;' href='https://deepnote.com?utm_source=created-in-deepnote-cell&projectId=c8a1762a-62b2-46cf-95c0-ea77984dacfd' target=\"_blank\">\n<img alt='Created in deepnote.com' style='display:inline;max-height:16px;margin:0px;margin-right:7.5px;' src='data:image/svg+xml;base64,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' > </img>\nCreated in <span style='font-weight:600;margin-left:4px;'>Deepnote</span></a>",
   "metadata": {
    "tags": [],
    "created_in_deepnote_cell": true,
    "deepnote_cell_type": "markdown"
   }
  }
 ],
 "nbformat": 4,
 "nbformat_minor": 2,
 "metadata": {
  "orig_nbformat": 2,
  "deepnote": {
   "is_reactive": false
  },
  "deepnote_notebook_id": "8ec55565-6734-4acd-93f7-f63fab3988e9",
  "deepnote_execution_queue": []
 }
}