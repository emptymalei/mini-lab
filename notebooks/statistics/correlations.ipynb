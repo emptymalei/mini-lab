{
 "cells": [
  {
   "cell_type": "code",
   "execution_count": 85,
   "metadata": {},
   "outputs": [
    {
     "name": "stdout",
     "output_type": "stream",
     "text": [
      "The autoreload extension is already loaded. To reload it, use:\n",
      "  %reload_ext autoreload\n"
     ]
    }
   ],
   "source": [
    "%load_ext autoreload\n",
    "%autoreload 2"
   ]
  },
  {
   "cell_type": "markdown",
   "metadata": {},
   "source": [
    "## Correlations in Statistics"
   ]
  },
  {
   "cell_type": "code",
   "execution_count": 86,
   "metadata": {},
   "outputs": [],
   "source": [
    "import numpy as np"
   ]
  },
  {
   "cell_type": "code",
   "execution_count": 87,
   "metadata": {},
   "outputs": [],
   "source": [
    "import pandas as pd"
   ]
  },
  {
   "cell_type": "code",
   "execution_count": 88,
   "metadata": {},
   "outputs": [],
   "source": [
    "import matplotlib.pyplot as plt"
   ]
  },
  {
   "cell_type": "code",
   "execution_count": 238,
   "metadata": {},
   "outputs": [],
   "source": [
    "from functions.correlations import CorrelationDataFaker"
   ]
  },
  {
   "cell_type": "code",
   "execution_count": 239,
   "metadata": {},
   "outputs": [],
   "source": [
    "x = np.linspace(0,100,101)\n",
    "data_faker = CorrelationDataFaker(x)"
   ]
  },
  {
   "cell_type": "code",
   "execution_count": 240,
   "metadata": {},
   "outputs": [],
   "source": [
    "fake_dataset = data_faker._curves()"
   ]
  },
  {
   "cell_type": "code",
   "execution_count": 241,
   "metadata": {},
   "outputs": [
    {
     "data": {
      "text/plain": [
       "dict_keys(['linear+1', 'linear-1', 'vertical', 'flat', 'concave', 'convex'])"
      ]
     },
     "execution_count": 241,
     "metadata": {},
     "output_type": "execute_result"
    }
   ],
   "source": [
    "fake_dataset.keys()"
   ]
  },
  {
   "cell_type": "code",
   "execution_count": 242,
   "metadata": {},
   "outputs": [
    {
     "name": "stdout",
     "output_type": "stream",
     "text": [
      "linear+1\n",
      "linear-1\n",
      "vertical\n",
      "flat\n",
      "concave\n",
      "convex\n"
     ]
    },
    {
     "data": {
      "image/png": "[encoded data removed]",
      "text/plain": [
       "<Figure size 432x288 with 1 Axes>"
      ]
     },
     "metadata": {},
     "output_type": "display_data"
    }
   ],
   "source": [
    "for name, val in fake_dataset.items():\n",
    "    print(name)\n",
    "    plt.plot(\n",
    "        val.get('x'),\n",
    "        val.get('y')\n",
    "    )"
   ]
  },
  {
   "cell_type": "markdown",
   "metadata": {},
   "source": []
  },
  {
   "cell_type": "code",
   "execution_count": 243,
   "metadata": {},
   "outputs": [],
   "source": [
    "import scipy.stats as ss"
   ]
  },
  {
   "cell_type": "code",
   "execution_count": 244,
   "metadata": {},
   "outputs": [
    {
     "name": "stdout",
     "output_type": "stream",
     "text": [
      "linear+1\n",
      "0.987722772277228 1.6598088951397376e-48\n",
      "linear-1\n",
      "-0.9885148514851486 1.3966289343453324e-48\n",
      "vertical\n",
      "0.10930693069306933 0.10530083330217087\n",
      "flat\n",
      "-0.03445544554455446 0.6096650744421748\n",
      "concave\n",
      "0.0 1.0\n",
      "convex\n",
      "0.0 1.0\n"
     ]
    }
   ],
   "source": [
    "for name, val in fake_dataset.items():\n",
    "    print(name)\n",
    "    tau, p_value = ss.kendalltau(val.get('x'), val.get('y'))\n",
    "    print(tau, p_value)\n"
   ]
  },
  {
   "cell_type": "code",
   "execution_count": 247,
   "metadata": {},
   "outputs": [
    {
     "name": "stdout",
     "output_type": "stream",
     "text": [
      "linear+1\n",
      "0.0 3.802566234792014e-149\n",
      "linear-1\n",
      "0.0 3.5587168866006405e-142\n",
      "vertical\n",
      "0.0 0.10093174898054313\n",
      "flat\n",
      "0.0 0.6006774560963752\n",
      "concave\n",
      "0.0 0.9640759212430116\n",
      "convex\n",
      "0.0 0.9791946785934075\n"
     ]
    }
   ],
   "source": [
    "for name, val in fake_dataset.items():\n",
    "    print(name)\n",
    "    pearsonr, p_value = ss.pearsonr(val.get('x'), val.get('y'))\n",
    "    print(tau, p_value)\n"
   ]
  },
  {
   "cell_type": "code",
   "execution_count": 248,
   "metadata": {},
   "outputs": [],
   "source": [
    "from functions.correlations import cramers_v"
   ]
  },
  {
   "cell_type": "markdown",
   "metadata": {},
   "source": [
    "Since the numbers only apprear once and we do not "
   ]
  },
  {
   "cell_type": "code",
   "execution_count": 265,
   "metadata": {},
   "outputs": [
    {
     "name": "stdout",
     "output_type": "stream",
     "text": [
      "linear+1\n",
      "nan\n",
      "linear-1\n",
      "nan\n",
      "vertical\n",
      "nan\n",
      "flat\n",
      "nan\n",
      "concave\n"
     ]
    },
    {
     "name": "stderr",
     "output_type": "stream",
     "text": [
      "/Users/leima/github/datumorphism/mini-code/statistics/functions/correlations.py:21: RuntimeWarning: invalid value encountered in double_scalars\n",
      "  return np.sqrt(phi2corr/min((kcorr-1),(rcorr-1)))\n"
     ]
    },
    {
     "name": "stdout",
     "output_type": "stream",
     "text": [
      "nan\n",
      "convex\n",
      "nan\n"
     ]
    }
   ],
   "source": [
    "for name, val in fake_dataset.items():\n",
    "    print(name)\n",
    "    cramers = cramers_v(\n",
    "        np.array(val.get('x')), \n",
    "        np.array(val.get('y'))\n",
    "                )\n",
    "    print(cramers)\n"
   ]
  },
  {
   "cell_type": "code",
   "execution_count": 263,
   "metadata": {},
   "outputs": [],
   "source": [
    "x_test, y_test = np.random.randint(10, size=100), np.random.randint(10, size=100)\n",
    "x_test = [val + idx for idx, val in enumerate(x_test)]\n",
    "y_test = [val + idx for idx, val in enumerate(y_test)]"
   ]
  },
  {
   "cell_type": "code",
   "execution_count": 264,
   "metadata": {},
   "outputs": [
    {
     "data": {
      "text/plain": [
       "0.18477649776080446"
      ]
     },
     "execution_count": 264,
     "metadata": {},
     "output_type": "execute_result"
    }
   ],
   "source": [
    "cramers_v(x_test, y_test)"
   ]
  },
  {
   "cell_type": "code",
   "execution_count": 262,
   "metadata": {},
   "outputs": [
    {
     "data": {
      "text/plain": [
       "<matplotlib.collections.PathCollection at 0x1a23bcc908>"
      ]
     },
     "execution_count": 262,
     "metadata": {},
     "output_type": "execute_result"
    },
    {
     "data": {
      "image/png": "[encoded data removed]",
      "text/plain": [
       "<Figure size 432x288 with 1 Axes>"
      ]
     },
     "metadata": {},
     "output_type": "display_data"
    }
   ],
   "source": [
    "plt.scatter(x_test, y_test)"
   ]
  },
  {
   "cell_type": "code",
   "execution_count": null,
   "metadata": {},
   "outputs": [],
   "source": []
  }
 ],
 "metadata": {
  "kernelspec": {
   "display_name": "Python 3",
   "language": "python",
   "name": "python3"
  },
  "language_info": {
   "codemirror_mode": {
    "name": "ipython",
    "version": 3
   },
   "file_extension": ".py",
   "mimetype": "text/x-python",
   "name": "python",
   "nbconvert_exporter": "python",
   "pygments_lexer": "ipython3",
   "version": "3.6.8"
  }
 },
 "nbformat": 4,
 "nbformat_minor": 2
}
