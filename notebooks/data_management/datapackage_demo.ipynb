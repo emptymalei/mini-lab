{
 "cells": [
  {
   "attachments": {},
   "cell_type": "markdown",
   "metadata": {},
   "source": [
    "# Demo for datapackage\n",
    "\n",
    "[`datapackage`](https://github.com/frictionlessdata/datapackage-py) is a great python packaged developed by frictionlessdata."
   ]
  },
  {
   "cell_type": "code",
   "execution_count": null,
   "metadata": {
    "cell_id": "00000-5a8ab359-844f-4b8d-af85-0b1a6c3e5525",
    "deepnote_cell_type": "code",
    "deepnote_to_be_reexecuted": false,
    "execution_millis": 254,
    "execution_start": 1625771690353,
    "source_hash": "62eb065e",
    "tags": []
   },
   "outputs": [],
   "source": [
    "from datapackage import Package"
   ]
  },
  {
   "cell_type": "code",
   "execution_count": null,
   "metadata": {
    "cell_id": "00001-c2a9d798-cc9c-44a9-a41f-6334b5a21cac",
    "deepnote_cell_type": "code",
    "deepnote_to_be_reexecuted": false,
    "execution_millis": 190,
    "execution_start": 1625771762326,
    "source_hash": "a08c56f6",
    "tags": []
   },
   "outputs": [],
   "source": [
    "dpk_uri = \"https://raw.githubusercontent.com/DataHerb/dataset-data-science-job/main/datapackage.json\"\n",
    "\n",
    "package = Package(dpk_uri)\n"
   ]
  },
  {
   "cell_type": "code",
   "execution_count": null,
   "metadata": {
    "cell_id": "00002-2e95c651-6abc-4ee1-be66-2af3a20db8dc",
    "deepnote_cell_type": "code",
    "deepnote_to_be_reexecuted": false,
    "execution_millis": 14,
    "execution_start": 1625771764969,
    "source_hash": "aec20ffb",
    "tags": []
   },
   "outputs": [
    {
     "ename": "AttributeError",
     "evalue": "'NoneType' object has no attribute 'read'",
     "output_type": "error",
     "traceback": [
      "\u001b[0;31m---------------------------------------------------------------------------\u001b[0m",
      "\u001b[0;31mAttributeError\u001b[0m                            Traceback (most recent call last)",
      "\u001b[0;32m/tmp/ipykernel_79/911372333.py\u001b[0m in \u001b[0;36m<module>\u001b[0;34m\u001b[0m\n\u001b[0;32m----> 1\u001b[0;31m \u001b[0mpackage\u001b[0m\u001b[0;34m.\u001b[0m\u001b[0mget_resource\u001b[0m\u001b[0;34m(\u001b[0m\u001b[0;34m'resource'\u001b[0m\u001b[0;34m)\u001b[0m\u001b[0;34m.\u001b[0m\u001b[0mread\u001b[0m\u001b[0;34m(\u001b[0m\u001b[0;34m)\u001b[0m\u001b[0;34m\u001b[0m\u001b[0;34m\u001b[0m\u001b[0m\n\u001b[0m",
      "\u001b[0;31mAttributeError\u001b[0m: 'NoneType' object has no attribute 'read'"
     ]
    }
   ],
   "source": [
    "package.get_resource('resource').read()"
   ]
  },
  {
   "cell_type": "code",
   "execution_count": null,
   "metadata": {
    "cell_id": "00004-2b802e61-2917-4eb7-8f99-6d02d399b603",
    "deepnote_cell_type": "code",
    "deepnote_to_be_reexecuted": false,
    "execution_millis": 8,
    "execution_start": 1625771789866,
    "source_hash": "fda44bca",
    "tags": []
   },
   "outputs": [
    {
     "data": {
      "text/plain": [
       "{'profile': 'tabular-data-package',\n",
       " 'resources': [{'path': 'dataset/stackoverflow_job_listing.csv',\n",
       "   'profile': 'tabular-data-resource',\n",
       "   'name': 'stackoverflow_job_listing',\n",
       "   'format': 'csv',\n",
       "   'mediatype': 'text/csv',\n",
       "   'encoding': 'utf-8',\n",
       "   'schema': {'fields': [{'name': 'link',\n",
       "      'type': 'string',\n",
       "      'format': 'default'},\n",
       "     {'name': 'category', 'type': 'string', 'format': 'default'},\n",
       "     {'name': 'title', 'type': 'string', 'format': 'default'},\n",
       "     {'name': 'description', 'type': 'string', 'format': 'default'},\n",
       "     {'name': 'published_at', 'type': 'string', 'format': 'default'},\n",
       "     {'name': 'location', 'type': 'string', 'format': 'default'},\n",
       "     {'name': 'stackoverflow_id', 'type': 'integer', 'format': 'default'},\n",
       "     {'name': 'author', 'type': 'string', 'format': 'default'},\n",
       "     {'name': 'location_country', 'type': 'string', 'format': 'default'},\n",
       "     {'name': 'location_city', 'type': 'string', 'format': 'default'},\n",
       "     {'name': 'updated_at', 'type': 'string', 'format': 'default'}],\n",
       "    'missingValues': ['']}}]}"
      ]
     },
     "execution_count": 8,
     "metadata": {},
     "output_type": "execute_result"
    }
   ],
   "source": [
    "package.descriptor"
   ]
  },
  {
   "cell_type": "code",
   "execution_count": null,
   "metadata": {
    "cell_id": "00005-2fd89421-d54e-4da1-902b-6d4dc9cf25a6",
    "deepnote_cell_type": "code",
    "deepnote_to_be_reexecuted": false,
    "execution_millis": 9,
    "execution_start": 1625771949230,
    "source_hash": "f5422422",
    "tags": []
   },
   "outputs": [
    {
     "data": {
      "text/plain": [
       "{'path': 'dataset/stackoverflow_job_listing.csv',\n",
       " 'profile': 'tabular-data-resource',\n",
       " 'name': 'stackoverflow_job_listing',\n",
       " 'format': 'csv',\n",
       " 'mediatype': 'text/csv',\n",
       " 'encoding': 'utf-8',\n",
       " 'schema': {'fields': [{'name': 'link', 'type': 'string', 'format': 'default'},\n",
       "   {'name': 'category', 'type': 'string', 'format': 'default'},\n",
       "   {'name': 'title', 'type': 'string', 'format': 'default'},\n",
       "   {'name': 'description', 'type': 'string', 'format': 'default'},\n",
       "   {'name': 'published_at', 'type': 'string', 'format': 'default'},\n",
       "   {'name': 'location', 'type': 'string', 'format': 'default'},\n",
       "   {'name': 'stackoverflow_id', 'type': 'integer', 'format': 'default'},\n",
       "   {'name': 'author', 'type': 'string', 'format': 'default'},\n",
       "   {'name': 'location_country', 'type': 'string', 'format': 'default'},\n",
       "   {'name': 'location_city', 'type': 'string', 'format': 'default'},\n",
       "   {'name': 'updated_at', 'type': 'string', 'format': 'default'}],\n",
       "  'missingValues': ['']}}"
      ]
     },
     "execution_count": 13,
     "metadata": {},
     "output_type": "execute_result"
    }
   ],
   "source": [
    "package.resources[0].descriptor"
   ]
  },
  {
   "cell_type": "code",
   "execution_count": null,
   "metadata": {
    "cell_id": "00006-0a56c5c5-6402-4424-92cb-49ff520e941e",
    "deepnote_cell_type": "code",
    "tags": []
   },
   "outputs": [],
   "source": []
  },
  {
   "cell_type": "markdown",
   "metadata": {
    "created_in_deepnote_cell": true,
    "deepnote_cell_type": "markdown",
    "tags": []
   },
   "source": [
    "<a style='text-decoration:none;line-height:16px;display:flex;color:#5B5B62;padding:10px;justify-content:end;' href='https://deepnote.com?utm_source=created-in-deepnote-cell&projectId=c8a1762a-62b2-46cf-95c0-ea77984dacfd' target=\"_blank\">\n",
    "<img alt='Created in deepnote.com' style='display:inline;max-height:16px;margin:0px;margin-right:7.5px;' src='data:image/svg+xml;base64,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' > </img>\n",
    "Created in <span style='font-weight:600;margin-left:4px;'>Deepnote</span></a>"
   ]
  }
 ],
 "metadata": {
  "deepnote": {
   "is_reactive": false
  },
  "deepnote_execution_queue": [],
  "deepnote_notebook_id": "5de0dc3d-b5cc-45e4-a9c0-3836c84b33e2",
  "kernelspec": {
   "display_name": "Python 3",
   "language": "python",
   "name": "python3"
  },
  "language_info": {
   "name": "python",
   "version": "3.11.1"
  },
  "orig_nbformat": 2,
  "vscode": {
   "interpreter": {
    "hash": "1a1af0ee75eeea9e2e1ee996c87e7a2b11a0bebd85af04bb136d915cefc0abce"
   }
  }
 },
 "nbformat": 4,
 "nbformat_minor": 2
}
