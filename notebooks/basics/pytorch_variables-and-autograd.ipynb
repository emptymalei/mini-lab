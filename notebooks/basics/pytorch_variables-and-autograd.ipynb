{
 "cells": [
  {
   "cell_type": "markdown",
   "metadata": {},
   "source": [
    "## Autograd"
   ]
  },
  {
   "cell_type": "code",
   "execution_count": 12,
   "metadata": {},
   "outputs": [],
   "source": [
    "import torch\n",
    "from torch.autograd import Variable\n",
    "import numpy as np\n",
    "import matplotlib.pyplot as plt"
   ]
  },
  {
   "cell_type": "code",
   "execution_count": 2,
   "metadata": {},
   "outputs": [],
   "source": [
    "row = 5\n",
    "col = 3"
   ]
  },
  {
   "cell_type": "code",
   "execution_count": 3,
   "metadata": {},
   "outputs": [],
   "source": [
    "tensor_1 = torch.ones(row,col)"
   ]
  },
  {
   "cell_type": "code",
   "execution_count": 4,
   "metadata": {},
   "outputs": [
    {
     "name": "stdout",
     "output_type": "stream",
     "text": [
      "Variable containing:\n",
      " 1  1  1\n",
      " 1  1  1\n",
      " 1  1  1\n",
      " 1  1  1\n",
      " 1  1  1\n",
      "[torch.FloatTensor of size 5x3]\n",
      "\n"
     ]
    }
   ],
   "source": [
    "x1 = Variable( tensor_1, requires_grad=True )\n",
    "print(x1)"
   ]
  },
  {
   "cell_type": "markdown",
   "metadata": {},
   "source": [
    "Variable is used to specify a computation graph, and also the accumulatioin of gradients.\n",
    "\n",
    "They keep track of what created them.\n",
    "\n"
   ]
  },
  {
   "cell_type": "code",
   "execution_count": 5,
   "metadata": {},
   "outputs": [
    {
     "name": "stdout",
     "output_type": "stream",
     "text": [
      "Variable containing:\n",
      " 2  2  2\n",
      " 2  2  2\n",
      " 2  2  2\n",
      " 2  2  2\n",
      " 2  2  2\n",
      "[torch.FloatTensor of size 5x3]\n",
      "\n"
     ]
    }
   ],
   "source": [
    "x2 = x1 + 1\n",
    "print(x2)"
   ]
  },
  {
   "cell_type": "code",
   "execution_count": 6,
   "metadata": {},
   "outputs": [
    {
     "name": "stdout",
     "output_type": "stream",
     "text": [
      "<AddBackward0 object at 0x10cd1f240> 0\n"
     ]
    }
   ],
   "source": [
    "print( x2.grad_fn, x2._version )"
   ]
  },
  {
   "cell_type": "markdown",
   "metadata": {},
   "source": [
    "### Autograd"
   ]
  },
  {
   "cell_type": "markdown",
   "metadata": {},
   "source": [
    "Backprop is basically chain rule of derivatives.\n",
    "\n",
    "Autograd does it."
   ]
  },
  {
   "cell_type": "code",
   "execution_count": 7,
   "metadata": {},
   "outputs": [
    {
     "name": "stdout",
     "output_type": "stream",
     "text": [
      "\n",
      " 0.0000\n",
      " 0.6981\n",
      " 1.3963\n",
      " 2.0944\n",
      " 2.7925\n",
      " 3.4907\n",
      " 4.1888\n",
      " 4.8869\n",
      " 5.5851\n",
      " 6.2832\n",
      "[torch.FloatTensor of size 10]\n",
      "\n",
      "Variable containing:\n",
      " 0.0000\n",
      " 0.6981\n",
      " 1.3963\n",
      " 2.0944\n",
      " 2.7925\n",
      " 3.4907\n",
      " 4.1888\n",
      " 4.8869\n",
      " 5.5851\n",
      " 6.2832\n",
      "[torch.FloatTensor of size 10]\n",
      "\n",
      "Variable containing:\n",
      " 0.0000\n",
      " 0.6981\n",
      " 1.3963\n",
      " 2.0944\n",
      " 2.7925\n",
      " 3.4907\n",
      " 4.1888\n",
      " 4.8869\n",
      " 5.5851\n",
      " 6.2832\n",
      "[torch.FloatTensor of size 10]\n",
      "\n"
     ]
    }
   ],
   "source": [
    "tensor_3 = torch.Tensor( np.linspace(0,2*np.pi,10) )\n",
    "print(tensor_3)\n",
    "x_3 = Variable( tensor_3, requires_grad=True )\n",
    "print(x_3)\n",
    "y_3 = torch.sin(x_3)\n",
    "print(x_3)"
   ]
  },
  {
   "cell_type": "code",
   "execution_count": 10,
   "metadata": {},
   "outputs": [
    {
     "name": "stdout",
     "output_type": "stream",
     "text": [
      "Variable containing:\n",
      " 1.0000\n",
      " 0.7660\n",
      " 0.1736\n",
      "-0.5000\n",
      "-0.9397\n",
      "-0.9397\n",
      "-0.5000\n",
      " 0.1736\n",
      " 0.7660\n",
      " 1.0000\n",
      "[torch.FloatTensor of size 10]\n",
      "\n"
     ]
    }
   ],
   "source": [
    "print(x_3.grad)"
   ]
  },
  {
   "cell_type": "code",
   "execution_count": 8,
   "metadata": {},
   "outputs": [
    {
     "name": "stdout",
     "output_type": "stream",
     "text": [
      "None\n",
      "\n",
      " 0.0000\n",
      " 0.6428\n",
      " 0.9848\n",
      " 0.8660\n",
      " 0.3420\n",
      "-0.3420\n",
      "-0.8660\n",
      "-0.9848\n",
      "-0.6428\n",
      " 0.0000\n",
      "[torch.FloatTensor of size 10]\n",
      "\n",
      "\n",
      " 1.0000\n",
      " 0.7660\n",
      " 0.1736\n",
      "-0.5000\n",
      "-0.9397\n",
      "-0.9397\n",
      "-0.5000\n",
      " 0.1736\n",
      " 0.7660\n",
      " 1.0000\n",
      "[torch.FloatTensor of size 10]\n",
      "\n"
     ]
    }
   ],
   "source": [
    "y_3.backward( torch.Tensor( np.ones(10) ) )"
   ]
  },
  {
   "cell_type": "code",
   "execution_count": 23,
   "metadata": {},
   "outputs": [
    {
     "data": {
      "text/plain": [
       "<matplotlib.legend.Legend at 0x110cc4a90>"
      ]
     },
     "execution_count": 23,
     "metadata": {},
     "output_type": "execute_result"
    },
    {
     "data": {
      "image/png": "[encoded data removed]",
      "text/plain": [
       "<matplotlib.figure.Figure at 0x11091fef0>"
      ]
     },
     "metadata": {},
     "output_type": "display_data"
    }
   ],
   "source": [
    "plt.plot(x_3.data.numpy(), y_3.data.numpy(), label=\"torch.sin\" )\n",
    "plt.plot( x_3.data.numpy(), x_3.grad.data.numpy() , label=\"torch.sin grad\" )\n",
    "plt.plot( x_3.data.numpy(), np.cos(x_3.data.numpy() ) , '--',label=\"cos\")\n",
    "plt.legend()"
   ]
  },
  {
   "cell_type": "code",
   "execution_count": null,
   "metadata": {},
   "outputs": [],
   "source": []
  }
 ],
 "metadata": {
  "kernelspec": {
   "display_name": "Python 3",
   "language": "python",
   "name": "python3"
  },
  "language_info": {
   "codemirror_mode": {
    "name": "ipython",
    "version": 3
   },
   "file_extension": ".py",
   "mimetype": "text/x-python",
   "name": "python",
   "nbconvert_exporter": "python",
   "pygments_lexer": "ipython3",
   "version": "3.11.1"
  },
  "vscode": {
   "interpreter": {
    "hash": "1a1af0ee75eeea9e2e1ee996c87e7a2b11a0bebd85af04bb136d915cefc0abce"
   }
  }
 },
 "nbformat": 4,
 "nbformat_minor": 2
}
