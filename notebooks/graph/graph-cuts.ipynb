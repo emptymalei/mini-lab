{
 "cells": [
  {
   "cell_type": "code",
   "metadata": {
    "tags": [],
    "cell_id": "b6d29a03-d575-42a2-9471-ccfeb8459295",
    "deepnote_to_be_reexecuted": false,
    "source_hash": "67117dc9",
    "execution_start": 1647777429132,
    "execution_millis": 3117,
    "deepnote_cell_type": "code",
    "deepnote_cell_height": 117
   },
   "source": "import matplotlib.pyplot as plt\nimport networkx as nx\nimport numpy as np",
   "execution_count": 1,
   "outputs": []
  },
  {
   "cell_type": "code",
   "source": "nx_draw_style = dict(node_color=\"tab:red\", font_size=16, font_color=\"whitesmoke\")",
   "metadata": {
    "cell_id": "fc552076-85e6-43b6-9e99-620f313657ce",
    "tags": [],
    "deepnote_to_be_reexecuted": false,
    "source_hash": "7d129249",
    "execution_start": 1647777940961,
    "execution_millis": 3,
    "deepnote_cell_type": "code",
    "deepnote_cell_height": 81
   },
   "outputs": [],
   "execution_count": 23
  },
  {
   "cell_type": "markdown",
   "source": "## Generate a Graph",
   "metadata": {
    "cell_id": "324c7aee-802a-4b60-a56d-2d85931b5b3b",
    "tags": [],
    "deepnote_cell_type": "markdown",
    "deepnote_cell_height": 70
   }
  },
  {
   "cell_type": "code",
   "source": "G_bb = nx.barbell_graph(3, 0)",
   "metadata": {
    "cell_id": "bb37d606-a372-4225-909a-4928081b3ef5",
    "tags": [],
    "deepnote_to_be_reexecuted": false,
    "source_hash": "872c4ea4",
    "execution_start": 1647777572074,
    "execution_millis": 2,
    "deepnote_cell_type": "code",
    "deepnote_cell_height": 81
   },
   "outputs": [],
   "execution_count": 10
  },
  {
   "cell_type": "code",
   "source": "pos = nx.spring_layout(G_bb, seed=seed)  # Seed for reproducible layout\nnx.draw(G_bb, pos=pos, with_labels = True, **nx_draw_style)\nplt.show()",
   "metadata": {
    "cell_id": "614b3697-f8a1-4eb8-ac3c-58914141d1aa",
    "tags": [],
    "deepnote_to_be_reexecuted": false,
    "source_hash": "cfa274ba",
    "execution_start": 1647777945763,
    "execution_millis": 191,
    "deepnote_cell_type": "code",
    "deepnote_cell_height": 437,
    "deepnote_output_heights": [
     304
    ]
   },
   "outputs": [
    {
     "data": {
      "text/plain": "<Figure size 432x288 with 1 Axes>",
      "image/png": "[encoded data removed]"
     },
     "metadata": {
      "image/png": {
       "width": 446,
       "height": 302
      }
     },
     "output_type": "display_data"
    }
   ],
   "execution_count": 24
  },
  {
   "cell_type": "code",
   "source": "def ratio_cut_size(G, S, T=None, weight=None):\n\n    if T is None:\n        T = set(G) - set(S)\n    num_cut_edges = nx.cut_size(G, S, T=T, weight=weight)\n    norm_S = len(S)\n    norm_T = len(T)\n    return num_cut_edges * ((1 / norm_S) + (1 / norm_T))\n\n\ndef compare_cuts(graph, partition):\n\n    return {\n        \"cut\": nx.cut_size(G, partition[1], partition[2]),\n        \"ncut\": nx.normalized_cut_size(G, partition[1], partition[2]),\n        \"ratio_cut\": ratio_cut_size(G, partition[1], partition[2])\n    }\n",
   "metadata": {
    "cell_id": "eab00aaa-e592-4cb0-a93b-3c647f66028b",
    "tags": [],
    "deepnote_to_be_reexecuted": false,
    "source_hash": "bac5361d",
    "execution_start": 1647780153070,
    "execution_millis": 1,
    "deepnote_cell_type": "code",
    "deepnote_cell_height": 387,
    "deepnote_output_heights": [
     21.1875
    ]
   },
   "outputs": [],
   "execution_count": 45
  },
  {
   "cell_type": "code",
   "source": "partition_bb_1 = {\n    1: {0, 1, 2},\n    2: {3, 4, 5}\n}\n\npartition_bb_2 = {\n    1: {0, 1, 2, 3},\n    2: {4, 5}\n}",
   "metadata": {
    "cell_id": "f539c720-4feb-4fdc-8642-96754fb1cd6d",
    "tags": [],
    "deepnote_to_be_reexecuted": false,
    "source_hash": "9bf5f14a",
    "execution_start": 1647780153275,
    "execution_millis": 2,
    "deepnote_cell_type": "code",
    "deepnote_cell_height": 225,
    "deepnote_output_heights": [
     21.1875
    ]
   },
   "outputs": [],
   "execution_count": 46
  },
  {
   "cell_type": "code",
   "source": "compare_cuts(\n    G_bb, partition_bb_1\n), compare_cuts(\n    G_bb, partition_bb_2\n)\n",
   "metadata": {
    "cell_id": "a2b3b4e9-a7a0-4033-8695-a1341c33033f",
    "tags": [],
    "deepnote_to_be_reexecuted": false,
    "source_hash": "efe0539b",
    "execution_start": 1647780153907,
    "execution_millis": 9,
    "deepnote_cell_type": "code",
    "deepnote_cell_height": 227.375,
    "deepnote_output_heights": [
     40.375
    ]
   },
   "outputs": [
    {
     "output_type": "execute_result",
     "execution_count": 47,
     "data": {
      "text/plain": "({'cut': 1, 'ncut': 0.2857142857142857, 'ratio_cut': 0.6666666666666666},\n {'cut': 2, 'ncut': 0.7, 'ratio_cut': 1.5})"
     },
     "metadata": {}
    }
   ],
   "execution_count": 47
  },
  {
   "cell_type": "code",
   "source": "",
   "metadata": {
    "cell_id": "441d485f-c91c-4626-b6c6-59c332aa09f9",
    "tags": [],
    "deepnote_cell_type": "code",
    "deepnote_cell_height": 66
   },
   "outputs": [],
   "execution_count": null
  },
  {
   "cell_type": "code",
   "source": "",
   "metadata": {
    "cell_id": "799f1c2e-7271-496f-8464-395cc79b1a6b",
    "tags": [],
    "deepnote_cell_type": "code",
    "deepnote_cell_height": 66
   },
   "outputs": [],
   "execution_count": null
  },
  {
   "cell_type": "markdown",
   "source": "<a style='text-decoration:none;line-height:16px;display:flex;color:#5B5B62;padding:10px;justify-content:end;' href='https://deepnote.com?utm_source=created-in-deepnote-cell&projectId=c8a1762a-62b2-46cf-95c0-ea77984dacfd' target=\"_blank\">\n<img alt='Created in deepnote.com' style='display:inline;max-height:16px;margin:0px;margin-right:7.5px;' src='data:image/svg+xml;base64,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' > </img>\nCreated in <span style='font-weight:600;margin-left:4px;'>Deepnote</span></a>",
   "metadata": {
    "tags": [],
    "created_in_deepnote_cell": true,
    "deepnote_cell_type": "markdown"
   }
  }
 ],
 "nbformat": 4,
 "nbformat_minor": 2,
 "metadata": {
  "orig_nbformat": 2,
  "deepnote": {
   "is_reactive": false
  },
  "deepnote_notebook_id": "f5b358b0-bd12-4e68-a0f6-6d087ef05d32",
  "deepnote_execution_queue": []
 }
}