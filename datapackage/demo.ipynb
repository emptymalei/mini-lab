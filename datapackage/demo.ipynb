{
 "cells": [
  {
   "cell_type": "code",
   "metadata": {
    "tags": [],
    "cell_id": "00000-a62a5b1b-bfc6-46f2-92d6-e5e7597346c8",
    "deepnote_to_be_reexecuted": false,
    "source_hash": "3b61e871",
    "execution_start": 1625771673412,
    "execution_millis": 11925,
    "deepnote_cell_type": "code"
   },
   "source": "!pip install datapackage==1.15.2",
   "execution_count": null,
   "outputs": [
    {
     "name": "stdout",
     "text": "Collecting datapackage==1.15.2\n  Downloading datapackage-1.15.2-py2.py3-none-any.whl (85 kB)\n\u001b[K     |████████████████████████████████| 85 kB 5.8 MB/s \n\u001b[?25hCollecting tabulator>=1.29\n  Downloading tabulator-1.53.5-py2.py3-none-any.whl (72 kB)\n\u001b[K     |████████████████████████████████| 72 kB 1.2 MB/s \n\u001b[?25hRequirement already satisfied: click>=6.7 in /shared-libs/python3.7/py/lib/python3.7/site-packages (from datapackage==1.15.2) (7.1.2)\nRequirement already satisfied: requests>=2.8 in /shared-libs/python3.7/py/lib/python3.7/site-packages (from datapackage==1.15.2) (2.25.1)\nRequirement already satisfied: six>=1.10 in /shared-libs/python3.7/py-core/lib/python3.7/site-packages (from datapackage==1.15.2) (1.16.0)\nRequirement already satisfied: chardet>=3.0 in /shared-libs/python3.7/py/lib/python3.7/site-packages (from datapackage==1.15.2) (4.0.0)\nCollecting tableschema>=1.12.1\n  Downloading tableschema-1.20.2-py2.py3-none-any.whl (68 kB)\n\u001b[K     |████████████████████████████████| 68 kB 10.3 MB/s \n\u001b[?25hRequirement already satisfied: jsonschema>=2.5 in /shared-libs/python3.7/py-core/lib/python3.7/site-packages (from datapackage==1.15.2) (3.2.0)\nCollecting unicodecsv>=0.14\n  Downloading unicodecsv-0.14.1.tar.gz (10 kB)\nCollecting jsonpointer>=1.10\n  Downloading jsonpointer-2.1-py2.py3-none-any.whl (7.4 kB)\nRequirement already satisfied: importlib-metadata in /shared-libs/python3.7/py-core/lib/python3.7/site-packages (from jsonschema>=2.5->datapackage==1.15.2) (3.10.1)\nRequirement already satisfied: attrs>=17.4.0 in /shared-libs/python3.7/py-core/lib/python3.7/site-packages (from jsonschema>=2.5->datapackage==1.15.2) (21.2.0)\nRequirement already satisfied: setuptools in /root/venv/lib/python3.7/site-packages (from jsonschema>=2.5->datapackage==1.15.2) (57.0.0)\nRequirement already satisfied: pyrsistent>=0.14.0 in /shared-libs/python3.7/py-core/lib/python3.7/site-packages (from jsonschema>=2.5->datapackage==1.15.2) (0.18.0)\nRequirement already satisfied: urllib3<1.27,>=1.21.1 in /shared-libs/python3.7/py/lib/python3.7/site-packages (from requests>=2.8->datapackage==1.15.2) (1.26.6)\nRequirement already satisfied: idna<3,>=2.5 in /shared-libs/python3.7/py/lib/python3.7/site-packages (from requests>=2.8->datapackage==1.15.2) (2.10)\nRequirement already satisfied: certifi>=2017.4.17 in /shared-libs/python3.7/py/lib/python3.7/site-packages (from requests>=2.8->datapackage==1.15.2) (2021.5.30)\nCollecting cached-property>=1.5\n  Downloading cached_property-1.5.2-py2.py3-none-any.whl (7.6 kB)\nRequirement already satisfied: python-dateutil>=2.4 in /shared-libs/python3.7/py-core/lib/python3.7/site-packages (from tableschema>=1.12.1->datapackage==1.15.2) (2.8.1)\nRequirement already satisfied: isodate>=0.5.4 in /shared-libs/python3.7/py/lib/python3.7/site-packages (from tableschema>=1.12.1->datapackage==1.15.2) (0.6.0)\nCollecting rfc3986>=1.1.0\n  Downloading rfc3986-1.5.0-py2.py3-none-any.whl (31 kB)\nCollecting linear-tsv>=1.0\n  Downloading linear-tsv-1.1.0.tar.gz (9.6 kB)\nRequirement already satisfied: sqlalchemy>=0.9.6 in /shared-libs/python3.7/py/lib/python3.7/site-packages (from tabulator>=1.29->datapackage==1.15.2) (1.4.20)\nCollecting xlrd>=1.0\n  Downloading xlrd-2.0.1-py2.py3-none-any.whl (96 kB)\n\u001b[K     |████████████████████████████████| 96 kB 9.3 MB/s \n\u001b[?25hCollecting openpyxl>=2.6\n  Downloading openpyxl-3.0.7-py2.py3-none-any.whl (243 kB)\n\u001b[K     |████████████████████████████████| 243 kB 45.3 MB/s \n\u001b[?25hCollecting jsonlines>=1.1\n  Downloading jsonlines-2.0.0-py3-none-any.whl (6.3 kB)\nCollecting ijson>=3.0.3\n  Downloading ijson-3.1.4-cp37-cp37m-manylinux2010_x86_64.whl (126 kB)\n\u001b[K     |████████████████████████████████| 126 kB 42.4 MB/s \n\u001b[?25hRequirement already satisfied: boto3>=1.9 in /shared-libs/python3.7/py/lib/python3.7/site-packages (from tabulator>=1.29->datapackage==1.15.2) (1.17.107)\nRequirement already satisfied: botocore<1.21.0,>=1.20.107 in /shared-libs/python3.7/py/lib/python3.7/site-packages (from boto3>=1.9->tabulator>=1.29->datapackage==1.15.2) (1.20.107)\nRequirement already satisfied: s3transfer<0.5.0,>=0.4.0 in /shared-libs/python3.7/py/lib/python3.7/site-packages (from boto3>=1.9->tabulator>=1.29->datapackage==1.15.2) (0.4.2)\nRequirement already satisfied: jmespath<1.0.0,>=0.7.1 in /shared-libs/python3.7/py/lib/python3.7/site-packages (from boto3>=1.9->tabulator>=1.29->datapackage==1.15.2) (0.10.0)\nCollecting et-xmlfile\n  Downloading et_xmlfile-1.1.0-py3-none-any.whl (4.7 kB)\nRequirement already satisfied: greenlet!=0.4.17 in /shared-libs/python3.7/py/lib/python3.7/site-packages (from sqlalchemy>=0.9.6->tabulator>=1.29->datapackage==1.15.2) (1.1.0)\nRequirement already satisfied: zipp>=0.5 in /shared-libs/python3.7/py-core/lib/python3.7/site-packages (from importlib-metadata->jsonschema>=2.5->datapackage==1.15.2) (3.5.0)\nRequirement already satisfied: typing-extensions>=3.6.4 in /shared-libs/python3.7/py-core/lib/python3.7/site-packages (from importlib-metadata->jsonschema>=2.5->datapackage==1.15.2) (3.10.0.0)\nBuilding wheels for collected packages: linear-tsv, unicodecsv\n  Building wheel for linear-tsv (setup.py) ... \u001b[?25ldone\n\u001b[?25h  Created wheel for linear-tsv: filename=linear_tsv-1.1.0-py3-none-any.whl size=7399 sha256=dc6472e77837f9ac979e81e42916ca9246c7111c323204fd94820913db857730\n  Stored in directory: /root/.cache/pip/wheels/dd/0a/62/49ee84fab92057fb3e303fb1a59e75ccac6899b417f441305a\n  Building wheel for unicodecsv (setup.py) ... \u001b[?25ldone\n\u001b[?25h  Created wheel for unicodecsv: filename=unicodecsv-0.14.1-py3-none-any.whl size=10767 sha256=504d432d94281b240918b2f5a74251a619786e7da69914fbeeadd3aa6bcd1317\n  Stored in directory: /root/.cache/pip/wheels/1a/f4/8a/a5024fb77b32ed369e5c409081e5f00fbe3b92fdad653f6e69\nSuccessfully built linear-tsv unicodecsv\nInstalling collected packages: et-xmlfile, xlrd, unicodecsv, openpyxl, linear-tsv, jsonlines, ijson, tabulator, rfc3986, cached-property, tableschema, jsonpointer, datapackage\nSuccessfully installed cached-property-1.5.2 datapackage-1.15.2 et-xmlfile-1.1.0 ijson-3.1.4 jsonlines-2.0.0 jsonpointer-2.1 linear-tsv-1.1.0 openpyxl-3.0.7 rfc3986-1.5.0 tableschema-1.20.2 tabulator-1.53.5 unicodecsv-0.14.1 xlrd-2.0.1\n\u001b[33mWARNING: You are using pip version 21.1.2; however, version 21.1.3 is available.\nYou should consider upgrading via the '/root/venv/bin/python -m pip install --upgrade pip' command.\u001b[0m\n",
     "output_type": "stream"
    }
   ]
  },
  {
   "cell_type": "code",
   "metadata": {
    "tags": [],
    "cell_id": "00000-5a8ab359-844f-4b8d-af85-0b1a6c3e5525",
    "deepnote_to_be_reexecuted": false,
    "source_hash": "62eb065e",
    "execution_start": 1625771690353,
    "execution_millis": 254,
    "deepnote_cell_type": "code"
   },
   "source": "from datapackage import Package",
   "execution_count": null,
   "outputs": []
  },
  {
   "cell_type": "code",
   "metadata": {
    "tags": [],
    "cell_id": "00001-c2a9d798-cc9c-44a9-a41f-6334b5a21cac",
    "deepnote_to_be_reexecuted": false,
    "source_hash": "a08c56f6",
    "execution_start": 1625771762326,
    "execution_millis": 190,
    "deepnote_cell_type": "code"
   },
   "source": "dpk_uri = \"https://raw.githubusercontent.com/DataHerb/dataset-data-science-job/main/datapackage.json\"\n\npackage = Package(dpk_uri)\n",
   "execution_count": null,
   "outputs": []
  },
  {
   "cell_type": "code",
   "metadata": {
    "tags": [],
    "cell_id": "00002-2e95c651-6abc-4ee1-be66-2af3a20db8dc",
    "deepnote_to_be_reexecuted": false,
    "source_hash": "aec20ffb",
    "execution_start": 1625771764969,
    "execution_millis": 14,
    "deepnote_cell_type": "code"
   },
   "source": "package.get_resource('resource').read()",
   "execution_count": null,
   "outputs": [
    {
     "output_type": "error",
     "ename": "AttributeError",
     "evalue": "'NoneType' object has no attribute 'read'",
     "traceback": [
      "\u001b[0;31m---------------------------------------------------------------------------\u001b[0m",
      "\u001b[0;31mAttributeError\u001b[0m                            Traceback (most recent call last)",
      "\u001b[0;32m/tmp/ipykernel_79/911372333.py\u001b[0m in \u001b[0;36m<module>\u001b[0;34m\u001b[0m\n\u001b[0;32m----> 1\u001b[0;31m \u001b[0mpackage\u001b[0m\u001b[0;34m.\u001b[0m\u001b[0mget_resource\u001b[0m\u001b[0;34m(\u001b[0m\u001b[0;34m'resource'\u001b[0m\u001b[0;34m)\u001b[0m\u001b[0;34m.\u001b[0m\u001b[0mread\u001b[0m\u001b[0;34m(\u001b[0m\u001b[0;34m)\u001b[0m\u001b[0;34m\u001b[0m\u001b[0;34m\u001b[0m\u001b[0m\n\u001b[0m",
      "\u001b[0;31mAttributeError\u001b[0m: 'NoneType' object has no attribute 'read'"
     ]
    }
   ]
  },
  {
   "cell_type": "code",
   "metadata": {
    "tags": [],
    "cell_id": "00004-2b802e61-2917-4eb7-8f99-6d02d399b603",
    "deepnote_to_be_reexecuted": false,
    "source_hash": "fda44bca",
    "execution_start": 1625771789866,
    "execution_millis": 8,
    "deepnote_cell_type": "code"
   },
   "source": "package.descriptor",
   "execution_count": null,
   "outputs": [
    {
     "output_type": "execute_result",
     "execution_count": 8,
     "data": {
      "text/plain": "{'profile': 'tabular-data-package',\n 'resources': [{'path': 'dataset/stackoverflow_job_listing.csv',\n   'profile': 'tabular-data-resource',\n   'name': 'stackoverflow_job_listing',\n   'format': 'csv',\n   'mediatype': 'text/csv',\n   'encoding': 'utf-8',\n   'schema': {'fields': [{'name': 'link',\n      'type': 'string',\n      'format': 'default'},\n     {'name': 'category', 'type': 'string', 'format': 'default'},\n     {'name': 'title', 'type': 'string', 'format': 'default'},\n     {'name': 'description', 'type': 'string', 'format': 'default'},\n     {'name': 'published_at', 'type': 'string', 'format': 'default'},\n     {'name': 'location', 'type': 'string', 'format': 'default'},\n     {'name': 'stackoverflow_id', 'type': 'integer', 'format': 'default'},\n     {'name': 'author', 'type': 'string', 'format': 'default'},\n     {'name': 'location_country', 'type': 'string', 'format': 'default'},\n     {'name': 'location_city', 'type': 'string', 'format': 'default'},\n     {'name': 'updated_at', 'type': 'string', 'format': 'default'}],\n    'missingValues': ['']}}]}"
     },
     "metadata": {}
    }
   ]
  },
  {
   "cell_type": "code",
   "metadata": {
    "tags": [],
    "cell_id": "00005-2fd89421-d54e-4da1-902b-6d4dc9cf25a6",
    "deepnote_to_be_reexecuted": false,
    "source_hash": "f5422422",
    "execution_start": 1625771949230,
    "execution_millis": 9,
    "deepnote_cell_type": "code"
   },
   "source": "package.resources[0].descriptor",
   "execution_count": null,
   "outputs": [
    {
     "output_type": "execute_result",
     "execution_count": 13,
     "data": {
      "text/plain": "{'path': 'dataset/stackoverflow_job_listing.csv',\n 'profile': 'tabular-data-resource',\n 'name': 'stackoverflow_job_listing',\n 'format': 'csv',\n 'mediatype': 'text/csv',\n 'encoding': 'utf-8',\n 'schema': {'fields': [{'name': 'link', 'type': 'string', 'format': 'default'},\n   {'name': 'category', 'type': 'string', 'format': 'default'},\n   {'name': 'title', 'type': 'string', 'format': 'default'},\n   {'name': 'description', 'type': 'string', 'format': 'default'},\n   {'name': 'published_at', 'type': 'string', 'format': 'default'},\n   {'name': 'location', 'type': 'string', 'format': 'default'},\n   {'name': 'stackoverflow_id', 'type': 'integer', 'format': 'default'},\n   {'name': 'author', 'type': 'string', 'format': 'default'},\n   {'name': 'location_country', 'type': 'string', 'format': 'default'},\n   {'name': 'location_city', 'type': 'string', 'format': 'default'},\n   {'name': 'updated_at', 'type': 'string', 'format': 'default'}],\n  'missingValues': ['']}}"
     },
     "metadata": {}
    }
   ]
  },
  {
   "cell_type": "code",
   "metadata": {
    "tags": [],
    "cell_id": "00006-0a56c5c5-6402-4424-92cb-49ff520e941e",
    "deepnote_cell_type": "code"
   },
   "source": "",
   "execution_count": null,
   "outputs": []
  },
  {
   "cell_type": "markdown",
   "source": "<a style='text-decoration:none;line-height:16px;display:flex;color:#5B5B62;padding:10px;justify-content:end;' href='https://deepnote.com?utm_source=created-in-deepnote-cell&projectId=c8a1762a-62b2-46cf-95c0-ea77984dacfd' target=\"_blank\">\n<img alt='Created in deepnote.com' style='display:inline;max-height:16px;margin:0px;margin-right:7.5px;' src='data:image/svg+xml;base64,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' > </img>\nCreated in <span style='font-weight:600;margin-left:4px;'>Deepnote</span></a>",
   "metadata": {
    "tags": [],
    "created_in_deepnote_cell": true,
    "deepnote_cell_type": "markdown"
   }
  }
 ],
 "nbformat": 4,
 "nbformat_minor": 2,
 "metadata": {
  "orig_nbformat": 2,
  "deepnote": {
   "is_reactive": false
  },
  "deepnote_notebook_id": "5de0dc3d-b5cc-45e4-a9c0-3836c84b33e2",
  "deepnote_execution_queue": []
 }
}