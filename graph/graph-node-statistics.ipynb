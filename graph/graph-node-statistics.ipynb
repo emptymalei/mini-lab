{
 "cells": [
  {
   "cell_type": "markdown",
   "source": "# Node Statistics on Graph",
   "metadata": {
    "cell_id": "0d89f8aa-3b14-4485-abcf-cbd7797d4e00",
    "tags": [],
    "is_collapsed": false,
    "deepnote_cell_type": "text-cell-h1"
   }
  },
  {
   "cell_type": "markdown",
   "source": "",
   "metadata": {
    "cell_id": "4795efca-18fc-48d1-ad45-1c94acdb276a",
    "tags": [],
    "is_collapsed": false,
    "deepnote_cell_type": "text-cell-p"
   }
  },
  {
   "cell_type": "code",
   "metadata": {
    "cell_id": "8dba3f53-5f13-465b-9a88-4e097f3828f5",
    "tags": [],
    "deepnote_to_be_reexecuted": false,
    "source_hash": "c2602aa8",
    "execution_start": 1644167768378,
    "execution_millis": 3,
    "deepnote_cell_type": "code"
   },
   "source": "import numpy as np",
   "execution_count": null,
   "outputs": []
  },
  {
   "cell_type": "markdown",
   "source": "# Centrality",
   "metadata": {
    "cell_id": "3c35dd1b-5cef-4eaa-bcb1-7e7d8a0df415",
    "tags": [],
    "is_collapsed": false,
    "deepnote_cell_type": "text-cell-h1"
   }
  },
  {
   "cell_type": "code",
   "metadata": {
    "cell_id": "0146710b-6bea-43f3-ab8b-d98bdc3633b6",
    "tags": [],
    "deepnote_to_be_reexecuted": false,
    "source_hash": "8ac5a5f",
    "execution_start": 1644167769347,
    "execution_millis": 5,
    "deepnote_cell_type": "code"
   },
   "source": "node_ct = 5",
   "execution_count": null,
   "outputs": []
  },
  {
   "cell_type": "code",
   "metadata": {
    "cell_id": "16060762-be05-4dcb-bcd3-9d14fca7422d",
    "tags": [],
    "deepnote_to_be_reexecuted": false,
    "source_hash": "5a50dfae",
    "execution_start": 1644167769747,
    "execution_millis": 55,
    "deepnote_output_heights": [
     97.9375
    ],
    "deepnote_cell_type": "code"
   },
   "source": "adj_mat_rnd = np.random.randint(2, size=(node_ct, node_ct))\nnp.fill_diagonal(adj_mat_rnd, 0)\nadj_mat_rnd = np.floor((adj_mat_rnd + adj_mat_rnd.T)/2)\nadj_mat_rnd",
   "execution_count": null,
   "outputs": [
    {
     "output_type": "execute_result",
     "execution_count": 4,
     "data": {
      "text/plain": "array([[0., 1., 0., 0., 0.],\n       [1., 0., 0., 0., 0.],\n       [0., 0., 0., 0., 0.],\n       [0., 0., 0., 0., 0.],\n       [0., 0., 0., 0., 0.]])"
     },
     "metadata": {}
    }
   ]
  },
  {
   "cell_type": "code",
   "metadata": {
    "cell_id": "f4b47c8d-3f59-4358-a902-59fad1066ce6",
    "tags": [],
    "deepnote_cell_type": "code"
   },
   "source": "",
   "execution_count": null,
   "outputs": []
  },
  {
   "cell_type": "code",
   "metadata": {
    "cell_id": "fc86944f-2914-4884-a331-90df14dcb73f",
    "tags": [],
    "deepnote_to_be_reexecuted": false,
    "source_hash": "ac77d30a",
    "execution_start": 1644154782088,
    "execution_millis": 3,
    "deepnote_output_heights": [
     213.0625
    ],
    "deepnote_cell_type": "code"
   },
   "source": "np.linalg.eig(adj_mat)",
   "execution_count": null,
   "outputs": [
    {
     "output_type": "execute_result",
     "execution_count": 72,
     "data": {
      "text/plain": "(array([ 2.17008649,  0.31110782, -1.        , -1.4811943 ,  0.        ]),\n array([[ 5.22720726e-01,  3.68160356e-01, -7.07106781e-01,\n         -3.02028137e-01,  0.00000000e+00],\n        [ 5.22720726e-01,  3.68160356e-01,  7.07106781e-01,\n         -3.02028137e-01,  0.00000000e+00],\n        [ 0.00000000e+00,  0.00000000e+00,  0.00000000e+00,\n          0.00000000e+00,  1.00000000e+00],\n        [ 2.81845199e-01, -8.15224745e-01,  1.90125264e-16,\n         -5.05936655e-01,  0.00000000e+00],\n        [ 6.11628457e-01, -2.53622791e-01, -8.43014807e-18,\n          7.49390492e-01,  0.00000000e+00]]))"
     },
     "metadata": {}
    }
   ]
  },
  {
   "cell_type": "code",
   "metadata": {
    "cell_id": "39dd60bf-6538-47ef-8fc3-611d54d2c726",
    "tags": [],
    "deepnote_to_be_reexecuted": false,
    "source_hash": "4cbd206e",
    "execution_start": 1644153734805,
    "execution_millis": 4,
    "deepnote_output_heights": [
     21.1875
    ],
    "deepnote_cell_type": "code"
   },
   "source": "e_init = np.ones(node_ct)\ne_init",
   "execution_count": null,
   "outputs": [
    {
     "output_type": "execute_result",
     "execution_count": 61,
     "data": {
      "text/plain": "array([1., 1., 1., 1., 1.])"
     },
     "metadata": {}
    }
   ]
  },
  {
   "cell_type": "code",
   "metadata": {
    "cell_id": "212214c9-31dc-499b-bb9b-14d8d317e5fd",
    "tags": [],
    "deepnote_to_be_reexecuted": false,
    "source_hash": "5b038435",
    "execution_start": 1644154788220,
    "execution_millis": 6,
    "deepnote_output_heights": [
     21.1875
    ],
    "deepnote_cell_type": "code"
   },
   "source": "np.matmul(adj_mat, e_init)",
   "execution_count": null,
   "outputs": [
    {
     "output_type": "execute_result",
     "execution_count": 73,
     "data": {
      "text/plain": "array([2., 2., 0., 1., 3.])"
     },
     "metadata": {}
    }
   ]
  },
  {
   "cell_type": "code",
   "metadata": {
    "cell_id": "9da4e816-03d5-4c11-938e-5ea8bf3251b2",
    "tags": [],
    "deepnote_to_be_reexecuted": false,
    "source_hash": "d5fa7cf",
    "execution_start": 1644154810124,
    "execution_millis": 5,
    "deepnote_cell_type": "code"
   },
   "source": "e_i = e_init.copy()\n\nfor i in range(5):\n    e_i = np.matmul(adj_mat, e_i)\n    # e_i = e_i/np.linalg.norm(e_i)\n    print(e_i.shape)\n    print(f\"{i}: {e_i}\")\n",
   "execution_count": null,
   "outputs": [
    {
     "name": "stdout",
     "text": "(5,)\n0: [2. 2. 0. 1. 3.]\n(5,)\n1: [5. 5. 0. 3. 5.]\n(5,)\n2: [10. 10.  0.  5. 13.]\n(5,)\n3: [23. 23.  0. 13. 25.]\n(5,)\n4: [48. 48.  0. 25. 59.]\n",
     "output_type": "stream"
    }
   ]
  },
  {
   "cell_type": "code",
   "metadata": {
    "cell_id": "63eb737e-e5d7-4b1a-8ef6-0d7e1acb7077",
    "tags": [],
    "deepnote_to_be_reexecuted": false,
    "source_hash": "451ca73a",
    "execution_start": 1644153737716,
    "execution_millis": 5,
    "deepnote_cell_type": "code"
   },
   "source": "def power_iteration(A, num_simulations: int):\n    # Ideally choose a random vector\n    # To decrease the chance that our vector\n    # Is orthogonal to the eigenvector\n    b_k = np.random.rand(A.shape[1])\n\n    for _ in range(num_simulations):\n        # calculate the matrix-by-vector product Ab\n        b_k1 = np.dot(A, b_k)\n\n        # calculate the norm\n        b_k1_norm = np.linalg.norm(b_k1)\n\n        # re normalize the vector\n        b_k = b_k1 / b_k1_norm\n\n    return b_k\n\n",
   "execution_count": null,
   "outputs": []
  },
  {
   "cell_type": "code",
   "metadata": {
    "cell_id": "5724610d-1e8c-427f-8563-6b87f2cb01ce",
    "tags": [],
    "deepnote_to_be_reexecuted": false,
    "source_hash": "b8281fb1",
    "execution_start": 1644153738808,
    "execution_millis": 12,
    "deepnote_output_heights": [
     21.1875
    ],
    "deepnote_cell_type": "code"
   },
   "source": "power_iteration(np.array([[0.5, 0.5], [0.2, 0.8]]), 100)",
   "execution_count": null,
   "outputs": [
    {
     "output_type": "execute_result",
     "execution_count": 65,
     "data": {
      "text/plain": "array([0.70710678, 0.70710678])"
     },
     "metadata": {}
    }
   ]
  },
  {
   "cell_type": "code",
   "metadata": {
    "cell_id": "0bf71e72-8c1e-47fa-8480-ef1c0a9d8ed7",
    "tags": [],
    "deepnote_to_be_reexecuted": false,
    "source_hash": "bd891356",
    "execution_start": 1644153775655,
    "execution_millis": 142,
    "deepnote_output_heights": [
     21.1875
    ],
    "deepnote_cell_type": "code"
   },
   "source": "power_iteration(adj_mat, 500)",
   "execution_count": null,
   "outputs": [
    {
     "output_type": "execute_result",
     "execution_count": 69,
     "data": {
      "text/plain": "array([0.52272073, 0.52272073, 0.        , 0.2818452 , 0.61162846])"
     },
     "metadata": {}
    }
   ]
  },
  {
   "cell_type": "code",
   "metadata": {
    "cell_id": "0ddf91bf-b179-4bb8-b834-a83b358c3232",
    "tags": [],
    "deepnote_cell_type": "code"
   },
   "source": "",
   "execution_count": null,
   "outputs": []
  },
  {
   "cell_type": "code",
   "metadata": {
    "cell_id": "ec53a6ac-be69-4f3a-a01e-3e07d1592f4f",
    "tags": [],
    "deepnote_cell_type": "code"
   },
   "source": "adj_florentine = np.array(\n    [\n        []\n    ]\n)",
   "execution_count": null,
   "outputs": []
  },
  {
   "cell_type": "markdown",
   "source": "",
   "metadata": {
    "cell_id": "6e57047c-0cbd-4f54-9c70-be3ccc2a4f5f",
    "tags": [],
    "is_collapsed": false,
    "deepnote_cell_type": "text-cell-p"
   }
  },
  {
   "cell_type": "markdown",
   "source": "<a style='text-decoration:none;line-height:16px;display:flex;color:#5B5B62;padding:10px;justify-content:end;' href='https://deepnote.com?utm_source=created-in-deepnote-cell&projectId=c8a1762a-62b2-46cf-95c0-ea77984dacfd' target=\"_blank\">\n<img alt='Created in deepnote.com' style='display:inline;max-height:16px;margin:0px;margin-right:7.5px;' src='data:image/svg+xml;base64,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' > </img>\nCreated in <span style='font-weight:600;margin-left:4px;'>Deepnote</span></a>",
   "metadata": {
    "tags": [],
    "created_in_deepnote_cell": true,
    "deepnote_cell_type": "markdown"
   }
  }
 ],
 "nbformat": 4,
 "nbformat_minor": 2,
 "metadata": {
  "orig_nbformat": 2,
  "deepnote": {
   "is_reactive": false
  },
  "deepnote_notebook_id": "6f3dc343-ac48-42ca-8d61-85d3740b3cb8",
  "deepnote_execution_queue": []
 }
}