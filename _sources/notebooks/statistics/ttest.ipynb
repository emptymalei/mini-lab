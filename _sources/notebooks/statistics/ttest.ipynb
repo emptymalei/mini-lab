{
 "cells": [
  {
   "cell_type": "markdown",
   "id": "marine-article",
   "metadata": {},
   "source": [
    "## TTest"
   ]
  },
  {
   "cell_type": "markdown",
   "id": "competent-decimal",
   "metadata": {},
   "source": [
    "T test"
   ]
  },
  {
   "cell_type": "code",
   "execution_count": 1,
   "id": "saving-fighter",
   "metadata": {},
   "outputs": [],
   "source": [
    "import scipy as sp\n",
    "import numpy as np"
   ]
  },
  {
   "cell_type": "code",
   "execution_count": 2,
   "id": "closing-tuesday",
   "metadata": {},
   "outputs": [],
   "source": [
    "import matplotlib.pyplot as plt\n",
    "import seaborn as sns\n"
   ]
  },
  {
   "cell_type": "markdown",
   "id": "hourly-hydrogen",
   "metadata": {},
   "source": [
    "## Draw from population"
   ]
  },
  {
   "cell_type": "markdown",
   "id": "frequent-theater",
   "metadata": {},
   "source": [
    "Assume a distribution"
   ]
  },
  {
   "cell_type": "code",
   "execution_count": 20,
   "id": "knowing-screening",
   "metadata": {},
   "outputs": [],
   "source": [
    "sampling_means = []\n",
    "\n",
    "for i in range(10000):\n",
    "    sampling_means.append(\n",
    "        np.mean(\n",
    "            np.random.normal(size=10)\n",
    "        )\n",
    "    )"
   ]
  },
  {
   "cell_type": "code",
   "execution_count": 21,
   "id": "hired-programming",
   "metadata": {},
   "outputs": [
    {
     "data": {
      "text/plain": [
       "Text(0.5, 0, 'Sample Means')"
      ]
     },
     "execution_count": 21,
     "metadata": {},
     "output_type": "execute_result"
    },
    {
     "data": {
      "image/png": "[encoded data removed]",
      "text/plain": [
       "<Figure size 720x444.96 with 1 Axes>"
      ]
     },
     "metadata": {
      "needs_background": "light"
     },
     "output_type": "display_data"
    }
   ],
   "source": [
    "fig, ax = plt.subplots(figsize=(10,6.18))\n",
    "\n",
    "sns.histplot(sampling_means, ax=ax, bins=20)\n",
    "\n",
    "ax.set_xlabel(\"Sample Means\")"
   ]
  },
  {
   "cell_type": "code",
   "execution_count": null,
   "id": "numerical-miniature",
   "metadata": {},
   "outputs": [],
   "source": []
  },
  {
   "cell_type": "code",
   "execution_count": null,
   "id": "stone-share",
   "metadata": {},
   "outputs": [],
   "source": []
  },
  {
   "cell_type": "code",
   "execution_count": null,
   "id": "gorgeous-thumb",
   "metadata": {},
   "outputs": [],
   "source": []
  },
  {
   "cell_type": "code",
   "execution_count": null,
   "id": "useful-latitude",
   "metadata": {},
   "outputs": [],
   "source": []
  },
  {
   "cell_type": "code",
   "execution_count": null,
   "id": "surrounded-vanilla",
   "metadata": {},
   "outputs": [],
   "source": []
  },
  {
   "cell_type": "code",
   "execution_count": null,
   "id": "smart-banking",
   "metadata": {},
   "outputs": [],
   "source": []
  },
  {
   "cell_type": "code",
   "execution_count": null,
   "id": "integral-anaheim",
   "metadata": {},
   "outputs": [],
   "source": []
  },
  {
   "cell_type": "code",
   "execution_count": null,
   "id": "norwegian-trunk",
   "metadata": {},
   "outputs": [],
   "source": []
  },
  {
   "cell_type": "code",
   "execution_count": null,
   "id": "upset-switzerland",
   "metadata": {},
   "outputs": [],
   "source": []
  },
  {
   "cell_type": "code",
   "execution_count": null,
   "id": "fifteen-imaging",
   "metadata": {},
   "outputs": [],
   "source": []
  }
 ],
 "metadata": {
  "kernelspec": {
   "display_name": "mini-lab",
   "language": "python",
   "name": "python3"
  },
  "language_info": {
   "codemirror_mode": {
    "name": "ipython",
    "version": 3
   },
   "file_extension": ".py",
   "mimetype": "text/x-python",
   "name": "python",
   "nbconvert_exporter": "python",
   "pygments_lexer": "ipython3",
   "version": "3.9.16"
  },
  "vscode": {
   "interpreter": {
    "hash": "e467efdff174b9cfab53e8ca5f6d304cc797bfb14bfea67d9f8e08ed2ec0841d"
   }
  }
 },
 "nbformat": 4,
 "nbformat_minor": 5
}
