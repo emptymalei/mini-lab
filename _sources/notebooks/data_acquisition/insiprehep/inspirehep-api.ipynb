{
 "cells": [
  {
   "attachments": {},
   "cell_type": "markdown",
   "metadata": {},
   "source": [
    "# inspirehep API"
   ]
  },
  {
   "cell_type": "code",
   "execution_count": 1,
   "metadata": {},
   "outputs": [],
   "source": [
    "import numpy as np\n",
    "import os\n",
    "import pandas as pd\n",
    "import matplotlib.pyplot as plt\n",
    "from urllib3.exceptions import ProtocolError\n",
    "import pprint\n"
   ]
  },
  {
   "cell_type": "markdown",
   "metadata": {},
   "source": [
    "I have two examples of search on inspirehep."
   ]
  },
  {
   "cell_type": "markdown",
   "metadata": {},
   "source": [
    "```\n",
    "http://inspirehep.net/search?p=exactauthor%3A' + id + '&sf=earliestdate&of=recjson&ot=recid,creation_date,authors,abstract,primary_report_number,publication_info,title'\n",
    "```"
   ]
  },
  {
   "cell_type": "markdown",
   "metadata": {},
   "source": [
    "```\n",
    "http://inspirehep.net/search?ln=en&as=1&m1=a&p1=neutrino&f1=title&op1=a&m2=a&p2=&f2=&op2=a&m3=a&p3=&f3=&action_search=Search&sf=&so=d&rm=&rg=25&sc=0&of=hb\n",
    "```"
   ]
  },
  {
   "cell_type": "code",
   "execution_count": 56,
   "metadata": {},
   "outputs": [],
   "source": [
    "api_base = 'http://inspirehep.net/search?p1=neutrino&f1=title&&so=d&rm=citation&sc=0&of=recjson'\n",
    "rec_per_page = '&rg=250'\n",
    "start_rec = '&jrec=1'"
   ]
  },
  {
   "cell_type": "code",
   "execution_count": 57,
   "metadata": {},
   "outputs": [],
   "source": [
    "import requests\n",
    "import json"
   ]
  },
  {
   "cell_type": "code",
   "execution_count": 58,
   "metadata": {},
   "outputs": [],
   "source": [
    "rsp = requests.get(api_base+rec_per_page+start_rec)"
   ]
  },
  {
   "cell_type": "code",
   "execution_count": 59,
   "metadata": {},
   "outputs": [],
   "source": [
    "rsp_json = rsp.json()"
   ]
  },
  {
   "cell_type": "code",
   "execution_count": 60,
   "metadata": {},
   "outputs": [
    {
     "data": {
      "text/plain": [
       "250"
      ]
     },
     "execution_count": 60,
     "metadata": {},
     "output_type": "execute_result"
    }
   ],
   "source": [
    "len(rsp_json)"
   ]
  },
  {
   "cell_type": "code",
   "execution_count": 61,
   "metadata": {},
   "outputs": [
    {
     "data": {
      "text/plain": [
       "dict_keys(['comment', 'reference', 'abstract', 'creation_date', 'primary_report_number', 'publication_info', 'corporate_name', 'subject', 'cataloguer_info', 'physical_description', 'number_of_citations', 'other_report_number', 'title', 'persistent_identifiers_keys', 'abbreviated_title', 'system_number', 'files', 'system_control_number', 'filenames', 'number_of_reviews', 'version_id', 'FIXME_OAI', 'authors', 'doi', 'number_of_authors', 'accelerator_experiment', 'number_of_comments', 'title_additional', 'url', 'recid', 'collection', 'thesaurus_terms', 'filetypes', 'prepublication'])"
      ]
     },
     "execution_count": 61,
     "metadata": {},
     "output_type": "execute_result"
    }
   ],
   "source": [
    "rsp_json[0].keys()"
   ]
  },
  {
   "cell_type": "code",
   "execution_count": 63,
   "metadata": {},
   "outputs": [],
   "source": [
    "citations = [rec['number_of_citations'] for rec in rsp_json]"
   ]
  },
  {
   "cell_type": "code",
   "execution_count": 67,
   "metadata": {},
   "outputs": [
    {
     "data": {
      "image/png": "[encoded data removed]",
      "text/plain": [
       "<Figure size 432x288 with 1 Axes>"
      ]
     },
     "metadata": {},
     "output_type": "display_data"
    }
   ],
   "source": [
    "plt.semilogy(citations)\n",
    "plt.show()"
   ]
  },
  {
   "cell_type": "code",
   "execution_count": 69,
   "metadata": {},
   "outputs": [
    {
     "data": {
      "image/png": "[encoded data removed]",
      "text/plain": [
       "<Figure size 432x288 with 1 Axes>"
      ]
     },
     "metadata": {},
     "output_type": "display_data"
    }
   ],
   "source": [
    "plt.hist(citations)\n",
    "plt.show()"
   ]
  },
  {
   "cell_type": "code",
   "execution_count": null,
   "metadata": {},
   "outputs": [],
   "source": []
  }
 ],
 "metadata": {
  "kernelspec": {
   "display_name": "Python 3",
   "language": "python",
   "name": "python3"
  },
  "language_info": {
   "codemirror_mode": {
    "name": "ipython",
    "version": 3
   },
   "file_extension": ".py",
   "mimetype": "text/x-python",
   "name": "python",
   "nbconvert_exporter": "python",
   "pygments_lexer": "ipython3",
   "version": "3.6.4"
  }
 },
 "nbformat": 4,
 "nbformat_minor": 2
}
