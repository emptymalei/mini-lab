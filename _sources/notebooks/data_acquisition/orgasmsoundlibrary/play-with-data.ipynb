{
 "cells": [
  {
   "cell_type": "markdown",
   "metadata": {},
   "source": [
    "## Download OrgasmSoundLibrary data"
   ]
  },
  {
   "cell_type": "markdown",
   "metadata": {},
   "source": [
    "This is part of the orgasm sound classification problem."
   ]
  },
  {
   "cell_type": "markdown",
   "metadata": {},
   "source": [
    "Where is the data?\n",
    "\n",
    "The data is acquired from https://orgasmsoundlibrary.com/#gallery"
   ]
  },
  {
   "cell_type": "markdown",
   "metadata": {},
   "source": [
    "The API is here: https://orgasmsoundlibrary.com/data/bijoux.json"
   ]
  },
  {
   "cell_type": "markdown",
   "metadata": {},
   "source": [
    "## Get API"
   ]
  },
  {
   "cell_type": "code",
   "execution_count": 8,
   "metadata": {},
   "outputs": [],
   "source": [
    "import json"
   ]
  },
  {
   "cell_type": "code",
   "execution_count": 2,
   "metadata": {},
   "outputs": [],
   "source": [
    "import requests"
   ]
  },
  {
   "cell_type": "code",
   "execution_count": 3,
   "metadata": {},
   "outputs": [],
   "source": [
    "API_PATH = \"https://orgasmsoundlibrary.com/data/bijoux.json\""
   ]
  },
  {
   "cell_type": "code",
   "execution_count": 5,
   "metadata": {},
   "outputs": [],
   "source": [
    "req = requests.get(API_PATH)"
   ]
  },
  {
   "cell_type": "code",
   "execution_count": 7,
   "metadata": {},
   "outputs": [],
   "source": [
    "req_json = req.json()"
   ]
  },
  {
   "cell_type": "code",
   "execution_count": 9,
   "metadata": {},
   "outputs": [],
   "source": [
    "with open(\"data/bijoux.json\", \"w\") as fp:\n",
    "    json.dump(req_json, fp)"
   ]
  },
  {
   "cell_type": "markdown",
   "metadata": {},
   "source": [
    "## Download Audio"
   ]
  },
  {
   "cell_type": "code",
   "execution_count": 25,
   "metadata": {},
   "outputs": [],
   "source": [
    "BASE_URL = \"https://orgasmsoundlibrary.com/\""
   ]
  },
  {
   "cell_type": "code",
   "execution_count": 18,
   "metadata": {},
   "outputs": [],
   "source": [
    "req_json_org = req_json.get('Orgasmos')"
   ]
  },
  {
   "cell_type": "code",
   "execution_count": 44,
   "metadata": {},
   "outputs": [],
   "source": [
    "def download_file(url):\n",
    "    audio_file_name = url.split('/')[-1]\n",
    "    audio_url_req = requests.get(url)\n",
    "    audio_url_req = audio_url_req\n",
    "\n",
    "    with open('data/audio/'+audio_file_name, 'wb') as f:\n",
    "        f.write(audio_url_req.content)\n",
    "        \n",
    "    print('\\r', f'Downloaded audio from {audio_file_name}', end='')"
   ]
  },
  {
   "cell_type": "code",
   "execution_count": 45,
   "metadata": {},
   "outputs": [
    {
     "name": "stdout",
     "output_type": "stream",
     "text": [
      " Downloaded 1097o from 5uxP52MW90YeC3rUMNyRcLbFDsjRM3kp.mp3"
     ]
    }
   ],
   "source": [
    "flag = 0\n",
    "\n",
    "for record in req_json_org:\n",
    "    record_audio_url = BASE_URL + record.get('audio').strip()\n",
    "    if record_audio_url:\n",
    "        download_file(record_audio_url)\n",
    "        flag += 1\n",
    "    else:\n",
    "        print('No url found for record: {}'.format( record.get('id') ) )\n",
    "    print('\\r', 'Downloaded',flag, end='')\n",
    "    "
   ]
  },
  {
   "cell_type": "code",
   "execution_count": null,
   "metadata": {},
   "outputs": [],
   "source": []
  }
 ],
 "metadata": {
  "kernelspec": {
   "display_name": "Python 3",
   "language": "python",
   "name": "python3"
  },
  "language_info": {
   "codemirror_mode": {
    "name": "ipython",
    "version": 3
   },
   "file_extension": ".py",
   "mimetype": "text/x-python",
   "name": "python",
   "nbconvert_exporter": "python",
   "pygments_lexer": "ipython3",
   "version": "3.6.8"
  }
 },
 "nbformat": 4,
 "nbformat_minor": 2
}
