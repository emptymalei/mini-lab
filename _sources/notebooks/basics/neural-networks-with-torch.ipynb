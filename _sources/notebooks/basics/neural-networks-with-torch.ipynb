{
 "cells": [
  {
   "cell_type": "markdown",
   "metadata": {},
   "source": [
    "## Neural Networks"
   ]
  },
  {
   "cell_type": "code",
   "execution_count": 5,
   "metadata": {},
   "outputs": [],
   "source": [
    "import torch\n",
    "from torch.autograd import Variable\n",
    "import torch.nn as nn\n",
    "import torch.nn.functional as F\n",
    "\n",
    "import numpy as np\n",
    "import matplotlib.pyplot as plt\n",
    "import time\n",
    "\n",
    "# import plotly.plotly as py\n",
    "# from plotly.graph_objs import *\n",
    "\n"
   ]
  },
  {
   "cell_type": "markdown",
   "metadata": {},
   "source": [
    "From http://pytorch.org/tutorials/beginner/pytorch_with_examples.html#nn-module"
   ]
  },
  {
   "cell_type": "markdown",
   "metadata": {},
   "source": [
    "## Basic Manipulations"
   ]
  },
  {
   "cell_type": "markdown",
   "metadata": {},
   "source": [
    "Matrix/Tensor multiplication\n",
    "\n",
    "```\n",
    "mat.dot(mat2)\n",
    "```"
   ]
  },
  {
   "cell_type": "code",
   "execution_count": 2,
   "metadata": {},
   "outputs": [
    {
     "data": {
      "text/plain": [
       "(5, 3)"
      ]
     },
     "execution_count": 2,
     "metadata": {},
     "output_type": "execute_result"
    }
   ],
   "source": [
    "temp1 = np.linspace(0,1,10*5).reshape(5,10)\n",
    "temp2 = ( (np.linspace(0,1,10*3) )**2 ).reshape(10,3)\n",
    "temp1.dot(temp2).shape"
   ]
  },
  {
   "cell_type": "markdown",
   "metadata": {},
   "source": [
    "Network using numpy, $Y_p$ is the predicted output, $R()$ is the activation function, $W_1$ is the first weight matrix, $W_2$ is the second weight matrix\n",
    "\n",
    "$$\n",
    "Y_p = R( X_i W_1 )  W_2.\n",
    "$$\n",
    "\n",
    "In the spirit of auto-grad, we need to use the chain rule.\n",
    "\n"
   ]
  },
  {
   "cell_type": "markdown",
   "metadata": {},
   "source": [
    "The next step is to calculate the grad and propagate back. Autograd is basically the chain rule. We are insterested in updating the two weight matrices, thus we need $dL/dW_1$ and $dL/dW_2$ element-wise.\n",
    "\n",
    "$$\n",
    "dL/dW_1 = \\frac{d (Y_p - Y)^2}{ dW_1 } = 2 (Y_p - Y ) \\frac{dY_p}{dW_1} = 2 (Y_p - Y ) W_2\\frac{dR(X_i W_1)}{d X_i W_1 } \\frac{ d X_i W_1 }{ dW_1 } = 2 (Y_p - Y )W_2 \\frac{dR(X_i W_1)}{d X_i W_1 } X_i\n",
    "$$\n",
    "\n",
    "As $dL/dW_2$ is much easier to calculate.\n",
    "\n",
    "$$\n",
    "dL/d W_2 = 2 (Y_p - Y) \\frac{dY_p}{ dW_2 } =2 (Y_p - Y) R(X_i W_1)\n",
    "$$"
   ]
  },
  {
   "cell_type": "code",
   "execution_count": 55,
   "metadata": {},
   "outputs": [
    {
     "data": {
      "image/png": "[encoded data removed]",
      "text/plain": [
       "<matplotlib.figure.Figure at 0x11757fb00>"
      ]
     },
     "metadata": {},
     "output_type": "display_data"
    }
   ],
   "source": [
    "# -*- coding: utf-8 -*-\n",
    "# import numpy as np\n",
    "\n",
    "# N is batch size; D_in is input dimension;\n",
    "# H is hidden dimension; D_out is output dimension.\n",
    "N, D_in, H, D_out = 64, 1000, 100, 10\n",
    "\n",
    "# Create random input and output data\n",
    "x = np.random.randn(N, D_in)\n",
    "y = np.random.randn(N, D_out)\n",
    "# x = np.linspace(0,1,N*D_in).reshape( N, D_in )\n",
    "# y = x**2\n",
    "\n",
    "# Randomly initialize weights\n",
    "w1 = np.random.randn(D_in, H)\n",
    "w2 = np.random.randn(H, D_out)\n",
    "\n",
    "trial_data = []\n",
    "learning_rate = 1e-6\n",
    "for t in range(500):\n",
    "    # Forward pass: compute predicted y\n",
    "    h = x.dot(w1)\n",
    "    h_relu = np.maximum(h, 0) # linear activation\n",
    "    y_pred = h_relu.dot(w2)\n",
    "\n",
    "    # Compute and print loss\n",
    "    loss = np.square(y_pred - y).sum()\n",
    "#         print(t, loss)\n",
    "\n",
    "    # Backprop to compute gradients of w1 and w2 with respect to loss\n",
    "    grad_y_pred = 2.0 * (y_pred - y)\n",
    "    grad_w2 = h_relu.T.dot(grad_y_pred)\n",
    "    grad_h_relu = grad_y_pred.dot(w2.T)\n",
    "    grad_h = grad_h_relu.copy()\n",
    "    grad_h[h < 0] = 0\n",
    "    grad_w1 = x.T.dot(grad_h)\n",
    "\n",
    "    # Update weights\n",
    "    w1 -= learning_rate * grad_w1\n",
    "    w2 -= learning_rate * grad_w2\n",
    "    \n",
    "    trial_data.append( [t, loss] )\n",
    "\n",
    "trial_data_plt = np.transpose(trial_data)\n",
    "plt.semilogy( trial_data_plt[0], trial_data_plt[1], '.' )\n",
    "plt.title('Loss vs Trials')\n",
    "plt.show()\n"
   ]
  },
  {
   "cell_type": "markdown",
   "metadata": {},
   "source": [
    "The same program would be translated into PyTorch version directedly.\n",
    "\n",
    "1. PyTorch comes with `clamp` function that calcualtes RELU.\n",
    "2. PyTorch comes with tensor operators that are of high performance."
   ]
  },
  {
   "cell_type": "code",
   "execution_count": 50,
   "metadata": {},
   "outputs": [
    {
     "data": {
      "image/png": "[encoded data removed]",
      "text/plain": [
       "<matplotlib.figure.Figure at 0x118293898>"
      ]
     },
     "metadata": {},
     "output_type": "display_data"
    }
   ],
   "source": [
    "dtype=torch.FloatTensor\n",
    "\n",
    "torch_x = torch.randn(N, D_in).type(dtype)\n",
    "torch_y = torch.randn(N,D_out).type(dtype)\n",
    "\n",
    "torch_w1 = torch.randn(D_in, H).type(dtype)\n",
    "torch_w2 = torch.randn(H, D_out).type(dtype)\n",
    "\n",
    "torch_trial_data = []\n",
    "\n",
    "for t in range(500):\n",
    "    torch_h = torch_x.mm(torch_w1) #matrix multiply\n",
    "    torch_h_relu = torch_h.clamp(min=0) # this is basically RELU\n",
    "    torch_y_pred = torch_h_relu.mm(torch_w2)\n",
    "    \n",
    "    torch_loss = (torch_y_pred - torch_y).pow(2).sum()\n",
    "#     print(t, torch_loss)\n",
    "    \n",
    "    torch_grad_y_pred = 2.0*(torch_y_pred - torch_y)\n",
    "    torch_grad_w2 = torch_h_relu.t().mm(torch_grad_y_pred)\n",
    "    torch_grad_h_relu = torch_grad_y_pred.mm(torch_w2.t())\n",
    "    torch_grad_h = torch_grad_h_relu.clone()\n",
    "    torch_grad_h[torch_h < 0] = 0\n",
    "    torch_grad_w1 = torch_x.t().mm(torch_grad_h)\n",
    "    \n",
    "    torch_w1 -= learning_rate * torch_grad_w1\n",
    "    torch_w2 -= learning_rate * torch_grad_w2\n",
    "    \n",
    "    torch_trial_data.append( [t, torch_loss] )\n",
    "\n",
    "# print(t, torch_loss)\n",
    "\n",
    "torch_trial_data_plt = np.transpose(torch_trial_data)\n",
    "plt.semilogy( torch_trial_data_plt[0], torch_trial_data_plt[1], '.' )\n",
    "plt.title('Loss vs Trials')\n",
    "plt.show()"
   ]
  },
  {
   "cell_type": "markdown",
   "metadata": {},
   "source": [
    "On the other hand, PyTorch also provides autograd which works out the chain rule by itself if data is defined through variables."
   ]
  },
  {
   "cell_type": "code",
   "execution_count": 56,
   "metadata": {},
   "outputs": [
    {
     "data": {
      "image/png": "[encoded data removed]",
      "text/plain": [
       "<matplotlib.figure.Figure at 0x106e8bcc0>"
      ]
     },
     "metadata": {},
     "output_type": "display_data"
    }
   ],
   "source": [
    "ta_x = Variable( torch.randn(N, D_in).type(dtype), requires_grad=False )\n",
    "ta_y = Variable( torch.randn(N, D_out).type(dtype), requires_grad=False )\n",
    "\n",
    "ta_w1 = Variable(torch.randn(D_in, H).type(dtype), requires_grad = True)\n",
    "ta_w2 = Variable(torch.randn(H, D_out).type(dtype), requires_grad = True)\n",
    "\n",
    "\n",
    "ta_trial_data = []\n",
    "learning_rate = 1e-6\n",
    "for t in range(500):\n",
    "    ta_y_pred = ta_x.mm( ta_w1 ).clamp( min=0 ).mm(ta_w2)\n",
    "    \n",
    "    ta_loss = (ta_y_pred - ta_y).pow(2).sum()\n",
    "#     print(t, ta_loss.data[0])\n",
    "    \n",
    "    ta_loss.backward()\n",
    "    \n",
    "    ta_w1.data -= learning_rate* ta_w1.grad.data\n",
    "    ta_w2.data -= learning_rate* ta_w2.grad.data\n",
    "    \n",
    "    ta_w1.grad.data.zero_()\n",
    "    ta_w2.grad.data.zero_()\n",
    "    \n",
    "    ta_trial_data.append( [t, ta_loss.data[0]] )\n",
    "\n",
    "# print(t, ta_loss.data[0])\n",
    "\n",
    "\n",
    "ta_trial_data_plt = np.transpose(ta_trial_data)\n",
    "plt.semilogy( ta_trial_data_plt[0], ta_trial_data_plt[1], '.' )\n",
    "plt.title('Loss vs Trials')\n",
    "plt.show()"
   ]
  },
  {
   "cell_type": "code",
   "execution_count": 57,
   "metadata": {},
   "outputs": [
    {
     "name": "stdout",
     "output_type": "stream",
     "text": [
      "[499, 1.5851306670811027e-05]\n"
     ]
    }
   ],
   "source": [
    "print(ta_trial_data[-1])"
   ]
  },
  {
   "cell_type": "markdown",
   "metadata": {},
   "source": [
    "This is a test of the framework. RELU is not the best practice for this task."
   ]
  },
  {
   "cell_type": "code",
   "execution_count": null,
   "metadata": {},
   "outputs": [],
   "source": []
  }
 ],
 "metadata": {
  "kernelspec": {
   "display_name": "Python 3",
   "language": "python",
   "name": "python3"
  },
  "language_info": {
   "codemirror_mode": {
    "name": "ipython",
    "version": 3
   },
   "file_extension": ".py",
   "mimetype": "text/x-python",
   "name": "python",
   "nbconvert_exporter": "python",
   "pygments_lexer": "ipython3",
   "version": "3.6.4"
  }
 },
 "nbformat": 4,
 "nbformat_minor": 2
}
