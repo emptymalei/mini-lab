{
 "cells": [
  {
   "cell_type": "markdown",
   "metadata": {},
   "source": [
    "## Road Speed Limits by Countries"
   ]
  },
  {
   "cell_type": "markdown",
   "metadata": {},
   "source": [
    "We use the data from wikipedia article: \n",
    "\n",
    "https://en.wikipedia.org/wiki/Speed_limits_by_country"
   ]
  },
  {
   "cell_type": "code",
   "execution_count": 1,
   "metadata": {},
   "outputs": [],
   "source": [
    "import re"
   ]
  },
  {
   "cell_type": "code",
   "execution_count": 2,
   "metadata": {},
   "outputs": [],
   "source": [
    "import pandas as pd"
   ]
  },
  {
   "cell_type": "code",
   "execution_count": 3,
   "metadata": {},
   "outputs": [],
   "source": [
    "import numpy as np"
   ]
  },
  {
   "cell_type": "markdown",
   "metadata": {},
   "source": [
    "### Get data"
   ]
  },
  {
   "cell_type": "code",
   "execution_count": 4,
   "metadata": {},
   "outputs": [],
   "source": [
    "wiki_link = \"https://en.wikipedia.org/wiki/Speed_limits_by_country\""
   ]
  },
  {
   "cell_type": "code",
   "execution_count": 5,
   "metadata": {},
   "outputs": [],
   "source": [
    "df = pd.read_html(wiki_link)\n",
    "df = df[1]"
   ]
  },
  {
   "cell_type": "code",
   "execution_count": 6,
   "metadata": {},
   "outputs": [
    {
     "data": {
      "text/html": [
       "<div>\n",
       "<style scoped>\n",
       "    .dataframe tbody tr th:only-of-type {\n",
       "        vertical-align: middle;\n",
       "    }\n",
       "\n",
       "    .dataframe tbody tr th {\n",
       "        vertical-align: top;\n",
       "    }\n",
       "\n",
       "    .dataframe thead th {\n",
       "        text-align: right;\n",
       "    }\n",
       "</style>\n",
       "<table border=\"1\" class=\"dataframe\">\n",
       "  <thead>\n",
       "    <tr style=\"text-align: right;\">\n",
       "      <th></th>\n",
       "      <th>Country</th>\n",
       "      <th>Within towns</th>\n",
       "      <th>Controlled-access highway/ motorway/ expressway</th>\n",
       "      <th>Outside built-up areas/regional highways</th>\n",
       "      <th>Automobiles &amp; motorcycles</th>\n",
       "      <th>Lorries or automobiles with trailer</th>\n",
       "      <th>Enforcement tolerance</th>\n",
       "    </tr>\n",
       "  </thead>\n",
       "  <tbody>\n",
       "    <tr>\n",
       "      <th>0</th>\n",
       "      <td>Albania[4][5]</td>\n",
       "      <td>40</td>\n",
       "      <td>110</td>\n",
       "      <td>80</td>\n",
       "      <td>80–90</td>\n",
       "      <td>60–70</td>\n",
       "      <td>NaN</td>\n",
       "    </tr>\n",
       "    <tr>\n",
       "      <th>1</th>\n",
       "      <td>Argentina</td>\n",
       "      <td>40–60</td>\n",
       "      <td>100–130</td>\n",
       "      <td>80</td>\n",
       "      <td>80–110</td>\n",
       "      <td>80</td>\n",
       "      <td>NaN</td>\n",
       "    </tr>\n",
       "    <tr>\n",
       "      <th>2</th>\n",
       "      <td>Australia[6]</td>\n",
       "      <td>40–60</td>\n",
       "      <td>100–130[fn 2]</td>\n",
       "      <td>100[fn 3]</td>\n",
       "      <td>100–110[fn 2]</td>\n",
       "      <td>100[fn 3]</td>\n",
       "      <td>3 in Victoria, 10% over speed limit in other s...</td>\n",
       "    </tr>\n",
       "    <tr>\n",
       "      <th>3</th>\n",
       "      <td>Austria[7]</td>\n",
       "      <td>50</td>\n",
       "      <td>130</td>\n",
       "      <td>80–100</td>\n",
       "      <td>100</td>\n",
       "      <td>80–100</td>\n",
       "      <td>NaN</td>\n",
       "    </tr>\n",
       "    <tr>\n",
       "      <th>4</th>\n",
       "      <td>Azerbaijan[8]</td>\n",
       "      <td>40–60</td>\n",
       "      <td>110</td>\n",
       "      <td>NaN</td>\n",
       "      <td>90</td>\n",
       "      <td>NaN</td>\n",
       "      <td>NaN</td>\n",
       "    </tr>\n",
       "  </tbody>\n",
       "</table>\n",
       "</div>"
      ],
      "text/plain": [
       "         Country Within towns Controlled-access highway/ motorway/ expressway  \\\n",
       "0  Albania[4][5]           40                                             110   \n",
       "1      Argentina        40–60                                         100–130   \n",
       "2   Australia[6]        40–60                                   100–130[fn 2]   \n",
       "3     Austria[7]           50                                             130   \n",
       "4  Azerbaijan[8]        40–60                                             110   \n",
       "\n",
       "  Outside built-up areas/regional highways Automobiles & motorcycles  \\\n",
       "0                                       80                     80–90   \n",
       "1                                       80                    80–110   \n",
       "2                                100[fn 3]             100–110[fn 2]   \n",
       "3                                   80–100                       100   \n",
       "4                                      NaN                        90   \n",
       "\n",
       "  Lorries or automobiles with trailer  \\\n",
       "0                               60–70   \n",
       "1                                  80   \n",
       "2                           100[fn 3]   \n",
       "3                              80–100   \n",
       "4                                 NaN   \n",
       "\n",
       "                               Enforcement tolerance  \n",
       "0                                                NaN  \n",
       "1                                                NaN  \n",
       "2  3 in Victoria, 10% over speed limit in other s...  \n",
       "3                                                NaN  \n",
       "4                                                NaN  "
      ]
     },
     "execution_count": 6,
     "metadata": {},
     "output_type": "execute_result"
    }
   ],
   "source": [
    "df.head()"
   ]
  },
  {
   "cell_type": "code",
   "execution_count": 7,
   "metadata": {},
   "outputs": [
    {
     "data": {
      "text/plain": [
       "Index(['Country', 'Within towns',\n",
       "       'Controlled-access highway/ motorway/ expressway',\n",
       "       'Outside built-up areas/regional highways', 'Automobiles & motorcycles',\n",
       "       'Lorries or automobiles with trailer', 'Enforcement tolerance'],\n",
       "      dtype='object')"
      ]
     },
     "execution_count": 7,
     "metadata": {},
     "output_type": "execute_result"
    }
   ],
   "source": [
    "df.columns"
   ]
  },
  {
   "cell_type": "code",
   "execution_count": 8,
   "metadata": {},
   "outputs": [],
   "source": [
    "rename_cols = {\n",
    "    'Country': 'country',\n",
    "    'Trucks, or automobiles with trailer': 'trucks_and_trailers',\n",
    "    'Trucks, or automobiles with trailer, outside built-up areas/highways': 'trucks_and_trailers_non_built_up'\n",
    "}\n",
    "df.rename(columns=rename_cols, inplace=True)"
   ]
  },
  {
   "cell_type": "code",
   "execution_count": 9,
   "metadata": {},
   "outputs": [
    {
     "ename": "KeyError",
     "evalue": "\"['trucks_and_trailers', 'trucks_and_trailers_non_built_up'] not in index\"",
     "output_type": "error",
     "traceback": [
      "\u001b[0;31m---------------------------------------------------------------------------\u001b[0m",
      "\u001b[0;31mKeyError\u001b[0m                                  Traceback (most recent call last)",
      "Cell \u001b[0;32mIn[9], line 1\u001b[0m\n\u001b[0;32m----> 1\u001b[0m df_trucks \u001b[39m=\u001b[39m df[rename_cols\u001b[39m.\u001b[39;49mvalues()]\n",
      "File \u001b[0;32m~/anaconda3/envs/mini-lab/lib/python3.9/site-packages/pandas/core/frame.py:3813\u001b[0m, in \u001b[0;36mDataFrame.__getitem__\u001b[0;34m(self, key)\u001b[0m\n\u001b[1;32m   3811\u001b[0m     \u001b[39mif\u001b[39;00m is_iterator(key):\n\u001b[1;32m   3812\u001b[0m         key \u001b[39m=\u001b[39m \u001b[39mlist\u001b[39m(key)\n\u001b[0;32m-> 3813\u001b[0m     indexer \u001b[39m=\u001b[39m \u001b[39mself\u001b[39;49m\u001b[39m.\u001b[39;49mcolumns\u001b[39m.\u001b[39;49m_get_indexer_strict(key, \u001b[39m\"\u001b[39;49m\u001b[39mcolumns\u001b[39;49m\u001b[39m\"\u001b[39;49m)[\u001b[39m1\u001b[39m]\n\u001b[1;32m   3815\u001b[0m \u001b[39m# take() does not accept boolean indexers\u001b[39;00m\n\u001b[1;32m   3816\u001b[0m \u001b[39mif\u001b[39;00m \u001b[39mgetattr\u001b[39m(indexer, \u001b[39m\"\u001b[39m\u001b[39mdtype\u001b[39m\u001b[39m\"\u001b[39m, \u001b[39mNone\u001b[39;00m) \u001b[39m==\u001b[39m \u001b[39mbool\u001b[39m:\n",
      "File \u001b[0;32m~/anaconda3/envs/mini-lab/lib/python3.9/site-packages/pandas/core/indexes/base.py:6070\u001b[0m, in \u001b[0;36mIndex._get_indexer_strict\u001b[0;34m(self, key, axis_name)\u001b[0m\n\u001b[1;32m   6067\u001b[0m \u001b[39melse\u001b[39;00m:\n\u001b[1;32m   6068\u001b[0m     keyarr, indexer, new_indexer \u001b[39m=\u001b[39m \u001b[39mself\u001b[39m\u001b[39m.\u001b[39m_reindex_non_unique(keyarr)\n\u001b[0;32m-> 6070\u001b[0m \u001b[39mself\u001b[39;49m\u001b[39m.\u001b[39;49m_raise_if_missing(keyarr, indexer, axis_name)\n\u001b[1;32m   6072\u001b[0m keyarr \u001b[39m=\u001b[39m \u001b[39mself\u001b[39m\u001b[39m.\u001b[39mtake(indexer)\n\u001b[1;32m   6073\u001b[0m \u001b[39mif\u001b[39;00m \u001b[39misinstance\u001b[39m(key, Index):\n\u001b[1;32m   6074\u001b[0m     \u001b[39m# GH 42790 - Preserve name from an Index\u001b[39;00m\n",
      "File \u001b[0;32m~/anaconda3/envs/mini-lab/lib/python3.9/site-packages/pandas/core/indexes/base.py:6133\u001b[0m, in \u001b[0;36mIndex._raise_if_missing\u001b[0;34m(self, key, indexer, axis_name)\u001b[0m\n\u001b[1;32m   6130\u001b[0m     \u001b[39mraise\u001b[39;00m \u001b[39mKeyError\u001b[39;00m(\u001b[39mf\u001b[39m\u001b[39m\"\u001b[39m\u001b[39mNone of [\u001b[39m\u001b[39m{\u001b[39;00mkey\u001b[39m}\u001b[39;00m\u001b[39m] are in the [\u001b[39m\u001b[39m{\u001b[39;00maxis_name\u001b[39m}\u001b[39;00m\u001b[39m]\u001b[39m\u001b[39m\"\u001b[39m)\n\u001b[1;32m   6132\u001b[0m not_found \u001b[39m=\u001b[39m \u001b[39mlist\u001b[39m(ensure_index(key)[missing_mask\u001b[39m.\u001b[39mnonzero()[\u001b[39m0\u001b[39m]]\u001b[39m.\u001b[39munique())\n\u001b[0;32m-> 6133\u001b[0m \u001b[39mraise\u001b[39;00m \u001b[39mKeyError\u001b[39;00m(\u001b[39mf\u001b[39m\u001b[39m\"\u001b[39m\u001b[39m{\u001b[39;00mnot_found\u001b[39m}\u001b[39;00m\u001b[39m not in index\u001b[39m\u001b[39m\"\u001b[39m)\n",
      "\u001b[0;31mKeyError\u001b[0m: \"['trucks_and_trailers', 'trucks_and_trailers_non_built_up'] not in index\""
     ]
    }
   ],
   "source": [
    "df_trucks = df[rename_cols.values()]"
   ]
  },
  {
   "cell_type": "code",
   "execution_count": null,
   "metadata": {},
   "outputs": [
    {
     "data": {
      "text/html": [
       "<div>\n",
       "<style scoped>\n",
       "    .dataframe tbody tr th:only-of-type {\n",
       "        vertical-align: middle;\n",
       "    }\n",
       "\n",
       "    .dataframe tbody tr th {\n",
       "        vertical-align: top;\n",
       "    }\n",
       "\n",
       "    .dataframe thead th {\n",
       "        text-align: right;\n",
       "    }\n",
       "</style>\n",
       "<table border=\"1\" class=\"dataframe\">\n",
       "  <thead>\n",
       "    <tr style=\"text-align: right;\">\n",
       "      <th></th>\n",
       "      <th>country</th>\n",
       "      <th>trucks_and_trailers</th>\n",
       "      <th>trucks_and_trailers_non_built_up</th>\n",
       "    </tr>\n",
       "  </thead>\n",
       "  <tbody>\n",
       "    <tr>\n",
       "      <th>150</th>\n",
       "      <td>Vanuatu [76]</td>\n",
       "      <td>NaN</td>\n",
       "      <td>NaN</td>\n",
       "    </tr>\n",
       "    <tr>\n",
       "      <th>51</th>\n",
       "      <td>Greenland (Denmark)</td>\n",
       "      <td>NaN</td>\n",
       "      <td>NaN</td>\n",
       "    </tr>\n",
       "    <tr>\n",
       "      <th>77</th>\n",
       "      <td>Lebanon</td>\n",
       "      <td>NaN</td>\n",
       "      <td>NaN</td>\n",
       "    </tr>\n",
       "    <tr>\n",
       "      <th>155</th>\n",
       "      <td>Zambia</td>\n",
       "      <td>75</td>\n",
       "      <td>55-70</td>\n",
       "    </tr>\n",
       "    <tr>\n",
       "      <th>132</th>\n",
       "      <td>Sudan</td>\n",
       "      <td>NaN</td>\n",
       "      <td>NaN</td>\n",
       "    </tr>\n",
       "    <tr>\n",
       "      <th>69</th>\n",
       "      <td>Jersey</td>\n",
       "      <td>NaN</td>\n",
       "      <td>64 (40 mph)</td>\n",
       "    </tr>\n",
       "    <tr>\n",
       "      <th>90</th>\n",
       "      <td>Moldova</td>\n",
       "      <td>70</td>\n",
       "      <td>NaN</td>\n",
       "    </tr>\n",
       "    <tr>\n",
       "      <th>24</th>\n",
       "      <td>CanadaMain article: Speed limits in Canada</td>\n",
       "      <td>20–120 (12-75 mph)</td>\n",
       "      <td>30–120 130 Proposed[17]</td>\n",
       "    </tr>\n",
       "    <tr>\n",
       "      <th>43</th>\n",
       "      <td>Faroe Islands (Denmark)</td>\n",
       "      <td>NaN</td>\n",
       "      <td>NaN</td>\n",
       "    </tr>\n",
       "    <tr>\n",
       "      <th>143</th>\n",
       "      <td>Uganda [70]</td>\n",
       "      <td>NaN</td>\n",
       "      <td>NaN</td>\n",
       "    </tr>\n",
       "  </tbody>\n",
       "</table>\n",
       "</div>"
      ],
      "text/plain": [
       "                                        country trucks_and_trailers  \\\n",
       "150                                Vanuatu [76]                 NaN   \n",
       "51                          Greenland (Denmark)                 NaN   \n",
       "77                                      Lebanon                 NaN   \n",
       "155                                      Zambia                  75   \n",
       "132                                       Sudan                 NaN   \n",
       "69                                       Jersey                 NaN   \n",
       "90                                      Moldova                  70   \n",
       "24   CanadaMain article: Speed limits in Canada  20–120 (12-75 mph)   \n",
       "43                      Faroe Islands (Denmark)                 NaN   \n",
       "143                                 Uganda [70]                 NaN   \n",
       "\n",
       "    trucks_and_trailers_non_built_up  \n",
       "150                              NaN  \n",
       "51                               NaN  \n",
       "77                               NaN  \n",
       "155                            55-70  \n",
       "132                              NaN  \n",
       "69                       64 (40 mph)  \n",
       "90                               NaN  \n",
       "24           30–120 130 Proposed[17]  \n",
       "43                               NaN  \n",
       "143                              NaN  "
      ]
     },
     "execution_count": 9,
     "metadata": {},
     "output_type": "execute_result"
    }
   ],
   "source": [
    "df_trucks.sample(10)"
   ]
  },
  {
   "cell_type": "code",
   "execution_count": null,
   "metadata": {},
   "outputs": [
    {
     "data": {
      "text/plain": [
       "array(['Vanuatu [76]', 'South Korea (Republic of Korea)',\n",
       "       'Albania[5][6]Main article: Speed limits in Albania',\n",
       "       'Hungary Main article: Speed limits in Hungary', 'Morocco', 'Niue',\n",
       "       'San Marino', 'Peru', 'Micronesia [48]',\n",
       "       'Belarus Main article: Speed limits in Belarus', 'Nicaragua',\n",
       "       'Palestine', 'Singapore',\n",
       "       'Ireland Main article: Speed limits in the Republic of Ireland',\n",
       "       'Georgia Main article: Speed limits in Georgia', 'Curaçao',\n",
       "       'Czech Republic Main article: Speed limits in the Czech Republic',\n",
       "       'Samoa', 'Norfolk Island', 'Finland'], dtype=object)"
      ]
     },
     "execution_count": 10,
     "metadata": {},
     "output_type": "execute_result"
    }
   ],
   "source": [
    "df_trucks.country.sample(20).values"
   ]
  },
  {
   "cell_type": "markdown",
   "metadata": {},
   "source": [
    "### Clean Up Dataset"
   ]
  },
  {
   "cell_type": "code",
   "execution_count": null,
   "metadata": {},
   "outputs": [],
   "source": [
    "def clean_country_name(name):\n",
    "    \n",
    "    res = name.split(\"[\")[0]\n",
    "    res = res.split(\"Main article\")[0]\n",
    "    res = res.strip()\n",
    "    \n",
    "    return res\n",
    "    "
   ]
  },
  {
   "cell_type": "code",
   "execution_count": null,
   "metadata": {},
   "outputs": [
    {
     "name": "stderr",
     "output_type": "stream",
     "text": [
      "/Users/lei.ma/opt/anaconda3/envs/mini-code/lib/python3.6/site-packages/ipykernel_launcher.py:1: SettingWithCopyWarning: \n",
      "A value is trying to be set on a copy of a slice from a DataFrame.\n",
      "Try using .loc[row_indexer,col_indexer] = value instead\n",
      "\n",
      "See the caveats in the documentation: https://pandas.pydata.org/pandas-docs/stable/user_guide/indexing.html#returning-a-view-versus-a-copy\n",
      "  \"\"\"Entry point for launching an IPython kernel.\n"
     ]
    }
   ],
   "source": [
    "df_trucks['country'] = df_trucks.country.apply(clean_country_name)"
   ]
  },
  {
   "cell_type": "code",
   "execution_count": null,
   "metadata": {},
   "outputs": [
    {
     "data": {
      "text/html": [
       "<div>\n",
       "<style scoped>\n",
       "    .dataframe tbody tr th:only-of-type {\n",
       "        vertical-align: middle;\n",
       "    }\n",
       "\n",
       "    .dataframe tbody tr th {\n",
       "        vertical-align: top;\n",
       "    }\n",
       "\n",
       "    .dataframe thead th {\n",
       "        text-align: right;\n",
       "    }\n",
       "</style>\n",
       "<table border=\"1\" class=\"dataframe\">\n",
       "  <thead>\n",
       "    <tr style=\"text-align: right;\">\n",
       "      <th></th>\n",
       "      <th>country</th>\n",
       "      <th>trucks_and_trailers</th>\n",
       "      <th>trucks_and_trailers_non_built_up</th>\n",
       "    </tr>\n",
       "  </thead>\n",
       "  <tbody>\n",
       "    <tr>\n",
       "      <th>122</th>\n",
       "      <td>Serbia</td>\n",
       "      <td>70</td>\n",
       "      <td>80 (car) 90/100 (truck)</td>\n",
       "    </tr>\n",
       "    <tr>\n",
       "      <th>62</th>\n",
       "      <td>Iraq</td>\n",
       "      <td>90</td>\n",
       "      <td>120</td>\n",
       "    </tr>\n",
       "    <tr>\n",
       "      <th>44</th>\n",
       "      <td>Fiji</td>\n",
       "      <td>NaN</td>\n",
       "      <td>NaN</td>\n",
       "    </tr>\n",
       "    <tr>\n",
       "      <th>93</th>\n",
       "      <td>Mongolia</td>\n",
       "      <td>NaN</td>\n",
       "      <td>NaN</td>\n",
       "    </tr>\n",
       "    <tr>\n",
       "      <th>47</th>\n",
       "      <td>Georgia</td>\n",
       "      <td>60</td>\n",
       "      <td>80</td>\n",
       "    </tr>\n",
       "    <tr>\n",
       "      <th>105</th>\n",
       "      <td>Norfolk Island</td>\n",
       "      <td>NaN</td>\n",
       "      <td>50</td>\n",
       "    </tr>\n",
       "    <tr>\n",
       "      <th>74</th>\n",
       "      <td>Kyrgyzstan</td>\n",
       "      <td>70</td>\n",
       "      <td>90-70</td>\n",
       "    </tr>\n",
       "    <tr>\n",
       "      <th>42</th>\n",
       "      <td>Ethiopia</td>\n",
       "      <td>NaN</td>\n",
       "      <td>NaN</td>\n",
       "    </tr>\n",
       "    <tr>\n",
       "      <th>130</th>\n",
       "      <td>Spain</td>\n",
       "      <td>70–80[fn 32]</td>\n",
       "      <td>80–90[fn 33]</td>\n",
       "    </tr>\n",
       "    <tr>\n",
       "      <th>26</th>\n",
       "      <td>Chile</td>\n",
       "      <td>100 (90 for trucks)</td>\n",
       "      <td>100</td>\n",
       "    </tr>\n",
       "    <tr>\n",
       "      <th>14</th>\n",
       "      <td>Belgium: Wallonia Brussels</td>\n",
       "      <td>60–90</td>\n",
       "      <td>90</td>\n",
       "    </tr>\n",
       "    <tr>\n",
       "      <th>27</th>\n",
       "      <td>Christmas Island</td>\n",
       "      <td>NaN</td>\n",
       "      <td>90</td>\n",
       "    </tr>\n",
       "    <tr>\n",
       "      <th>39</th>\n",
       "      <td>Egypt</td>\n",
       "      <td>NaN</td>\n",
       "      <td>NaN</td>\n",
       "    </tr>\n",
       "    <tr>\n",
       "      <th>77</th>\n",
       "      <td>Lebanon</td>\n",
       "      <td>NaN</td>\n",
       "      <td>NaN</td>\n",
       "    </tr>\n",
       "    <tr>\n",
       "      <th>96</th>\n",
       "      <td>Namibia</td>\n",
       "      <td>NaN</td>\n",
       "      <td>NaN</td>\n",
       "    </tr>\n",
       "    <tr>\n",
       "      <th>24</th>\n",
       "      <td>Canada</td>\n",
       "      <td>20–120 (12-75 mph)</td>\n",
       "      <td>30–120 130 Proposed[17]</td>\n",
       "    </tr>\n",
       "    <tr>\n",
       "      <th>38</th>\n",
       "      <td>Ecuador</td>\n",
       "      <td>40–70 (50–90 for buses)</td>\n",
       "      <td>90</td>\n",
       "    </tr>\n",
       "    <tr>\n",
       "      <th>16</th>\n",
       "      <td>Benin</td>\n",
       "      <td>NaN</td>\n",
       "      <td>NaN</td>\n",
       "    </tr>\n",
       "    <tr>\n",
       "      <th>117</th>\n",
       "      <td>Qatar</td>\n",
       "      <td>NaN</td>\n",
       "      <td>NaN</td>\n",
       "    </tr>\n",
       "    <tr>\n",
       "      <th>7</th>\n",
       "      <td>Austria</td>\n",
       "      <td>70–100[fn 5]</td>\n",
       "      <td>80–100[fn 6]</td>\n",
       "    </tr>\n",
       "  </tbody>\n",
       "</table>\n",
       "</div>"
      ],
      "text/plain": [
       "                        country      trucks_and_trailers  \\\n",
       "122                      Serbia                       70   \n",
       "62                         Iraq                       90   \n",
       "44                         Fiji                      NaN   \n",
       "93                     Mongolia                      NaN   \n",
       "47                      Georgia                       60   \n",
       "105              Norfolk Island                      NaN   \n",
       "74                   Kyrgyzstan                       70   \n",
       "42                     Ethiopia                      NaN   \n",
       "130                       Spain             70–80[fn 32]   \n",
       "26                        Chile      100 (90 for trucks)   \n",
       "14   Belgium: Wallonia Brussels                    60–90   \n",
       "27             Christmas Island                      NaN   \n",
       "39                        Egypt                      NaN   \n",
       "77                      Lebanon                      NaN   \n",
       "96                      Namibia                      NaN   \n",
       "24                       Canada       20–120 (12-75 mph)   \n",
       "38                      Ecuador  40–70 (50–90 for buses)   \n",
       "16                        Benin                      NaN   \n",
       "117                       Qatar                      NaN   \n",
       "7                       Austria             70–100[fn 5]   \n",
       "\n",
       "    trucks_and_trailers_non_built_up  \n",
       "122          80 (car) 90/100 (truck)  \n",
       "62                               120  \n",
       "44                               NaN  \n",
       "93                               NaN  \n",
       "47                                80  \n",
       "105                               50  \n",
       "74                             90-70  \n",
       "42                               NaN  \n",
       "130                     80–90[fn 33]  \n",
       "26                               100  \n",
       "14                                90  \n",
       "27                                90  \n",
       "39                               NaN  \n",
       "77                               NaN  \n",
       "96                               NaN  \n",
       "24           30–120 130 Proposed[17]  \n",
       "38                                90  \n",
       "16                               NaN  \n",
       "117                              NaN  \n",
       "7                       80–100[fn 6]  "
      ]
     },
     "execution_count": 13,
     "metadata": {},
     "output_type": "execute_result"
    }
   ],
   "source": [
    "df_trucks.sample(20)"
   ]
  },
  {
   "cell_type": "code",
   "execution_count": null,
   "metadata": {},
   "outputs": [
    {
     "data": {
      "text/plain": [
       "array([nan, '60–70', '80', '90', nan, nan,\n",
       "       '80–100 trucks and road trains only', '70–100[fn 5]', nan, nan,\n",
       "       nan, nan, '70', '60–70', '60–90', nan, nan, nan, '80', '90', '80',\n",
       "       '70', '80', nan, '20–120 (12-75\\xa0mph)', '60-80',\n",
       "       '100 (90 for trucks)', nan, '60', '60',\n",
       "       '90 (buses), 75 (heavy goods)', '80', nan, nan, '80', '80', '80',\n",
       "       nan, '40–70 (50–90 for buses)', nan, nan, '90', nan, nan, nan,\n",
       "       '80', '60[fn 14]-110', '60',\n",
       "       '80 (trucks) / 100 (automobiles with trailer and buses)', nan,\n",
       "       '80 (school buses 60)', nan, nan, nan, nan, nan, '70[fn 20]', '70',\n",
       "       '80', '65', '80', '70–110', '90', '80–90', nan, '80', '70', nan,\n",
       "       '80 (over 8t)', nan, nan, '30', nan, '70–100', '70', '90', '80',\n",
       "       nan, nan, '80', '70–80–90', '90', '?', nan, '100', nan, '50–70',\n",
       "       nan, '60', nan, '70', nan, nan, nan, nan, '95 (60\\xa0mph)', nan,\n",
       "       nan, nan, 'regular within built-up area restrictions', nan,\n",
       "       '80–90', nan, nan, nan, nan, nan,\n",
       "       '80, 60 without brakes on trailer', '80\\xa0km/h', '60', nan, nan,\n",
       "       '70–80',\n",
       "       '90 (buses)80 (for trucks)70 (for school buses and dangerous goods)',\n",
       "       '40–80', '70', '70–80', nan, '8090 (E-roads)', '70–90', nan, nan,\n",
       "       '70', '60', '90', '80', '60', '40–80', '60', '40–60',\n",
       "       '70–80[fn 32]', '40 (25\\xa0mph) (TukTuk)', nan, 'none',\n",
       "       'Lorries 80 90 without trailer on motorways only (as posted). Buses 80 100 without trailer, on any road (as posted).',\n",
       "       '80', '60–80', '100',\n",
       "       'TruckBangkok Metropolitan & Pattaya City: 60Others: 80Long VehicleBangkok Metropolitan & Pattaya City: 45Others: 60',\n",
       "       '50', nan, '80', nan, nan, '70–90', '50–80',\n",
       "       '80–97 (50-60\\xa0mph) dependent on class (64–97 (40-60\\xa0mph) in Scotland)[fn 39]',\n",
       "       'Restrictions only in few states, typically 16\\xa0km/h (10\\xa0mph) lower',\n",
       "       'none', '70', nan, nan, '40–60', '70', nan, '75', '80'],\n",
       "      dtype=object)"
      ]
     },
     "execution_count": 14,
     "metadata": {},
     "output_type": "execute_result"
    }
   ],
   "source": [
    "df_trucks.trucks_and_trailers.values"
   ]
  },
  {
   "cell_type": "code",
   "execution_count": null,
   "metadata": {},
   "outputs": [],
   "source": [
    "def clean_speed(speed, mode=None):\n",
    "    if mode is None:\n",
    "        mode = \"max\"\n",
    "    \n",
    "    if isinstance(speed, str):\n",
    "        res = re.sub('\\[[^>]+\\]', '', speed)\n",
    "        res = re.sub('\\([^>]+\\)', '', res)\n",
    "\n",
    "        res = [int(e) for e in re.split(\"[^0-9]\", res) if e != '']\n",
    "    else:\n",
    "        res = None\n",
    "        \n",
    "    if res:\n",
    "        if mode == \"max\":\n",
    "            res = max(res)\n",
    "        elif mode == \"min\":\n",
    "            res = min(res)\n",
    "        else:\n",
    "            raise NotImplementedError(f\"mode = {mode} has not yet been implemented\")\n",
    "    else:\n",
    "        res = None\n",
    "        \n",
    "    return res"
   ]
  },
  {
   "cell_type": "code",
   "execution_count": null,
   "metadata": {},
   "outputs": [],
   "source": [
    "test_string = df_trucks.iloc[138].trucks_and_trailers"
   ]
  },
  {
   "cell_type": "code",
   "execution_count": null,
   "metadata": {},
   "outputs": [
    {
     "data": {
      "text/plain": [
       "80"
      ]
     },
     "execution_count": 17,
     "metadata": {},
     "output_type": "execute_result"
    }
   ],
   "source": [
    "clean_speed(test_string)"
   ]
  },
  {
   "cell_type": "code",
   "execution_count": null,
   "metadata": {},
   "outputs": [
    {
     "name": "stderr",
     "output_type": "stream",
     "text": [
      "/Users/lei.ma/opt/anaconda3/envs/mini-code/lib/python3.6/site-packages/ipykernel_launcher.py:1: SettingWithCopyWarning: \n",
      "A value is trying to be set on a copy of a slice from a DataFrame.\n",
      "Try using .loc[row_indexer,col_indexer] = value instead\n",
      "\n",
      "See the caveats in the documentation: https://pandas.pydata.org/pandas-docs/stable/user_guide/indexing.html#returning-a-view-versus-a-copy\n",
      "  \"\"\"Entry point for launching an IPython kernel.\n",
      "/Users/lei.ma/opt/anaconda3/envs/mini-code/lib/python3.6/site-packages/ipykernel_launcher.py:2: SettingWithCopyWarning: \n",
      "A value is trying to be set on a copy of a slice from a DataFrame.\n",
      "Try using .loc[row_indexer,col_indexer] = value instead\n",
      "\n",
      "See the caveats in the documentation: https://pandas.pydata.org/pandas-docs/stable/user_guide/indexing.html#returning-a-view-versus-a-copy\n",
      "  \n"
     ]
    }
   ],
   "source": [
    "df_trucks['trucks_and_trailers'] = df_trucks.trucks_and_trailers.apply(clean_speed)\n",
    "df_trucks['trucks_and_trailers_non_built_up'] = df_trucks.trucks_and_trailers_non_built_up.apply(clean_speed)"
   ]
  },
  {
   "cell_type": "code",
   "execution_count": null,
   "metadata": {},
   "outputs": [
    {
     "data": {
      "text/html": [
       "<div>\n",
       "<style scoped>\n",
       "    .dataframe tbody tr th:only-of-type {\n",
       "        vertical-align: middle;\n",
       "    }\n",
       "\n",
       "    .dataframe tbody tr th {\n",
       "        vertical-align: top;\n",
       "    }\n",
       "\n",
       "    .dataframe thead th {\n",
       "        text-align: right;\n",
       "    }\n",
       "</style>\n",
       "<table border=\"1\" class=\"dataframe\">\n",
       "  <thead>\n",
       "    <tr style=\"text-align: right;\">\n",
       "      <th></th>\n",
       "      <th>country</th>\n",
       "      <th>trucks_and_trailers</th>\n",
       "      <th>trucks_and_trailers_non_built_up</th>\n",
       "    </tr>\n",
       "  </thead>\n",
       "  <tbody>\n",
       "    <tr>\n",
       "      <th>117</th>\n",
       "      <td>Qatar</td>\n",
       "      <td>NaN</td>\n",
       "      <td>NaN</td>\n",
       "    </tr>\n",
       "    <tr>\n",
       "      <th>153</th>\n",
       "      <td>Vietnam</td>\n",
       "      <td>70.0</td>\n",
       "      <td>70.0</td>\n",
       "    </tr>\n",
       "    <tr>\n",
       "      <th>31</th>\n",
       "      <td>Croatia</td>\n",
       "      <td>80.0</td>\n",
       "      <td>80.0</td>\n",
       "    </tr>\n",
       "    <tr>\n",
       "      <th>18</th>\n",
       "      <td>Bosnia and Herzegovina</td>\n",
       "      <td>80.0</td>\n",
       "      <td>NaN</td>\n",
       "    </tr>\n",
       "    <tr>\n",
       "      <th>5</th>\n",
       "      <td>Andorra</td>\n",
       "      <td>NaN</td>\n",
       "      <td>NaN</td>\n",
       "    </tr>\n",
       "    <tr>\n",
       "      <th>104</th>\n",
       "      <td>Nigeria</td>\n",
       "      <td>NaN</td>\n",
       "      <td>NaN</td>\n",
       "    </tr>\n",
       "    <tr>\n",
       "      <th>106</th>\n",
       "      <td>North Korea</td>\n",
       "      <td>NaN</td>\n",
       "      <td>NaN</td>\n",
       "    </tr>\n",
       "    <tr>\n",
       "      <th>97</th>\n",
       "      <td>Micronesia</td>\n",
       "      <td>NaN</td>\n",
       "      <td>NaN</td>\n",
       "    </tr>\n",
       "    <tr>\n",
       "      <th>111</th>\n",
       "      <td>Papua New Guinea</td>\n",
       "      <td>NaN</td>\n",
       "      <td>NaN</td>\n",
       "    </tr>\n",
       "    <tr>\n",
       "      <th>61</th>\n",
       "      <td>Iran</td>\n",
       "      <td>110.0</td>\n",
       "      <td>110.0</td>\n",
       "    </tr>\n",
       "    <tr>\n",
       "      <th>59</th>\n",
       "      <td>India</td>\n",
       "      <td>65.0</td>\n",
       "      <td>50.0</td>\n",
       "    </tr>\n",
       "    <tr>\n",
       "      <th>151</th>\n",
       "      <td>Vatican</td>\n",
       "      <td>NaN</td>\n",
       "      <td>NaN</td>\n",
       "    </tr>\n",
       "    <tr>\n",
       "      <th>45</th>\n",
       "      <td>Finland</td>\n",
       "      <td>80.0</td>\n",
       "      <td>80.0</td>\n",
       "    </tr>\n",
       "    <tr>\n",
       "      <th>88</th>\n",
       "      <td>Malta</td>\n",
       "      <td>60.0</td>\n",
       "      <td>NaN</td>\n",
       "    </tr>\n",
       "    <tr>\n",
       "      <th>12</th>\n",
       "      <td>Belarus</td>\n",
       "      <td>70.0</td>\n",
       "      <td>90.0</td>\n",
       "    </tr>\n",
       "    <tr>\n",
       "      <th>48</th>\n",
       "      <td>Germany</td>\n",
       "      <td>80.0</td>\n",
       "      <td>80.0</td>\n",
       "    </tr>\n",
       "    <tr>\n",
       "      <th>32</th>\n",
       "      <td>Cuba</td>\n",
       "      <td>NaN</td>\n",
       "      <td>NaN</td>\n",
       "    </tr>\n",
       "    <tr>\n",
       "      <th>46</th>\n",
       "      <td>France</td>\n",
       "      <td>110.0</td>\n",
       "      <td>130.0</td>\n",
       "    </tr>\n",
       "    <tr>\n",
       "      <th>119</th>\n",
       "      <td>Russia</td>\n",
       "      <td>90.0</td>\n",
       "      <td>90.0</td>\n",
       "    </tr>\n",
       "    <tr>\n",
       "      <th>148</th>\n",
       "      <td>Uruguay</td>\n",
       "      <td>NaN</td>\n",
       "      <td>NaN</td>\n",
       "    </tr>\n",
       "  </tbody>\n",
       "</table>\n",
       "</div>"
      ],
      "text/plain": [
       "                    country  trucks_and_trailers  \\\n",
       "117                   Qatar                  NaN   \n",
       "153                 Vietnam                 70.0   \n",
       "31                  Croatia                 80.0   \n",
       "18   Bosnia and Herzegovina                 80.0   \n",
       "5                   Andorra                  NaN   \n",
       "104                 Nigeria                  NaN   \n",
       "106             North Korea                  NaN   \n",
       "97               Micronesia                  NaN   \n",
       "111        Papua New Guinea                  NaN   \n",
       "61                     Iran                110.0   \n",
       "59                    India                 65.0   \n",
       "151                 Vatican                  NaN   \n",
       "45                  Finland                 80.0   \n",
       "88                    Malta                 60.0   \n",
       "12                  Belarus                 70.0   \n",
       "48                  Germany                 80.0   \n",
       "32                     Cuba                  NaN   \n",
       "46                   France                110.0   \n",
       "119                  Russia                 90.0   \n",
       "148                 Uruguay                  NaN   \n",
       "\n",
       "     trucks_and_trailers_non_built_up  \n",
       "117                               NaN  \n",
       "153                              70.0  \n",
       "31                               80.0  \n",
       "18                                NaN  \n",
       "5                                 NaN  \n",
       "104                               NaN  \n",
       "106                               NaN  \n",
       "97                                NaN  \n",
       "111                               NaN  \n",
       "61                              110.0  \n",
       "59                               50.0  \n",
       "151                               NaN  \n",
       "45                               80.0  \n",
       "88                                NaN  \n",
       "12                               90.0  \n",
       "48                               80.0  \n",
       "32                                NaN  \n",
       "46                              130.0  \n",
       "119                              90.0  \n",
       "148                               NaN  "
      ]
     },
     "execution_count": 19,
     "metadata": {},
     "output_type": "execute_result"
    }
   ],
   "source": [
    "df_trucks.sample(20)"
   ]
  },
  {
   "cell_type": "markdown",
   "metadata": {},
   "source": [
    "### Validate results"
   ]
  },
  {
   "cell_type": "markdown",
   "metadata": {},
   "source": [
    "Check if speed limit is too high"
   ]
  },
  {
   "cell_type": "code",
   "execution_count": null,
   "metadata": {},
   "outputs": [
    {
     "data": {
      "text/html": [
       "<div>\n",
       "<style scoped>\n",
       "    .dataframe tbody tr th:only-of-type {\n",
       "        vertical-align: middle;\n",
       "    }\n",
       "\n",
       "    .dataframe tbody tr th {\n",
       "        vertical-align: top;\n",
       "    }\n",
       "\n",
       "    .dataframe thead th {\n",
       "        text-align: right;\n",
       "    }\n",
       "</style>\n",
       "<table border=\"1\" class=\"dataframe\">\n",
       "  <thead>\n",
       "    <tr style=\"text-align: right;\">\n",
       "      <th></th>\n",
       "      <th>country</th>\n",
       "      <th>trucks_and_trailers</th>\n",
       "      <th>trucks_and_trailers_non_built_up</th>\n",
       "    </tr>\n",
       "  </thead>\n",
       "  <tbody>\n",
       "    <tr>\n",
       "      <th>118</th>\n",
       "      <td>Romania</td>\n",
       "      <td>8090.0</td>\n",
       "      <td>90.0</td>\n",
       "    </tr>\n",
       "  </tbody>\n",
       "</table>\n",
       "</div>"
      ],
      "text/plain": [
       "     country  trucks_and_trailers  trucks_and_trailers_non_built_up\n",
       "118  Romania               8090.0                              90.0"
      ]
     },
     "execution_count": 20,
     "metadata": {},
     "output_type": "execute_result"
    }
   ],
   "source": [
    "df_trucks.loc[\n",
    "    df_trucks.trucks_and_trailers > 200\n",
    "]"
   ]
  },
  {
   "cell_type": "markdown",
   "metadata": {},
   "source": [
    "Here is the original data"
   ]
  },
  {
   "cell_type": "code",
   "execution_count": null,
   "metadata": {},
   "outputs": [
    {
     "data": {
      "text/html": [
       "<div>\n",
       "<style scoped>\n",
       "    .dataframe tbody tr th:only-of-type {\n",
       "        vertical-align: middle;\n",
       "    }\n",
       "\n",
       "    .dataframe tbody tr th {\n",
       "        vertical-align: top;\n",
       "    }\n",
       "\n",
       "    .dataframe thead th {\n",
       "        text-align: right;\n",
       "    }\n",
       "</style>\n",
       "<table border=\"1\" class=\"dataframe\">\n",
       "  <thead>\n",
       "    <tr style=\"text-align: right;\">\n",
       "      <th></th>\n",
       "      <th>country</th>\n",
       "      <th>Within towns(officially: within built-up area[4] or Urban road)</th>\n",
       "      <th>Automobiles &amp; motorcycles (single carriageway)</th>\n",
       "      <th>Automobiles &amp; motorcycles Expressways/motorways (dual carriageway)</th>\n",
       "      <th>trucks_and_trailers</th>\n",
       "      <th>trucks_and_trailers_non_built_up</th>\n",
       "      <th>Enforcement tolerance</th>\n",
       "      <th>Unnamed: 7</th>\n",
       "    </tr>\n",
       "  </thead>\n",
       "  <tbody>\n",
       "    <tr>\n",
       "      <th>118</th>\n",
       "      <td>Romania Main article: Speed limits in Romania</td>\n",
       "      <td>5070 (some DN stretches)</td>\n",
       "      <td>90100 (E-roads)</td>\n",
       "      <td>130[fn 30] (motorways)100 (expressways)</td>\n",
       "      <td>8090 (E-roads)</td>\n",
       "      <td>90 (expressways)110 (motorways)</td>\n",
       "      <td>10 km/h</td>\n",
       "      <td>NaN</td>\n",
       "    </tr>\n",
       "  </tbody>\n",
       "</table>\n",
       "</div>"
      ],
      "text/plain": [
       "                                           country  \\\n",
       "118  Romania Main article: Speed limits in Romania   \n",
       "\n",
       "    Within towns(officially: within built-up area[4] or Urban road)  \\\n",
       "118                           5070 (some DN stretches)                \n",
       "\n",
       "    Automobiles & motorcycles (single carriageway)  \\\n",
       "118                                90100 (E-roads)   \n",
       "\n",
       "    Automobiles & motorcycles Expressways/motorways (dual carriageway)  \\\n",
       "118            130[fn 30] (motorways)100 (expressways)                   \n",
       "\n",
       "    trucks_and_trailers trucks_and_trailers_non_built_up  \\\n",
       "118      8090 (E-roads)  90 (expressways)110 (motorways)   \n",
       "\n",
       "    Enforcement tolerance  Unnamed: 7  \n",
       "118               10 km/h         NaN  "
      ]
     },
     "execution_count": 21,
     "metadata": {},
     "output_type": "execute_result"
    }
   ],
   "source": [
    "df.loc[\n",
    "    (\n",
    "        df_trucks.trucks_and_trailers > 200\n",
    "    )\n",
    "]"
   ]
  },
  {
   "cell_type": "markdown",
   "metadata": {},
   "source": [
    "Other columns"
   ]
  },
  {
   "cell_type": "code",
   "execution_count": null,
   "metadata": {},
   "outputs": [
    {
     "data": {
      "text/html": [
       "<div>\n",
       "<style scoped>\n",
       "    .dataframe tbody tr th:only-of-type {\n",
       "        vertical-align: middle;\n",
       "    }\n",
       "\n",
       "    .dataframe tbody tr th {\n",
       "        vertical-align: top;\n",
       "    }\n",
       "\n",
       "    .dataframe thead th {\n",
       "        text-align: right;\n",
       "    }\n",
       "</style>\n",
       "<table border=\"1\" class=\"dataframe\">\n",
       "  <thead>\n",
       "    <tr style=\"text-align: right;\">\n",
       "      <th></th>\n",
       "      <th>country</th>\n",
       "      <th>Within towns(officially: within built-up area[4] or Urban road)</th>\n",
       "      <th>Automobiles &amp; motorcycles (single carriageway)</th>\n",
       "      <th>Automobiles &amp; motorcycles Expressways/motorways (dual carriageway)</th>\n",
       "      <th>trucks_and_trailers</th>\n",
       "      <th>trucks_and_trailers_non_built_up</th>\n",
       "      <th>Enforcement tolerance</th>\n",
       "      <th>Unnamed: 7</th>\n",
       "    </tr>\n",
       "  </thead>\n",
       "  <tbody>\n",
       "  </tbody>\n",
       "</table>\n",
       "</div>"
      ],
      "text/plain": [
       "Empty DataFrame\n",
       "Columns: [country, Within towns(officially: within built-up area[4] or Urban road), Automobiles & motorcycles (single carriageway), Automobiles & motorcycles Expressways/motorways (dual carriageway), trucks_and_trailers, trucks_and_trailers_non_built_up, Enforcement tolerance, Unnamed: 7]\n",
       "Index: []"
      ]
     },
     "execution_count": 22,
     "metadata": {},
     "output_type": "execute_result"
    }
   ],
   "source": [
    "df.loc[\n",
    "    (\n",
    "        df_trucks.trucks_and_trailers_non_built_up > 200\n",
    "    )\n",
    "]"
   ]
  },
  {
   "cell_type": "markdown",
   "metadata": {},
   "source": [
    "Fix the data"
   ]
  },
  {
   "cell_type": "code",
   "execution_count": null,
   "metadata": {},
   "outputs": [
    {
     "name": "stderr",
     "output_type": "stream",
     "text": [
      "/Users/lei.ma/opt/anaconda3/envs/mini-code/lib/python3.6/site-packages/pandas/core/indexing.py:965: SettingWithCopyWarning: \n",
      "A value is trying to be set on a copy of a slice from a DataFrame.\n",
      "Try using .loc[row_indexer,col_indexer] = value instead\n",
      "\n",
      "See the caveats in the documentation: https://pandas.pydata.org/pandas-docs/stable/user_guide/indexing.html#returning-a-view-versus-a-copy\n",
      "  self.obj[item] = s\n"
     ]
    }
   ],
   "source": [
    "df_trucks.loc[df_trucks.country==\"Romania\", 'trucks_and_trailers'] = 90"
   ]
  },
  {
   "cell_type": "markdown",
   "metadata": {},
   "source": [
    "Validate modifications"
   ]
  },
  {
   "cell_type": "code",
   "execution_count": null,
   "metadata": {},
   "outputs": [
    {
     "data": {
      "text/html": [
       "<div>\n",
       "<style scoped>\n",
       "    .dataframe tbody tr th:only-of-type {\n",
       "        vertical-align: middle;\n",
       "    }\n",
       "\n",
       "    .dataframe tbody tr th {\n",
       "        vertical-align: top;\n",
       "    }\n",
       "\n",
       "    .dataframe thead th {\n",
       "        text-align: right;\n",
       "    }\n",
       "</style>\n",
       "<table border=\"1\" class=\"dataframe\">\n",
       "  <thead>\n",
       "    <tr style=\"text-align: right;\">\n",
       "      <th></th>\n",
       "      <th>country</th>\n",
       "      <th>trucks_and_trailers</th>\n",
       "      <th>trucks_and_trailers_non_built_up</th>\n",
       "    </tr>\n",
       "  </thead>\n",
       "  <tbody>\n",
       "  </tbody>\n",
       "</table>\n",
       "</div>"
      ],
      "text/plain": [
       "Empty DataFrame\n",
       "Columns: [country, trucks_and_trailers, trucks_and_trailers_non_built_up]\n",
       "Index: []"
      ]
     },
     "execution_count": 24,
     "metadata": {},
     "output_type": "execute_result"
    }
   ],
   "source": [
    "df_trucks.loc[\n",
    "    df_trucks.trucks_and_trailers > 200\n",
    "]"
   ]
  },
  {
   "cell_type": "markdown",
   "metadata": {},
   "source": [
    "Check if speed limti is too low"
   ]
  },
  {
   "cell_type": "code",
   "execution_count": null,
   "metadata": {},
   "outputs": [
    {
     "data": {
      "text/html": [
       "<div>\n",
       "<style scoped>\n",
       "    .dataframe tbody tr th:only-of-type {\n",
       "        vertical-align: middle;\n",
       "    }\n",
       "\n",
       "    .dataframe tbody tr th {\n",
       "        vertical-align: top;\n",
       "    }\n",
       "\n",
       "    .dataframe thead th {\n",
       "        text-align: right;\n",
       "    }\n",
       "</style>\n",
       "<table border=\"1\" class=\"dataframe\">\n",
       "  <thead>\n",
       "    <tr style=\"text-align: right;\">\n",
       "      <th></th>\n",
       "      <th>country</th>\n",
       "      <th>trucks_and_trailers</th>\n",
       "      <th>trucks_and_trailers_non_built_up</th>\n",
       "    </tr>\n",
       "  </thead>\n",
       "  <tbody>\n",
       "    <tr>\n",
       "      <th>71</th>\n",
       "      <td>Kiribati</td>\n",
       "      <td>30.0</td>\n",
       "      <td>30.0</td>\n",
       "    </tr>\n",
       "    <tr>\n",
       "      <th>131</th>\n",
       "      <td>Sri Lanka</td>\n",
       "      <td>40.0</td>\n",
       "      <td>70.0</td>\n",
       "    </tr>\n",
       "    <tr>\n",
       "      <th>147</th>\n",
       "      <td>United States</td>\n",
       "      <td>16.0</td>\n",
       "      <td>129.0</td>\n",
       "    </tr>\n",
       "  </tbody>\n",
       "</table>\n",
       "</div>"
      ],
      "text/plain": [
       "           country  trucks_and_trailers  trucks_and_trailers_non_built_up\n",
       "71        Kiribati                 30.0                              30.0\n",
       "131      Sri Lanka                 40.0                              70.0\n",
       "147  United States                 16.0                             129.0"
      ]
     },
     "execution_count": 35,
     "metadata": {},
     "output_type": "execute_result"
    }
   ],
   "source": [
    "df_trucks.loc[\n",
    "    df_trucks.trucks_and_trailers < 50\n",
    "]"
   ]
  },
  {
   "cell_type": "code",
   "execution_count": null,
   "metadata": {},
   "outputs": [
    {
     "data": {
      "text/html": [
       "<div>\n",
       "<style scoped>\n",
       "    .dataframe tbody tr th:only-of-type {\n",
       "        vertical-align: middle;\n",
       "    }\n",
       "\n",
       "    .dataframe tbody tr th {\n",
       "        vertical-align: top;\n",
       "    }\n",
       "\n",
       "    .dataframe thead th {\n",
       "        text-align: right;\n",
       "    }\n",
       "</style>\n",
       "<table border=\"1\" class=\"dataframe\">\n",
       "  <thead>\n",
       "    <tr style=\"text-align: right;\">\n",
       "      <th></th>\n",
       "      <th>country</th>\n",
       "      <th>Within towns(officially: within built-up area[4] or Urban road)</th>\n",
       "      <th>Automobiles &amp; motorcycles (single carriageway)</th>\n",
       "      <th>Automobiles &amp; motorcycles Expressways/motorways (dual carriageway)</th>\n",
       "      <th>trucks_and_trailers</th>\n",
       "      <th>trucks_and_trailers_non_built_up</th>\n",
       "      <th>Enforcement tolerance</th>\n",
       "      <th>Unnamed: 7</th>\n",
       "    </tr>\n",
       "  </thead>\n",
       "  <tbody>\n",
       "    <tr>\n",
       "      <th>71</th>\n",
       "      <td>Kiribati[38]</td>\n",
       "      <td>30 (church/school/bus stop zones; pedestrian c...</td>\n",
       "      <td>60</td>\n",
       "      <td>NaN</td>\n",
       "      <td>30</td>\n",
       "      <td>30</td>\n",
       "      <td>NaN</td>\n",
       "      <td>NaN</td>\n",
       "    </tr>\n",
       "    <tr>\n",
       "      <th>131</th>\n",
       "      <td>Sri Lanka</td>\n",
       "      <td>50 (31 mph)</td>\n",
       "      <td>70 (43 mph)</td>\n",
       "      <td>70–100 (43–62 mph) (when 100 in expressways: p...</td>\n",
       "      <td>40 (25 mph) (TukTuk)</td>\n",
       "      <td>40–70 (25–43 mph)</td>\n",
       "      <td>NaN</td>\n",
       "      <td>NaN</td>\n",
       "    </tr>\n",
       "    <tr>\n",
       "      <th>147</th>\n",
       "      <td>United States[fn 1]Main articles: Speed limits...</td>\n",
       "      <td>40–120 (25–75 mph)[citation needed]</td>\n",
       "      <td>70-120 (45–75 mph)[fn 40]</td>\n",
       "      <td>100–130 (60–80 mph)[fn 41] 137 (85 mph) is all...</td>\n",
       "      <td>Restrictions only in few states, typically 16 ...</td>\n",
       "      <td>89–129 (55–80 mph)[fn 41]</td>\n",
       "      <td>States have jurisdiction over speed limits. En...</td>\n",
       "      <td>NaN</td>\n",
       "    </tr>\n",
       "  </tbody>\n",
       "</table>\n",
       "</div>"
      ],
      "text/plain": [
       "                                               country  \\\n",
       "71                                        Kiribati[38]   \n",
       "131                                          Sri Lanka   \n",
       "147  United States[fn 1]Main articles: Speed limits...   \n",
       "\n",
       "    Within towns(officially: within built-up area[4] or Urban road)  \\\n",
       "71   30 (church/school/bus stop zones; pedestrian c...                \n",
       "131                                        50 (31 mph)                \n",
       "147                40–120 (25–75 mph)[citation needed]                \n",
       "\n",
       "    Automobiles & motorcycles (single carriageway)  \\\n",
       "71                                              60   \n",
       "131                                    70 (43 mph)   \n",
       "147                      70-120 (45–75 mph)[fn 40]   \n",
       "\n",
       "    Automobiles & motorcycles Expressways/motorways (dual carriageway)  \\\n",
       "71                                                 NaN                   \n",
       "131  70–100 (43–62 mph) (when 100 in expressways: p...                   \n",
       "147  100–130 (60–80 mph)[fn 41] 137 (85 mph) is all...                   \n",
       "\n",
       "                                   trucks_and_trailers  \\\n",
       "71                                                  30   \n",
       "131                               40 (25 mph) (TukTuk)   \n",
       "147  Restrictions only in few states, typically 16 ...   \n",
       "\n",
       "    trucks_and_trailers_non_built_up  \\\n",
       "71                                30   \n",
       "131                40–70 (25–43 mph)   \n",
       "147        89–129 (55–80 mph)[fn 41]   \n",
       "\n",
       "                                 Enforcement tolerance  Unnamed: 7  \n",
       "71                                                 NaN         NaN  \n",
       "131                                                NaN         NaN  \n",
       "147  States have jurisdiction over speed limits. En...         NaN  "
      ]
     },
     "execution_count": 36,
     "metadata": {},
     "output_type": "execute_result"
    }
   ],
   "source": [
    "df.loc[\n",
    "    (\n",
    "        df_trucks.trucks_and_trailers < 50\n",
    "    )\n",
    "]"
   ]
  },
  {
   "cell_type": "code",
   "execution_count": null,
   "metadata": {},
   "outputs": [
    {
     "name": "stderr",
     "output_type": "stream",
     "text": [
      "/Users/lei.ma/opt/anaconda3/envs/mini-code/lib/python3.6/site-packages/pandas/core/indexing.py:965: SettingWithCopyWarning: \n",
      "A value is trying to be set on a copy of a slice from a DataFrame.\n",
      "Try using .loc[row_indexer,col_indexer] = value instead\n",
      "\n",
      "See the caveats in the documentation: https://pandas.pydata.org/pandas-docs/stable/user_guide/indexing.html#returning-a-view-versus-a-copy\n",
      "  self.obj[item] = s\n"
     ]
    }
   ],
   "source": [
    "df_trucks.loc[df_trucks.country==\"United States\", 'trucks_and_trailers'] = np.nan"
   ]
  },
  {
   "cell_type": "code",
   "execution_count": null,
   "metadata": {},
   "outputs": [
    {
     "data": {
      "text/html": [
       "<div>\n",
       "<style scoped>\n",
       "    .dataframe tbody tr th:only-of-type {\n",
       "        vertical-align: middle;\n",
       "    }\n",
       "\n",
       "    .dataframe tbody tr th {\n",
       "        vertical-align: top;\n",
       "    }\n",
       "\n",
       "    .dataframe thead th {\n",
       "        text-align: right;\n",
       "    }\n",
       "</style>\n",
       "<table border=\"1\" class=\"dataframe\">\n",
       "  <thead>\n",
       "    <tr style=\"text-align: right;\">\n",
       "      <th></th>\n",
       "      <th>country</th>\n",
       "      <th>trucks_and_trailers</th>\n",
       "      <th>trucks_and_trailers_non_built_up</th>\n",
       "    </tr>\n",
       "  </thead>\n",
       "  <tbody>\n",
       "    <tr>\n",
       "      <th>71</th>\n",
       "      <td>Kiribati</td>\n",
       "      <td>30.0</td>\n",
       "      <td>30.0</td>\n",
       "    </tr>\n",
       "    <tr>\n",
       "      <th>131</th>\n",
       "      <td>Sri Lanka</td>\n",
       "      <td>40.0</td>\n",
       "      <td>70.0</td>\n",
       "    </tr>\n",
       "  </tbody>\n",
       "</table>\n",
       "</div>"
      ],
      "text/plain": [
       "       country  trucks_and_trailers  trucks_and_trailers_non_built_up\n",
       "71    Kiribati                 30.0                              30.0\n",
       "131  Sri Lanka                 40.0                              70.0"
      ]
     },
     "execution_count": 43,
     "metadata": {},
     "output_type": "execute_result"
    }
   ],
   "source": [
    "df_trucks.loc[\n",
    "    df_trucks.trucks_and_trailers < 50\n",
    "]"
   ]
  },
  {
   "cell_type": "markdown",
   "metadata": {},
   "source": [
    "trucks_and_trailers_non_built_up column"
   ]
  },
  {
   "cell_type": "code",
   "execution_count": null,
   "metadata": {},
   "outputs": [
    {
     "data": {
      "text/html": [
       "<div>\n",
       "<style scoped>\n",
       "    .dataframe tbody tr th:only-of-type {\n",
       "        vertical-align: middle;\n",
       "    }\n",
       "\n",
       "    .dataframe tbody tr th {\n",
       "        vertical-align: top;\n",
       "    }\n",
       "\n",
       "    .dataframe thead th {\n",
       "        text-align: right;\n",
       "    }\n",
       "</style>\n",
       "<table border=\"1\" class=\"dataframe\">\n",
       "  <thead>\n",
       "    <tr style=\"text-align: right;\">\n",
       "      <th></th>\n",
       "      <th>country</th>\n",
       "      <th>Within towns(officially: within built-up area[4] or Urban road)</th>\n",
       "      <th>Automobiles &amp; motorcycles (single carriageway)</th>\n",
       "      <th>Automobiles &amp; motorcycles Expressways/motorways (dual carriageway)</th>\n",
       "      <th>trucks_and_trailers</th>\n",
       "      <th>trucks_and_trailers_non_built_up</th>\n",
       "      <th>Enforcement tolerance</th>\n",
       "      <th>Unnamed: 7</th>\n",
       "    </tr>\n",
       "  </thead>\n",
       "  <tbody>\n",
       "    <tr>\n",
       "      <th>71</th>\n",
       "      <td>Kiribati[38]</td>\n",
       "      <td>30 (church/school/bus stop zones; pedestrian c...</td>\n",
       "      <td>60</td>\n",
       "      <td>NaN</td>\n",
       "      <td>30</td>\n",
       "      <td>30</td>\n",
       "      <td>NaN</td>\n",
       "      <td>NaN</td>\n",
       "    </tr>\n",
       "  </tbody>\n",
       "</table>\n",
       "</div>"
      ],
      "text/plain": [
       "         country  \\\n",
       "71  Kiribati[38]   \n",
       "\n",
       "   Within towns(officially: within built-up area[4] or Urban road)  \\\n",
       "71  30 (church/school/bus stop zones; pedestrian c...                \n",
       "\n",
       "   Automobiles & motorcycles (single carriageway)  \\\n",
       "71                                             60   \n",
       "\n",
       "   Automobiles & motorcycles Expressways/motorways (dual carriageway)  \\\n",
       "71                                                NaN                   \n",
       "\n",
       "   trucks_and_trailers trucks_and_trailers_non_built_up Enforcement tolerance  \\\n",
       "71                  30                               30                   NaN   \n",
       "\n",
       "    Unnamed: 7  \n",
       "71         NaN  "
      ]
     },
     "execution_count": 44,
     "metadata": {},
     "output_type": "execute_result"
    }
   ],
   "source": [
    "df.loc[\n",
    "    (\n",
    "        df_trucks.trucks_and_trailers_non_built_up < 50\n",
    "    )\n",
    "]"
   ]
  },
  {
   "cell_type": "code",
   "execution_count": null,
   "metadata": {},
   "outputs": [],
   "source": []
  },
  {
   "cell_type": "code",
   "execution_count": null,
   "metadata": {},
   "outputs": [],
   "source": []
  },
  {
   "cell_type": "markdown",
   "metadata": {},
   "source": [
    "### Save Results"
   ]
  },
  {
   "cell_type": "code",
   "execution_count": null,
   "metadata": {},
   "outputs": [],
   "source": [
    "df_trucks.to_csv(\"assets/export/road-speed-limits-by-country/speed_limits_by_countries.csv\", index=False)"
   ]
  },
  {
   "cell_type": "code",
   "execution_count": null,
   "metadata": {},
   "outputs": [
    {
     "name": "stdout",
     "output_type": "stream",
     "text": [
      "|     | country                         | trucks_and_trailers   | trucks_and_trailers_non_built_up   |\n",
      "|----:|:--------------------------------|:----------------------|:-----------------------------------|\n",
      "|   0 | Åland (Finland)                 | -                     | -                                  |\n",
      "|   1 | Albania                         | 70.0                  | 80.0                               |\n",
      "|   2 | Argentina                       | 80.0                  | 80.0                               |\n",
      "|   3 | Armenia                         | 90.0                  | 90.0                               |\n",
      "|   4 | Aruba                           | -                     | -                                  |\n",
      "|   5 | Andorra                         | -                     | -                                  |\n",
      "|   6 | Australia                       | 100.0                 | 110.0                              |\n",
      "|   7 | Austria                         | 100.0                 | 100.0                              |\n",
      "|   8 | Azerbaijan                      | -                     | -                                  |\n",
      "|   9 | Azores                          | -                     | 80.0                               |\n",
      "|  10 | Bahamas                         | -                     | -                                  |\n",
      "|  11 | Bahrain                         | -                     | -                                  |\n",
      "|  12 | Belarus                         | 70.0                  | 90.0                               |\n",
      "|  13 | Belgium                         | 70.0                  | 90.0                               |\n",
      "|  14 | Belgium: Wallonia Brussels      | 90.0                  | 90.0                               |\n",
      "|  15 | Belize                          | -                     | -                                  |\n",
      "|  16 | Benin                           | -                     | -                                  |\n",
      "|  17 | Bhutan                          | -                     | -                                  |\n",
      "|  18 | Bosnia and Herzegovina          | 80.0                  | -                                  |\n",
      "|  19 | Brazil                          | 90.0                  | 90.0                               |\n",
      "|  20 | Brunei                          | 80.0                  | 80.0                               |\n",
      "|  21 | Bulgaria                        | 70.0                  | 100.0                              |\n",
      "|  22 | Cambodia                        | 80.0                  | 100.0                              |\n",
      "|  23 | Cameroon                        | -                     | -                                  |\n",
      "|  24 | Canada                          | 120.0                 | 130.0                              |\n",
      "|  25 | People's Republic of China      | 80.0                  | 100.0                              |\n",
      "|  26 | Chile                           | 100.0                 | 100.0                              |\n",
      "|  27 | Christmas Island                | -                     | 90.0                               |\n",
      "|  28 | Colombia                        | 60.0                  | 90.0                               |\n",
      "|  29 | Costa Rica                      | 60.0                  | 60.0                               |\n",
      "|  30 | Côte d'Ivoire                   | 90.0                  | -                                  |\n",
      "|  31 | Croatia                         | 80.0                  | 80.0                               |\n",
      "|  32 | Cuba                            | -                     | -                                  |\n",
      "|  33 | Curaçao                         | -                     | -                                  |\n",
      "|  34 | Cyprus                          | 80.0                  | 100.0                              |\n",
      "|  35 | Czech Republic                  | 80.0                  | 80.0                               |\n",
      "|  36 | Denmark                         | 80.0                  | 80.0                               |\n",
      "|  37 | Dominican Republic              | -                     | -                                  |\n",
      "|  38 | Ecuador                         | 70.0                  | 90.0                               |\n",
      "|  39 | Egypt                           | -                     | -                                  |\n",
      "|  40 | El Salvador                     | -                     | -                                  |\n",
      "|  41 | Estonia                         | 90.0                  | 90.0                               |\n",
      "|  42 | Ethiopia                        | -                     | -                                  |\n",
      "|  43 | Faroe Islands (Denmark)         | -                     | -                                  |\n",
      "|  44 | Fiji                            | -                     | -                                  |\n",
      "|  45 | Finland                         | 80.0                  | 80.0                               |\n",
      "|  46 | France                          | 110.0                 | 130.0                              |\n",
      "|  47 | Georgia                         | 60.0                  | 80.0                               |\n",
      "|  48 | Germany                         | 80.0                  | 80.0                               |\n",
      "|  49 | Gibraltar (UK)                  | -                     | -                                  |\n",
      "|  50 | Greece                          | 80.0                  | 80.0                               |\n",
      "|  51 | Greenland (Denmark)             | -                     | -                                  |\n",
      "|  52 | Guernsey                        | -                     | 56.0                               |\n",
      "|  53 | Guyana                          | -                     | -                                  |\n",
      "|  54 | Haiti                           | -                     | -                                  |\n",
      "|  55 | Honduras                        | -                     | -                                  |\n",
      "|  56 | Hong Kong                       | 70.0                  | 70.0                               |\n",
      "|  57 | Hungary                         | 70.0                  | 80.0                               |\n",
      "|  58 | Iceland                         | 80.0                  | 80.0                               |\n",
      "|  59 | India                           | 65.0                  | 50.0                               |\n",
      "|  60 | Indonesia                       | 80.0                  | 80.0                               |\n",
      "|  61 | Iran                            | 110.0                 | 110.0                              |\n",
      "|  62 | Iraq                            | 90.0                  | 120.0                              |\n",
      "|  63 | Ireland                         | 90.0                  | 100.0                              |\n",
      "|  64 | Isle of Man                     | -                     | -                                  |\n",
      "|  65 | Israel                          | 80.0                  | 90.0                               |\n",
      "|  66 | Italy                           | 70.0                  | 80.0                               |\n",
      "|  67 | Jamaica                         | -                     | -                                  |\n",
      "|  68 | Japan                           | 80.0                  | 80.0                               |\n",
      "|  69 | Jersey                          | -                     | 64.0                               |\n",
      "|  70 | Kazakhstan                      | -                     | -                                  |\n",
      "|  71 | Kiribati                        | 30.0                  | 30.0                               |\n",
      "|  72 | Kosovo                          | -                     | -                                  |\n",
      "|  73 | Kuwait                          | 100.0                 | 120.0                              |\n",
      "|  74 | Kyrgyzstan                      | 70.0                  | 90.0                               |\n",
      "|  75 | Laos                            | 90.0                  | 100.0                              |\n",
      "|  76 | Latvia                          | 80.0                  | 90.0                               |\n",
      "|  77 | Lebanon                         | -                     | -                                  |\n",
      "|  78 | Liberia                         | -                     | -                                  |\n",
      "|  79 | Liechtenstein                   | 80.0                  | -                                  |\n",
      "|  80 | Lithuania                       | 90.0                  | 90.0                               |\n",
      "|  81 | Luxembourg                      | 90.0                  | 90.0                               |\n",
      "|  82 | Libya                           | -                     | -                                  |\n",
      "|  83 | Macau                           | -                     | -                                  |\n",
      "|  84 | North Macedonia                 | 100.0                 | -                                  |\n",
      "|  85 | Malawi                          | -                     | 80.0                               |\n",
      "|  86 | Malaysia                        | 70.0                  | 90.0                               |\n",
      "|  87 | Mali                            | -                     | -                                  |\n",
      "|  88 | Malta                           | 60.0                  | -                                  |\n",
      "|  89 | Mauritius                       | -                     | -                                  |\n",
      "|  90 | Moldova                         | 70.0                  | -                                  |\n",
      "|  91 | Morocco                         | -                     | 100.0                              |\n",
      "|  92 | Monaco                          | -                     | -                                  |\n",
      "|  93 | Mongolia                        | -                     | -                                  |\n",
      "|  94 | Montenegro                      | -                     | -                                  |\n",
      "|  95 | Mexico                          | 95.0                  | -                                  |\n",
      "|  96 | Namibia                         | -                     | -                                  |\n",
      "|  97 | Micronesia                      | -                     | -                                  |\n",
      "|  98 | Nepal                           | -                     | 110.0                              |\n",
      "|  99 | Netherlands                     | -                     | -                                  |\n",
      "| 100 | New Caledonia                   | -                     | -                                  |\n",
      "| 101 | New Zealand                     | 90.0                  | 90.0                               |\n",
      "| 102 | Niue                            | -                     | -                                  |\n",
      "| 103 | Nicaragua                       | -                     | -                                  |\n",
      "| 104 | Nigeria                         | -                     | -                                  |\n",
      "| 105 | Norfolk Island                  | -                     | 50.0                               |\n",
      "| 106 | North Korea                     | -                     | -                                  |\n",
      "| 107 | Norway                          | 80.0                  | 80.0                               |\n",
      "| 108 | Oman                            | 80.0                  | -                                  |\n",
      "| 109 | Palestine                       | 60.0                  | 60.0                               |\n",
      "| 110 | Panama                          | -                     | 100.0                              |\n",
      "| 111 | Papua New Guinea                | -                     | -                                  |\n",
      "| 112 | Pakistan                        | 80.0                  | 110.0                              |\n",
      "| 113 | Peru                            | 90.0                  | 100.0                              |\n",
      "| 114 | Philippines                     | 80.0                  | 60.0                               |\n",
      "| 115 | Poland                          | 70.0                  | 80.0                               |\n",
      "| 116 | Portugal                        | 80.0                  | 100.0                              |\n",
      "| 117 | Qatar                           | -                     | -                                  |\n",
      "| 118 | Romania                         | 90.0                  | 90.0                               |\n",
      "| 119 | Russia                          | 90.0                  | 90.0                               |\n",
      "| 120 | Samoa                           | -                     | -                                  |\n",
      "| 121 | San Marino                      | -                     | -                                  |\n",
      "| 122 | Serbia                          | 70.0                  | 80.0                               |\n",
      "| 123 | Singapore                       | 60.0                  | 60.0                               |\n",
      "| 124 | Slovakia                        | 90.0                  | 90.0                               |\n",
      "| 125 | Slovenia                        | 80.0                  | 80.0                               |\n",
      "| 126 | Saudi Arabia                    | 60.0                  | 100.0                              |\n",
      "| 127 | Somalia                         | 80.0                  | 100.0                              |\n",
      "| 128 | South Africa                    | 60.0                  | 80.0                               |\n",
      "| 129 | South Korea (Republic of Korea) | 60.0                  | 80.0                               |\n",
      "| 130 | Spain                           | 80.0                  | 90.0                               |\n",
      "| 131 | Sri Lanka                       | 40.0                  | 70.0                               |\n",
      "| 132 | Sudan                           | -                     | -                                  |\n",
      "| 133 | Suriname                        | -                     | 80.0                               |\n",
      "| 134 | Sweden                          | 90.0                  | 80.0                               |\n",
      "| 135 | Switzerland                     | 80.0                  | 80.0                               |\n",
      "| 136 | Taiwan (Republic of China)      | 80.0                  | 90.0                               |\n",
      "| 137 | Tanzania                        | 100.0                 | -                                  |\n",
      "| 138 | Thailand                        | 80.0                  | 100.0                              |\n",
      "| 139 | Trinidad and Tobago             | 50.0                  | 65.0                               |\n",
      "| 140 | Tunisia                         | -                     | -                                  |\n",
      "| 141 | Turkey                          | 80.0                  | 90.0                               |\n",
      "| 142 | Turkmenistan                    | -                     | -                                  |\n",
      "| 143 | Uganda                          | -                     | -                                  |\n",
      "| 144 | Ukraine                         | 90.0                  | 80.0                               |\n",
      "| 145 | United Arab Emirates            | 80.0                  | 80.0                               |\n",
      "| 146 | United Kingdom                  | 97.0                  | 113.0                              |\n",
      "| 147 | United States                   | -                     | 129.0                              |\n",
      "| 148 | Uruguay                         | -                     | -                                  |\n",
      "| 149 | Uzbekistan                      | 70.0                  | 90.0                               |\n",
      "| 150 | Vanuatu                         | -                     | -                                  |\n",
      "| 151 | Vatican                         | -                     | -                                  |\n",
      "| 152 | Venezuela                       | 60.0                  | 120.0                              |\n",
      "| 153 | Vietnam                         | 70.0                  | 70.0                               |\n",
      "| 154 | Yemen                           | -                     | -                                  |\n",
      "| 155 | Zambia                          | 75.0                  | 70.0                               |\n",
      "| 156 | Zimbabwe                        | 80.0                  | 80.0                               |\n"
     ]
    }
   ],
   "source": [
    "print(\n",
    "    df_trucks.fillna('-').to_markdown()\n",
    ")"
   ]
  },
  {
   "cell_type": "markdown",
   "metadata": {},
   "source": [
    "### Visualize"
   ]
  },
  {
   "cell_type": "code",
   "execution_count": null,
   "metadata": {},
   "outputs": [],
   "source": [
    "import matplotlib.pyplot as plt"
   ]
  },
  {
   "cell_type": "code",
   "execution_count": null,
   "metadata": {},
   "outputs": [],
   "source": [
    "import seaborn as sns;sns.set()"
   ]
  },
  {
   "cell_type": "code",
   "execution_count": null,
   "metadata": {},
   "outputs": [
    {
     "data": {
      "text/plain": [
       "Text(0.5, 1.0, 'Speed Limits for Trucks and Trailers')"
      ]
     },
     "execution_count": 57,
     "metadata": {},
     "output_type": "execute_result"
    },
    {
     "data": {
      "image/png": "[encoded data removed]",
      "text/plain": [
       "<Figure size 720x1440 with 1 Axes>"
      ]
     },
     "metadata": {},
     "output_type": "display_data"
    }
   ],
   "source": [
    "fig, ax = plt.subplots(figsize=(10, 20))\n",
    "\n",
    "vis_col = \"trucks_and_trailers\"\n",
    "\n",
    "sns.barplot(\n",
    "    y=\"country\",\n",
    "    x=vis_col,\n",
    "    data=df_trucks.sort_values(by=vis_col, ascending=False).dropna(subset=[vis_col]),\n",
    "    ax=ax\n",
    ")\n",
    "\n",
    "ax.set_title(\"Speed Limits for Trucks and Trailers\")"
   ]
  },
  {
   "cell_type": "code",
   "execution_count": null,
   "metadata": {},
   "outputs": [
    {
     "data": {
      "text/plain": [
       "Text(0.5, 1.0, 'Speed Limits for Trucks and Trailers outside Built-up Areas ')"
      ]
     },
     "execution_count": 58,
     "metadata": {},
     "output_type": "execute_result"
    },
    {
     "data": {
      "image/png": "[encoded data removed]",
      "text/plain": [
       "<Figure size 720x1440 with 1 Axes>"
      ]
     },
     "metadata": {},
     "output_type": "display_data"
    }
   ],
   "source": [
    "fig, ax = plt.subplots(figsize=(10, 20))\n",
    "\n",
    "vis_col = \"trucks_and_trailers_non_built_up\"\n",
    "\n",
    "sns.barplot(\n",
    "    y=\"country\",\n",
    "    x=vis_col,\n",
    "    data=df_trucks.sort_values(by=vis_col, ascending=False).dropna(subset=[vis_col]),\n",
    "    ax=ax\n",
    ")\n",
    "\n",
    "#Trucks, or automobiles with trailer, outside built-up areas/highways\n",
    "ax.set_title(\"Speed Limits for Trucks and Trailers outside Built-up Areas \")"
   ]
  },
  {
   "cell_type": "code",
   "execution_count": null,
   "metadata": {},
   "outputs": [],
   "source": []
  },
  {
   "cell_type": "code",
   "execution_count": null,
   "metadata": {},
   "outputs": [],
   "source": []
  }
 ],
 "metadata": {
  "kernelspec": {
   "display_name": "mini-lab",
   "language": "python",
   "name": "python3"
  },
  "language_info": {
   "codemirror_mode": {
    "name": "ipython",
    "version": 3
   },
   "file_extension": ".py",
   "mimetype": "text/x-python",
   "name": "python",
   "nbconvert_exporter": "python",
   "pygments_lexer": "ipython3",
   "version": "3.9.16"
  },
  "vscode": {
   "interpreter": {
    "hash": "e467efdff174b9cfab53e8ca5f6d304cc797bfb14bfea67d9f8e08ed2ec0841d"
   }
  }
 },
 "nbformat": 4,
 "nbformat_minor": 4
}
