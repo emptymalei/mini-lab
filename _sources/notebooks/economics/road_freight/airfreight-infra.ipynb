{
 "cells": [
  {
   "cell_type": "markdown",
   "metadata": {},
   "source": [
    "## Air Freight Infrastructure"
   ]
  },
  {
   "cell_type": "markdown",
   "metadata": {},
   "source": [
    "We use the data from\n",
    "\n",
    "https://ec.europa.eu/eurostat/databrowser/view/avia_if_arp/default/table?lang=en\n",
    "\n",
    "https://ec.europa.eu/eurostat/estat-navtree-portlet-prod/BulkDownloadListing?file=data/avia_if_arp.tsv.gz\n"
   ]
  },
  {
   "cell_type": "code",
   "execution_count": 1,
   "metadata": {},
   "outputs": [],
   "source": [
    "data_file = \"assets/airfreight-infra/avia_if_arp.tsv\""
   ]
  },
  {
   "cell_type": "code",
   "execution_count": 2,
   "metadata": {},
   "outputs": [],
   "source": [
    "import pandas as pd\n",
    "import matplotlib.pyplot as plt\n",
    "import seaborn as sns;sns.set()"
   ]
  },
  {
   "cell_type": "code",
   "execution_count": 3,
   "metadata": {},
   "outputs": [],
   "source": [
    "df = pd.read_csv(data_file, sep=\"\\t\", na_values=\": \")\n",
    "\n",
    "df.rename(columns=dict(zip(\n",
    "    df.columns,\n",
    "    [col.strip() for col in df.columns]\n",
    ")), inplace=True)"
   ]
  },
  {
   "cell_type": "code",
   "execution_count": 4,
   "metadata": {},
   "outputs": [],
   "source": [
    "df[\"country\"] = df[\"tra_infr,geo\\\\time\"].apply(lambda x: x.split(\",\")[-1])\n",
    "df[\"infra\"] = df[\"tra_infr,geo\\\\time\"].apply(lambda x: x.split(\",\")[0])"
   ]
  },
  {
   "cell_type": "code",
   "execution_count": 5,
   "metadata": {},
   "outputs": [
    {
     "data": {
      "text/plain": [
       "array(['AIRP', 'AIRP_MAIN', 'AIRP_OTH'], dtype=object)"
      ]
     },
     "execution_count": 5,
     "metadata": {},
     "output_type": "execute_result"
    }
   ],
   "source": [
    "df.infra.unique()"
   ]
  },
  {
   "cell_type": "code",
   "execution_count": 6,
   "metadata": {},
   "outputs": [
    {
     "data": {
      "text/plain": [
       "array([ 6.,  5.,  4.,  2., 41.,  8., 33., 38., 18., 62.,  7.,  3., 35.,\n",
       "        1., 39., 12., 13., 11., nan, 30., 50., 42., 24., 22., 34.,  9.,\n",
       "       44., 17., 32.,  0., 10.])"
      ]
     },
     "execution_count": 6,
     "metadata": {},
     "output_type": "execute_result"
    }
   ],
   "source": [
    "df[\"2017\"].unique()"
   ]
  },
  {
   "cell_type": "code",
   "execution_count": 7,
   "metadata": {},
   "outputs": [
    {
     "data": {
      "text/plain": [
       "507.0"
      ]
     },
     "execution_count": 7,
     "metadata": {},
     "output_type": "execute_result"
    }
   ],
   "source": [
    "df.loc[df.infra == \"AIRP\"][\"2017\"].sum()"
   ]
  },
  {
   "cell_type": "code",
   "execution_count": 8,
   "metadata": {},
   "outputs": [
    {
     "data": {
      "text/plain": [
       "365.0"
      ]
     },
     "execution_count": 8,
     "metadata": {},
     "output_type": "execute_result"
    }
   ],
   "source": [
    "df.loc[df.infra == \"AIRP_MAIN\"][\"2017\"].sum()"
   ]
  },
  {
   "cell_type": "code",
   "execution_count": 9,
   "metadata": {},
   "outputs": [
    {
     "data": {
      "text/plain": [
       "142.0"
      ]
     },
     "execution_count": 9,
     "metadata": {},
     "output_type": "execute_result"
    }
   ],
   "source": [
    "df.loc[df.infra == \"AIRP_OTH\"][\"2017\"].sum()"
   ]
  },
  {
   "cell_type": "code",
   "execution_count": 10,
   "metadata": {},
   "outputs": [
    {
     "data": {
      "text/plain": [
       "Text(0, 0.5, 'Airports')"
      ]
     },
     "execution_count": 10,
     "metadata": {},
     "output_type": "execute_result"
    },
    {
     "data": {
      "image/png": "[encoded data removed]",
      "text/plain": [
       "<Figure size 720x444.96 with 1 Axes>"
      ]
     },
     "metadata": {},
     "output_type": "display_data"
    }
   ],
   "source": [
    "fig, ax = plt.subplots(figsize=(10,6.18))\n",
    "\n",
    "sns.barplot(\n",
    "    x=\"index\",\n",
    "    y=\"sum\",\n",
    "    data = pd.DataFrame(\n",
    "        df.loc[df.infra == \"AIRP\"].drop(columns=[\"tra_infr,geo\\\\time\", \"country\", \"infra\"]).sum().sort_index(),\n",
    "        columns=[\"sum\"]\n",
    "    ).reset_index(),\n",
    "    ax=ax\n",
    ")\n",
    "\n",
    "ax.set_title(\"Number of Airports with More than 15000 Passenger Units per Year\")\n",
    "ax.set_xlabel(\"Year\")\n",
    "ax.set_ylabel(\"Airports\")"
   ]
  },
  {
   "cell_type": "markdown",
   "metadata": {},
   "source": [
    "### Freight and Mail Traffic"
   ]
  },
  {
   "cell_type": "markdown",
   "metadata": {},
   "source": [
    "https://ec.europa.eu/eurostat/databrowser/view/avia_gooac/default/table?lang=en"
   ]
  },
  {
   "cell_type": "code",
   "execution_count": 11,
   "metadata": {},
   "outputs": [],
   "source": [
    "df_freight = pd.read_csv(\"assets/airfreight-infra/estat_avia_gooac.tsv\", sep=\"\\t\")"
   ]
  },
  {
   "cell_type": "code",
   "execution_count": 12,
   "metadata": {},
   "outputs": [
    {
     "data": {
      "text/html": [
       "<div>\n",
       "<style scoped>\n",
       "    .dataframe tbody tr th:only-of-type {\n",
       "        vertical-align: middle;\n",
       "    }\n",
       "\n",
       "    .dataframe tbody tr th {\n",
       "        vertical-align: top;\n",
       "    }\n",
       "\n",
       "    .dataframe thead th {\n",
       "        text-align: right;\n",
       "    }\n",
       "</style>\n",
       "<table border=\"1\" class=\"dataframe\">\n",
       "  <thead>\n",
       "    <tr style=\"text-align: right;\">\n",
       "      <th></th>\n",
       "      <th>freq,unit,tra_meas,rep_airp,partner\\TIME_PERIOD</th>\n",
       "      <th>2019-Q4</th>\n",
       "    </tr>\n",
       "  </thead>\n",
       "  <tbody>\n",
       "    <tr>\n",
       "      <th>0</th>\n",
       "      <td>Q,T,FRM_BRD,AT_LOWG,EU28</td>\n",
       "      <td>22</td>\n",
       "    </tr>\n",
       "    <tr>\n",
       "      <th>3</th>\n",
       "      <td>Q,T,FRM_BRD,AT_LOWL,EU28</td>\n",
       "      <td>2500</td>\n",
       "    </tr>\n",
       "    <tr>\n",
       "      <th>4</th>\n",
       "      <td>Q,T,FRM_BRD,AT_LOWS,EU28</td>\n",
       "      <td>9</td>\n",
       "    </tr>\n",
       "    <tr>\n",
       "      <th>5</th>\n",
       "      <td>Q,T,FRM_BRD,AT_LOWW,EU28</td>\n",
       "      <td>22926</td>\n",
       "    </tr>\n",
       "    <tr>\n",
       "      <th>6</th>\n",
       "      <td>Q,T,FRM_BRD,BE_EBAW,EU28</td>\n",
       "      <td>333</td>\n",
       "    </tr>\n",
       "    <tr>\n",
       "      <th>...</th>\n",
       "      <td>...</td>\n",
       "      <td>...</td>\n",
       "    </tr>\n",
       "    <tr>\n",
       "      <th>414</th>\n",
       "      <td>Q,T,FRM_BRD,UK_EGPR,EU28</td>\n",
       "      <td>3</td>\n",
       "    </tr>\n",
       "    <tr>\n",
       "      <th>415</th>\n",
       "      <td>Q,T,FRM_BRD,UK_EGPU,EU28</td>\n",
       "      <td>15</td>\n",
       "    </tr>\n",
       "    <tr>\n",
       "      <th>416</th>\n",
       "      <td>Q,T,FRM_BRD,UK_EGSH,EU28</td>\n",
       "      <td>63</td>\n",
       "    </tr>\n",
       "    <tr>\n",
       "      <th>417</th>\n",
       "      <td>Q,T,FRM_BRD,UK_EGSS,EU28</td>\n",
       "      <td>27362</td>\n",
       "    </tr>\n",
       "    <tr>\n",
       "      <th>418</th>\n",
       "      <td>Q,T,FRM_BRD,UK_EGTE,EU28</td>\n",
       "      <td>934</td>\n",
       "    </tr>\n",
       "  </tbody>\n",
       "</table>\n",
       "<p>272 rows × 2 columns</p>\n",
       "</div>"
      ],
      "text/plain": [
       "    freq,unit,tra_meas,rep_airp,partner\\TIME_PERIOD  2019-Q4 \n",
       "0                          Q,T,FRM_BRD,AT_LOWG,EU28        22\n",
       "3                          Q,T,FRM_BRD,AT_LOWL,EU28      2500\n",
       "4                          Q,T,FRM_BRD,AT_LOWS,EU28         9\n",
       "5                          Q,T,FRM_BRD,AT_LOWW,EU28     22926\n",
       "6                          Q,T,FRM_BRD,BE_EBAW,EU28       333\n",
       "..                                              ...       ...\n",
       "414                        Q,T,FRM_BRD,UK_EGPR,EU28         3\n",
       "415                        Q,T,FRM_BRD,UK_EGPU,EU28        15\n",
       "416                        Q,T,FRM_BRD,UK_EGSH,EU28        63\n",
       "417                        Q,T,FRM_BRD,UK_EGSS,EU28     27362\n",
       "418                        Q,T,FRM_BRD,UK_EGTE,EU28       934\n",
       "\n",
       "[272 rows x 2 columns]"
      ]
     },
     "execution_count": 12,
     "metadata": {},
     "output_type": "execute_result"
    }
   ],
   "source": [
    "df_freight.loc[\n",
    "    df_freight[\"2019-Q4 \"] > 0\n",
    "].dropna()"
   ]
  },
  {
   "cell_type": "code",
   "execution_count": null,
   "metadata": {},
   "outputs": [],
   "source": []
  },
  {
   "cell_type": "code",
   "execution_count": null,
   "metadata": {},
   "outputs": [],
   "source": []
  }
 ],
 "metadata": {
  "kernelspec": {
   "display_name": "mini-lab",
   "language": "python",
   "name": "python3"
  },
  "language_info": {
   "codemirror_mode": {
    "name": "ipython",
    "version": 3
   },
   "file_extension": ".py",
   "mimetype": "text/x-python",
   "name": "python",
   "nbconvert_exporter": "python",
   "pygments_lexer": "ipython3",
   "version": "3.9.16"
  },
  "vscode": {
   "interpreter": {
    "hash": "e467efdff174b9cfab53e8ca5f6d304cc797bfb14bfea67d9f8e08ed2ec0841d"
   }
  }
 },
 "nbformat": 4,
 "nbformat_minor": 4
}
