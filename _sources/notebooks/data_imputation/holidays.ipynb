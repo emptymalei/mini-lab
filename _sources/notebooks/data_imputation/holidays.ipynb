{
 "cells": [
  {
   "attachments": {},
   "cell_type": "markdown",
   "metadata": {},
   "source": [
    "# Dealing with Holidays in Data"
   ]
  },
  {
   "cell_type": "code",
   "execution_count": null,
   "metadata": {
    "cell_id": "00000-f1bdffdd-08f2-4254-8834-fe325d69fdb0",
    "deepnote_cell_type": "code",
    "deepnote_to_be_reexecuted": false,
    "execution_millis": 8,
    "execution_start": 1624882027898,
    "source_hash": "7cf60b66",
    "tags": []
   },
   "outputs": [],
   "source": [
    "from workalendar.europe import Germany"
   ]
  },
  {
   "cell_type": "code",
   "execution_count": null,
   "metadata": {
    "cell_id": "00002-050aaed4-eed4-4175-bb72-1a29655bc4e0",
    "deepnote_cell_type": "code",
    "deepnote_to_be_reexecuted": false,
    "execution_millis": 16,
    "execution_start": 1624882053744,
    "source_hash": "9a9213d3",
    "tags": []
   },
   "outputs": [
    {
     "data": {
      "text/plain": [
       "[(datetime.date(2021, 1, 1), 'New year'),\n",
       " (datetime.date(2021, 4, 2), 'Good Friday'),\n",
       " (datetime.date(2021, 4, 5), 'Easter Monday'),\n",
       " (datetime.date(2021, 5, 1), 'Labour Day'),\n",
       " (datetime.date(2021, 5, 13), 'Ascension Thursday'),\n",
       " (datetime.date(2021, 5, 24), 'Whit Monday'),\n",
       " (datetime.date(2021, 10, 3), 'Day of German Unity'),\n",
       " (datetime.date(2021, 12, 25), 'Christmas Day'),\n",
       " (datetime.date(2021, 12, 26), 'Second Christmas Day')]"
      ]
     },
     "execution_count": 37,
     "metadata": {},
     "output_type": "execute_result"
    }
   ],
   "source": [
    "cal = Germany()\n",
    "cal.holidays()"
   ]
  },
  {
   "cell_type": "markdown",
   "metadata": {
    "cell_id": "00001-ef542cc9-fbd4-42b1-a48b-d543a8c901f7",
    "deepnote_cell_type": "markdown",
    "tags": []
   },
   "source": [
    "## holidays package"
   ]
  },
  {
   "cell_type": "code",
   "execution_count": null,
   "metadata": {
    "cell_id": "00000-6da366b5-9d78-457e-86d7-8a7360eca612",
    "deepnote_cell_type": "code",
    "deepnote_to_be_reexecuted": false,
    "execution_millis": 40,
    "execution_start": 1624879599476,
    "source_hash": "8f622486",
    "tags": []
   },
   "outputs": [],
   "source": [
    "from datetime import date\n",
    "\n",
    "import holidays\n"
   ]
  },
  {
   "cell_type": "code",
   "execution_count": null,
   "metadata": {
    "cell_id": "00001-ac9ad708-4f24-4d0c-bef4-1473af005220",
    "deepnote_cell_type": "code",
    "deepnote_to_be_reexecuted": false,
    "execution_millis": 2,
    "execution_start": 1624879659345,
    "source_hash": "23c56fdf",
    "tags": []
   },
   "outputs": [],
   "source": [
    "\n",
    "us_holidays = holidays.UnitedStates()\n",
    "de_holidays = holidays.Germany()\n",
    "# or:\n",
    "# us_holidays = holidays.US()\n",
    "# or:\n",
    "# us_holidays = holidays.CountryHoliday('US')\n",
    "# or, for specific prov / states:\n",
    "# us_holidays = holidays.CountryHoliday('US', prov=None, state='CA')\n"
   ]
  },
  {
   "cell_type": "code",
   "execution_count": null,
   "metadata": {
    "cell_id": "00003-c68f1ee2-0399-4543-b3f0-be5fa7ea24c3",
    "deepnote_cell_type": "code",
    "deepnote_to_be_reexecuted": false,
    "execution_millis": 23,
    "execution_start": 1624879839118,
    "source_hash": "c3a86a52",
    "tags": []
   },
   "outputs": [
    {
     "data": {
      "text/plain": [
       "True"
      ]
     },
     "execution_count": 18,
     "metadata": {},
     "output_type": "execute_result"
    }
   ],
   "source": [
    "date(2014, 1, 1) in holidays.US()"
   ]
  },
  {
   "cell_type": "code",
   "execution_count": null,
   "metadata": {
    "cell_id": "00004-67c5ddf6-2329-4790-b753-7c46bc98fc77",
    "deepnote_cell_type": "code",
    "deepnote_to_be_reexecuted": false,
    "execution_millis": 7,
    "execution_start": 1624881676864,
    "source_hash": "859259fb",
    "tags": []
   },
   "outputs": [
    {
     "name": "stdout",
     "output_type": "stream",
     "text": [
      "2021-01-01 Neujahr\n",
      "2021-04-02 Karfreitag\n",
      "2021-04-05 Ostermontag\n",
      "2021-05-01 Erster Mai\n",
      "2021-05-13 Christi Himmelfahrt\n",
      "2021-05-24 Pfingstmontag\n",
      "2021-10-03 Tag der Deutschen Einheit\n",
      "2021-12-25 Erster Weihnachtstag\n",
      "2021-12-26 Zweiter Weihnachtstag\n"
     ]
    }
   ],
   "source": [
    "for date, name in sorted(holidays.DE(years=2021).items()):\n",
    "    print(date, name)"
   ]
  },
  {
   "cell_type": "code",
   "execution_count": null,
   "metadata": {
    "cell_id": "00005-186f6a64-f940-485e-88a1-b0e38e87f4a9",
    "deepnote_cell_type": "code",
    "deepnote_to_be_reexecuted": false,
    "execution_millis": 13,
    "execution_start": 1624881757724,
    "source_hash": "490c24f4",
    "tags": []
   },
   "outputs": [
    {
     "ename": "TypeError",
     "evalue": "get_list() missing 1 required positional argument: 'key'",
     "output_type": "error",
     "traceback": [
      "\u001b[0;31m---------------------------------------------------------------------------\u001b[0m",
      "\u001b[0;31mTypeError\u001b[0m                                 Traceback (most recent call last)",
      "\u001b[0;32m<ipython-input-27-c177fb1b6a1b>\u001b[0m in \u001b[0;36m<module>\u001b[0;34m\u001b[0m\n\u001b[0;32m----> 1\u001b[0;31m \u001b[0mde_holidays\u001b[0m\u001b[0;34m.\u001b[0m\u001b[0mget_list\u001b[0m\u001b[0;34m(\u001b[0m\u001b[0;34m)\u001b[0m\u001b[0;34m\u001b[0m\u001b[0;34m\u001b[0m\u001b[0m\n\u001b[0m",
      "\u001b[0;31mTypeError\u001b[0m: get_list() missing 1 required positional argument: 'key'"
     ]
    }
   ],
   "source": [
    "de_holidays.get_list()"
   ]
  },
  {
   "cell_type": "code",
   "execution_count": null,
   "metadata": {
    "cell_id": "00003-c3ed3ab3-9822-4b01-8466-fb49324fe184",
    "deepnote_cell_type": "code",
    "tags": []
   },
   "outputs": [],
   "source": [
    "\n",
    "# The Holiday class will also recognize strings of any format\n",
    "# and int/float representing a Unix timestamp\n",
    "'2014-01-01' in us_holidays  # True\n",
    "'1/1/2014' in us_holidays    # True\n",
    "1388597445 in us_holidays    # True\n",
    "\n",
    "us_holidays.get('2014-01-01')  # \"New Year's Day\"\n",
    "\n",
    "us_holidays['2014-01-01': '2014-01-03']  # [date(2014, 1, 1)]\n",
    "\n",
    "us_pr_holidays = holidays.UnitedStates(state='PR')  # or holidays.US(...), or holidays.CountryHoliday('US', state='PR')\n",
    "\n",
    "# some holidays are only present in parts of a country\n",
    "'2018-01-06' in us_holidays     # False\n",
    "'2018-01-06' in us_pr_holidays  # True\n",
    "\n",
    "# Easily create custom Holiday objects with your own dates instead\n",
    "# of using the pre-defined countries/states/provinces available\n",
    "custom_holidays = holidays.HolidayBase()\n",
    "# Append custom holiday dates by passing:\n",
    "# 1) a dict with date/name key/value pairs,\n",
    "custom_holidays.append({\"2015-01-01\": \"New Year's Day\"})\n",
    "# 2) a list of dates (in any format: date, datetime, string, integer),\n",
    "custom_holidays.append(['2015-07-01', '07/04/2015'])\n",
    "# 3) a single date item\n",
    "custom_holidays.append(date(2015, 12, 25))\n",
    "\n",
    "date(2015, 1, 1) in custom_holidays  # True\n",
    "date(2015, 1, 2) in custom_holidays  # False\n",
    "'12/25/2015' in custom_holidays      # True\n",
    "\n",
    "# For more complex logic like 4th Monday of January, you can inherit the\n",
    "# HolidayBase class and define your own _populate(year) method. See below\n",
    "# documentation for examples."
   ]
  },
  {
   "cell_type": "markdown",
   "metadata": {
    "created_in_deepnote_cell": true,
    "deepnote_cell_type": "markdown",
    "tags": []
   },
   "source": [
    "<a style='text-decoration:none;line-height:16px;display:flex;color:#5B5B62;padding:10px;justify-content:end;' href='https://deepnote.com?utm_source=created-in-deepnote-cell&projectId=c8a1762a-62b2-46cf-95c0-ea77984dacfd' target=\"_blank\">\n",
    "<img alt='Created in deepnote.com' style='display:inline;max-height:16px;margin:0px;margin-right:7.5px;' src='data:image/svg+xml;base64,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' > </img>\n",
    "Created in <span style='font-weight:600;margin-left:4px;'>Deepnote</span></a>"
   ]
  }
 ],
 "metadata": {
  "deepnote": {
   "is_reactive": false
  },
  "deepnote_execution_queue": [],
  "deepnote_notebook_id": "8ec55565-6734-4acd-93f7-f63fab3988e9",
  "kernelspec": {
   "display_name": "Python 3",
   "language": "python",
   "name": "python3"
  },
  "language_info": {
   "name": "python",
   "version": "3.8.10"
  },
  "orig_nbformat": 2,
  "vscode": {
   "interpreter": {
    "hash": "31f2aee4e71d21fbe5cf8b01ff0e069b9275f58929596ceb00d14d90e3e16cd6"
   }
  }
 },
 "nbformat": 4,
 "nbformat_minor": 2
}
